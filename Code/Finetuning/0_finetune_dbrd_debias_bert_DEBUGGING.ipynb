{
 "cells": [
  {
   "cell_type": "code",
   "execution_count": 1,
   "metadata": {},
   "outputs": [],
   "source": [
    "# from debias_transformers import RobertaTokenizer, RobertaForSequenceClassification\n",
    "from debias_transformers import BertTokenizer, BertForSequenceClassification\n",
    "from torch.utils.data import DataLoader, Dataset, RandomSampler, SequentialSampler\n",
    "import torch\n",
    "from tqdm import tqdm, trange\n",
    "\n",
    "import logging\n",
    "logging.basicConfig(level=logging.INFO)\n",
    "\n",
    "import pandas as pd\n",
    "import numpy as np\n",
    "\n",
    "from torch.utils.data import DataLoader, RandomSampler, SequentialSampler, TensorDataset\n",
    "\n",
    "import matplotlib.pyplot as plt\n",
    "from sklearn.metrics import confusion_matrix\n",
    "import itertools\n",
    "from pycm import ConfusionMatrix\n",
    "\n",
    "import os\n",
    "import sys \n",
    "sys.path.insert(0, os.path.abspath(os.path.join('..')))\n",
    "from train import Train as RobBERTTrainer\n",
    "from textdataset import TextDataset, load_and_cache_examples"
   ]
  },
  {
   "cell_type": "code",
   "execution_count": 2,
   "metadata": {
    "tags": []
   },
   "outputs": [
    {
     "output_type": "stream",
     "name": "stderr",
     "text": "WARNING:smart_open.transport:unable to import 'smart_open.gcs', disabling that module\n"
    }
   ],
   "source": [
    "\n",
    "# %load_ext autoreload\n",
    "# %autoreload 2\n",
    "import debias_finetunning as sen_debias"
   ]
  },
  {
   "cell_type": "markdown",
   "metadata": {},
   "source": [
    "## Change per model:\n",
    "\n",
    "1. Model imports (e.g. BertTokenizer -> RobertaTokenizer)\n",
    "    - model name\n",
    "2. File where bias_subspace is.\n",
    "3. Examples files \n",
    "    - load_and_cache_examples(\"bert\", tokenizer, \"../../Rodrigo-data/Finetuning/dbrd/train\")\n",
    "4. Change name of file_pickle_stats to save stats and dont override\n",
    "5. Where we save the model output_dir = \"../../Rodrigo-data/Finetuning/dbrd/v2/bert_debiased/\"\n"
   ]
  },
  {
   "cell_type": "code",
   "execution_count": 3,
   "metadata": {
    "tags": []
   },
   "outputs": [
    {
     "output_type": "stream",
     "name": "stderr",
     "text": "INFO:debias_transformers.tokenization_utils_base:loading file https://s3.amazonaws.com/models.huggingface.co/bert/wietsedv/bert-base-dutch-cased/vocab.txt from cache at /home/ubuntu/.cache/torch/transformers/75d9be4cc7910048b3bdd477c435ffc46330193705f74eaf9a4f375cd3be28b2.1e00a56207196ed1759c49bdd1fa93c2fb20273d59fabb0c4c8092f7beb773c2\n"
    }
   ],
   "source": [
    "tokenizer = BertTokenizer.from_pretrained(\"wietsedv/bert-base-dutch-cased\")\n",
    "# tokenizer = RobertaTokenizer.from_pretrained(\"pdelobelle/robBERT-base\")"
   ]
  },
  {
   "cell_type": "code",
   "execution_count": 4,
   "metadata": {
    "tags": []
   },
   "outputs": [
    {
     "output_type": "stream",
     "name": "stderr",
     "text": "INFO:debias_transformers.configuration_utils:loading configuration file https://s3.amazonaws.com/models.huggingface.co/bert/wietsedv/bert-base-dutch-cased/config.json from cache at /home/ubuntu/.cache/torch/transformers/6702c5c53edb76b65d71f73ff2d9811ba62f16257ea58e36dedceffd71290a6a.1a78bd120fe46d78b55efa59f4ffa1dafcc9242743ab9fd6629d1b56672c9119\nINFO:debias_transformers.configuration_utils:Model config BertConfig {\n  \"architectures\": [\n    \"BertForMaskedLM\"\n  ],\n  \"attention_probs_dropout_prob\": 0.1,\n  \"gradient_checkpointing\": false,\n  \"hidden_act\": \"gelu\",\n  \"hidden_dropout_prob\": 0.1,\n  \"hidden_size\": 768,\n  \"initializer_range\": 0.02,\n  \"intermediate_size\": 3072,\n  \"layer_norm_eps\": 1e-12,\n  \"max_position_embeddings\": 512,\n  \"model_type\": \"bert\",\n  \"num_attention_heads\": 12,\n  \"num_hidden_layers\": 12,\n  \"pad_token_id\": 3,\n  \"type_vocab_size\": 2,\n  \"vocab_size\": 30000\n}\n\nINFO:debias_transformers.modeling_utils:loading weights file https://cdn.huggingface.co/wietsedv/bert-base-dutch-cased/pytorch_model.bin from cache at /home/ubuntu/.cache/torch/transformers/e5754f612ca0f16edba5b775fdddba806751f5e4b87c5e7f16cc0c8d8d17df4d.b7c03627733fd0712f078a4d3a31ad964550f50a6113efdf874ecbcf5ddf6b53\nWARNING:debias_transformers.modeling_utils:Some weights of the model checkpoint at wietsedv/bert-base-dutch-cased were not used when initializing BertForSequenceClassification: ['cls.predictions.bias', 'cls.predictions.transform.dense.weight', 'cls.predictions.transform.dense.bias', 'cls.predictions.transform.LayerNorm.weight', 'cls.predictions.transform.LayerNorm.bias', 'cls.predictions.decoder.weight', 'cls.seq_relationship.weight', 'cls.seq_relationship.bias']\n- This IS expected if you are initializing BertForSequenceClassification from the checkpoint of a model trained on another task or with another architecture (e.g. initializing a BertForSequenceClassification model from a BertForPretraining model).\n- This IS NOT expected if you are initializing BertForSequenceClassification from the checkpoint of a model that you expect to be exactly identical (initializing a BertForSequenceClassification model from a BertForSequenceClassification model).\nWARNING:debias_transformers.modeling_utils:Some weights of BertForSequenceClassification were not initialized from the model checkpoint at wietsedv/bert-base-dutch-cased and are newly initialized: ['classifier.weight', 'classifier.bias']\nYou should probably TRAIN this model on a down-stream task to be able to use it for predictions and inference.\nINFO:root:loaded BERTJe\n"
    }
   ],
   "source": [
    "model = BertForSequenceClassification.from_pretrained(\"wietsedv/bert-base-dutch-cased\")\n",
    "logging.info(\"loaded BERTJe\")"
   ]
  },
  {
   "cell_type": "markdown",
   "metadata": {},
   "source": [
    "## Create a training config"
   ]
  },
  {
   "cell_type": "code",
   "execution_count": 5,
   "metadata": {},
   "outputs": [],
   "source": [
    "from train_config import Config\n",
    "config = Config()\n",
    "config.model_type = 'bert'\n",
    "config.evaluate_dataset = \"../../Rodrigo-data/Finetuning/dbrd/eval\""
   ]
  },
  {
   "cell_type": "markdown",
   "metadata": {},
   "source": [
    "## Create bias direction"
   ]
  },
  {
   "cell_type": "code",
   "execution_count": 6,
   "metadata": {
    "tags": []
   },
   "outputs": [],
   "source": [
    "#Get bias dir\n",
    "# Rodrigo-data/bias_subspace/bias_subspace_k10_nl_large30000k.npy\n",
    "# file_bias_subspace = \"../../Rodrigo-data/bias_subspace/Robbert_ForFinetune-bias_subspace_k50_nl_large30000k\" #Robbert bias\n",
    "file_bias_subspace = \"../../Rodrigo-data/bias_subspace/bias_subspace_k50_nl_large30000k\" #Bert bias\n",
    "\n",
    "bias_subspace = sen_debias.get_bias_direction(model,tokenizer, #reload from cache \n",
    "    from_cache = True,    \n",
    "    filename_cache= file_bias_subspace)\n",
    "bias_direction = bias_subspace[0] #just use the direction for testing   \n",
    "bias_direction = torch.tensor(bias_direction).to(torch.device(\"cuda\"))"
   ]
  },
  {
   "cell_type": "code",
   "execution_count": 7,
   "metadata": {},
   "outputs": [
    {
     "output_type": "execute_result",
     "data": {
      "text/plain": "torch.Size([768])"
     },
     "metadata": {},
     "execution_count": 7
    }
   ],
   "source": [
    "bias_direction.shape"
   ]
  },
  {
   "cell_type": "markdown",
   "metadata": {},
   "source": [
    "## Load in the data\n",
    "We use `load_and_cache_examples` to load in the training data, this will produce a tokenized version with torch tensors.\n",
    "\n",
    "For the test and evaluation sets, we'll use the following `evaluate` function, since we're in the end interested in a dataframe with all inputs and predictions."
   ]
  },
  {
   "cell_type": "code",
   "execution_count": 8,
   "metadata": {},
   "outputs": [],
   "source": [
    "def evaluate(dataset, model,debias,bias_dir):\n",
    "    df = pd.read_table(dataset + \".labels.txt\", header=None, names=['labels'])\n",
    "    df['sentence'] = pd.read_table(dataset + \".sentences.txt\", header=None, names=['sentence'])\n",
    "    model.eval() # disable dropout etc.\n",
    "    \n",
    "    mask_padding_with_zero = True\n",
    "    block_size = 512\n",
    "    results = []\n",
    "\n",
    "    # file_bias_subspace = \"../Rodrigo-data/bias_subspace/bias_subspace_k\"+str(k_dim_file)+\"_nl_large\"+str(pairs_aumount)+\"k\"\n",
    "    # bias_dir = sen_debias.get_bias_direction(model_nl,tokenizer_nl,from_cache = True,filename_cache= file_bias_subspace)\n",
    "    for row in tqdm(df.iterrows(), total=len(df), mininterval=1, position=1, leave=True):\n",
    "        index = row[0]\n",
    "        sentence = row[1]['sentence']\n",
    "        label = row[1]['labels']\n",
    "\n",
    "        #tokens = roberta.encode(sentence)\n",
    "        tokenized_text = tokenizer.tokenize(sentence)[-block_size + 3: -1]\n",
    "        if len(tokenized_text) is 0: #avoid sentence that couldnt be tokenized in bertje\n",
    "                            continue\n",
    "        tokenized_text = tokenizer.encode(tokenized_text)\n",
    "        # tokenized_text = tokenizer.encode(tokenizer.tokenize(sentence)[- block_size + 3 : -1])\n",
    "\n",
    "        input_mask = [1 if mask_padding_with_zero else 0] * len(tokenized_text)\n",
    "\n",
    "        pad_token = tokenizer.convert_tokens_to_ids(tokenizer.pad_token)\n",
    "        while len(tokenized_text) < block_size:\n",
    "            tokenized_text.append(pad_token)\n",
    "            input_mask.append(0 if mask_padding_with_zero else 1)\n",
    "            #segment_ids.append(pad_token_segment_id)\n",
    "            #p_mask.append(1)\n",
    "\n",
    "        #self.examples.append([tokenizer.build_inputs_with_special_tokens(tokenized_text[0 : block_size]), [0], [0]])\n",
    "        batch = tuple(torch.tensor(t).to(torch.device(\"cuda\")) for t in [tokenized_text[0 : block_size - 3], input_mask[0 : block_size- 3], [0], [1] if label else [0]])\n",
    "\n",
    "        inputs = {\"input_ids\": batch[0].unsqueeze(0), \"attention_mask\": batch[1].unsqueeze(0), \"labels\": batch[3].unsqueeze(0), \n",
    "        \"remove_bias\":debias,\"bias_dir\":bias_direction,\n",
    "         \"token_type_ids\" : batch[2].unsqueeze(0)\n",
    "         }\n",
    "        with torch.no_grad():\n",
    "            outputs = model(**inputs)\n",
    "\n",
    "            results.append({\"true\": label, \"predicted\": outputs[1][0].argmax().item()})\n",
    "\n",
    "    model.train() # make sure the model is back in training mode\n",
    "    return results"
   ]
  },
  {
   "cell_type": "code",
   "execution_count": 9,
   "metadata": {
    "tags": []
   },
   "outputs": [
    {
     "output_type": "stream",
     "name": "stderr",
     "text": "INFO:textdataset:Creating features from dataset file at ../../Rodrigo-data/Finetuning/dbrd\n../../Rodrigo-data/Finetuning/dbrd/train\nINFO:textdataset:Saving features into cached file ../../Rodrigo-data/Finetuning/dbrd/bert_cached_lm_512_train\n"
    }
   ],
   "source": [
    "train_dataset = load_and_cache_examples(\"bert\", tokenizer, \"../../Rodrigo-data/Finetuning/dbrd/train\")"
   ]
  },
  {
   "cell_type": "code",
   "execution_count": 10,
   "metadata": {
    "tags": []
   },
   "outputs": [
    {
     "output_type": "stream",
     "name": "stderr",
     "text": "INFO:root:Put BERT in training mode\n"
    }
   ],
   "source": [
    "model.train()\n",
    "logging.info(\"Put BERT in training mode\")"
   ]
  },
  {
   "cell_type": "code",
   "execution_count": 11,
   "metadata": {},
   "outputs": [],
   "source": [
    "# You can use the following code to adjust the training size to experiment with the benefits of pretraining. It will not likely get better though ...\n",
    "# train_dataset.examples  = train_dataset.examples[:100]\n",
    "# 46min after iteration 1:13"
   ]
  },
  {
   "cell_type": "code",
   "execution_count": 12,
   "metadata": {},
   "outputs": [],
   "source": [
    "DEBIAS_BOOL = False #Used to indicate whether to debias or not accross the notebook"
   ]
  },
  {
   "cell_type": "code",
   "execution_count": 13,
   "metadata": {
    "tags": []
   },
   "outputs": [
    {
     "output_type": "stream",
     "name": "stderr",
     "text": "INFO:train:***** Running training *****\nINFO:train:  Num examples = 19525\nINFO:train:  Num Epochs = 4\nINFO:train:  Instantaneous batch size per GPU = 4\nINFO:train:  Total train batch size (w. parallel, distributed & accumulation) = 32\nINFO:train:  Gradient Accumulation steps = 8\nINFO:train:  Total optimization steps = 2000\nIteration: 100%|██████████| 4882/4882 [11:02<00:00,  7.37it/s, learning_rate=3.97e-5, loss=0.453, step=610]\n\n  0%|          | 0/500 [00:00<?, ?it/s]\u001b[A\n 11%|█▏        | 57/500 [00:01<00:07, 56.75it/s]\u001b[A\n 23%|██▎       | 113/500 [00:02<00:06, 56.23it/s]\u001b[A\n 34%|███▍      | 169/500 [00:03<00:05, 56.03it/s]\u001b[A\n 45%|████▌     | 227/500 [00:04<00:04, 56.50it/s]\u001b[A\n 57%|█████▋    | 283/500 [00:05<00:03, 56.32it/s]\u001b[A\n 68%|██████▊   | 341/500 [00:06<00:02, 56.68it/s]\u001b[A\n 79%|███████▉  | 395/500 [00:07<00:01, 55.72it/s]\u001b[A\n100%|██████████| 500/500 [00:08<00:00, 55.93it/s]\nINFO:train:Results on eval: {'eval_f1_macro': 0.9779555576974823, 'eval_acc_macro': 0.9779559118236473, 'eval_acc_overall': 0.9779559118236473}\nIteration: 100%|██████████| 4882/4882 [11:04<00:00,  7.35it/s, learning_rate=2.23e-5, loss=0.0186, step=1220]\n\n  0%|          | 0/500 [00:00<?, ?it/s]\u001b[A\n 12%|█▏        | 58/500 [00:01<00:07, 57.40it/s]\u001b[A\n 23%|██▎       | 114/500 [00:02<00:06, 56.80it/s]\u001b[A\n 34%|███▍      | 169/500 [00:03<00:05, 56.18it/s]\u001b[A\n 45%|████▌     | 227/500 [00:04<00:04, 56.69it/s]\u001b[A\n 57%|█████▋    | 283/500 [00:05<00:03, 56.36it/s]\u001b[A\n 68%|██████▊   | 341/500 [00:06<00:02, 56.57it/s]\u001b[A\n 79%|███████▉  | 395/500 [00:07<00:01, 55.51it/s]\u001b[A\n100%|██████████| 500/500 [00:08<00:00, 55.81it/s]\nINFO:train:Results on eval: {'eval_f1_macro': 0.9859699154499628, 'eval_acc_macro': 0.9859719438877755, 'eval_acc_overall': 0.9859719438877755}\nIteration: 100%|██████████| 4882/4882 [11:03<00:00,  7.36it/s, learning_rate=4.86e-6, loss=0.00204, step=1830]\n\n  0%|          | 0/500 [00:00<?, ?it/s]\u001b[A\n 12%|█▏        | 58/500 [00:01<00:07, 57.38it/s]\u001b[A\n 23%|██▎       | 114/500 [00:02<00:06, 56.90it/s]\u001b[A\n 34%|███▍      | 170/500 [00:03<00:05, 56.57it/s]\u001b[A\n 46%|████▌     | 229/500 [00:04<00:04, 57.11it/s]\u001b[A\n 57%|█████▋    | 285/500 [00:05<00:03, 56.72it/s]\u001b[A\n 69%|██████▊   | 343/500 [00:06<00:02, 56.94it/s]\u001b[A\n 79%|███████▉  | 397/500 [00:07<00:01, 55.91it/s]\u001b[A\n100%|██████████| 500/500 [00:08<00:00, 56.32it/s]\nINFO:train:Results on eval: {'eval_f1_macro': 1.0, 'eval_acc_macro': 1.0, 'eval_acc_overall': 1.0}\nIteration:  28%|██▊       | 1367/4882 [03:05<07:56,  7.37it/s, learning_rate=0, loss=0.000811, step=2001]\nEpoch:  75%|███████▌  | 3/4 [36:42<12:14, 734.15s/it]\n"
    },
    {
     "output_type": "execute_result",
     "data": {
      "text/plain": "(2001, 0.13113616293585714)"
     },
     "metadata": {},
     "execution_count": 13
    }
   ],
   "source": [
    "# Random interesting insight, num examples with bertje is 19525 while in robbert is 19528, this is probably due to some bad sentences \n",
    "# in the data which robbert could tokenize while bert tokenizer kept crashing so had to avoid the tokenized sentences with 0 elements.  -Rodrigo\n",
    "RobBERTTrainer.train(config, train_dataset, model, tokenizer, evaluate,debias=DEBIAS_BOOL, bias_dir=bias_direction)"
   ]
  },
  {
   "cell_type": "markdown",
   "metadata": {},
   "source": [
    "## Evaluate our trained model"
   ]
  },
  {
   "cell_type": "code",
   "execution_count": 14,
   "metadata": {
    "tags": []
   },
   "outputs": [
    {
     "output_type": "stream",
     "name": "stderr",
     "text": "INFO:root:putting model in eval mode\n"
    }
   ],
   "source": [
    "model.eval()\n",
    "logging.info(\"putting model in eval mode\")"
   ]
  },
  {
   "cell_type": "code",
   "execution_count": 15,
   "metadata": {
    "tags": []
   },
   "outputs": [
    {
     "output_type": "stream",
     "name": "stderr",
     "text": "\n  0%|          | 0/2224 [00:00<?, ?it/s]\u001b[A\n  3%|▎         | 58/2224 [00:01<00:37, 57.25it/s]\u001b[A\n  5%|▌         | 116/2224 [00:02<00:36, 57.33it/s]\u001b[A\n  8%|▊         | 173/2224 [00:03<00:36, 56.91it/s]\u001b[A\n 10%|█         | 229/2224 [00:04<00:35, 56.43it/s]\u001b[A\n 13%|█▎        | 285/2224 [00:05<00:34, 56.16it/s]\u001b[A\n 15%|█▌        | 344/2224 [00:06<00:33, 56.68it/s]\u001b[A\n 18%|█▊        | 400/2224 [00:07<00:32, 56.23it/s]\u001b[A\n 21%|██        | 458/2224 [00:08<00:31, 56.40it/s]\u001b[A\n 23%|██▎       | 513/2224 [00:09<00:30, 55.82it/s]\u001b[A\n 26%|██▌       | 572/2224 [00:10<00:29, 56.48it/s]\u001b[A\n 28%|██▊       | 630/2224 [00:11<00:28, 56.65it/s]\u001b[A\n 31%|███       | 686/2224 [00:12<00:27, 56.15it/s]\u001b[A\n 33%|███▎      | 743/2224 [00:13<00:26, 56.23it/s]\u001b[A\n 36%|███▌      | 799/2224 [00:14<00:25, 55.45it/s]\u001b[A\n 38%|███▊      | 855/2224 [00:15<00:24, 55.32it/s]\u001b[A\n 41%|████      | 911/2224 [00:16<00:23, 55.20it/s]\u001b[A\n 43%|████▎     | 967/2224 [00:17<00:22, 55.34it/s]\u001b[A\n 46%|████▌     | 1023/2224 [00:18<00:21, 55.27it/s]\u001b[A\n 49%|████▊     | 1079/2224 [00:19<00:20, 55.48it/s]\u001b[A\n 51%|█████     | 1138/2224 [00:20<00:19, 56.24it/s]\u001b[A\n 54%|█████▎    | 1195/2224 [00:21<00:18, 56.06it/s]\u001b[A\n 56%|█████▋    | 1252/2224 [00:22<00:17, 56.29it/s]\u001b[A\n 59%|█████▉    | 1309/2224 [00:23<00:16, 56.21it/s]\u001b[A\n 61%|██████▏   | 1367/2224 [00:24<00:15, 56.63it/s]\u001b[A\n 64%|██████▍   | 1425/2224 [00:25<00:14, 56.72it/s]\u001b[A\n 67%|██████▋   | 1484/2224 [00:26<00:12, 57.29it/s]\u001b[A\n 69%|██████▉   | 1542/2224 [00:27<00:11, 57.19it/s]\u001b[A\n 72%|███████▏  | 1600/2224 [00:28<00:10, 56.84it/s]\u001b[A\n 75%|███████▍  | 1657/2224 [00:29<00:10, 56.55it/s]\u001b[A\n 77%|███████▋  | 1714/2224 [00:30<00:09, 56.33it/s]\u001b[A\n 80%|███████▉  | 1771/2224 [00:31<00:08, 55.85it/s]\u001b[A\n 82%|████████▏ | 1827/2224 [00:32<00:07, 55.51it/s]\u001b[A\n 85%|████████▍ | 1883/2224 [00:33<00:06, 55.01it/s]\u001b[A\n 87%|████████▋ | 1940/2224 [00:34<00:05, 55.39it/s]\u001b[A\n 90%|████████▉ | 1998/2224 [00:35<00:04, 55.98it/s]\u001b[A\n 92%|█████████▏| 2056/2224 [00:36<00:02, 56.41it/s]\u001b[A\n 95%|█████████▌| 2113/2224 [00:37<00:01, 55.93it/s]\u001b[A\n100%|██████████| 2224/2224 [00:39<00:00, 56.11it/s]\n"
    }
   ],
   "source": [
    "results = pd.DataFrame(evaluate(\"../../Rodrigo-data/Finetuning/dbrd/test\", model,debias=DEBIAS_BOOL, bias_dir=bias_direction))"
   ]
  },
  {
   "cell_type": "code",
   "execution_count": 16,
   "metadata": {},
   "outputs": [],
   "source": [
    "import matplotlib.pyplot as plt\n",
    "def plot_confusion_matrix(cm, classes,\n",
    "                          normalize=False,\n",
    "                          title='Confusion matrix',\n",
    "                          cmap=plt.cm.Blues):\n",
    "    \"\"\"\n",
    "    This function prints and plots the confusion matrix.\n",
    "    Normalization can be applied by setting `normalize=True`.\n",
    "    \"\"\"\n",
    "    if normalize:\n",
    "        cm = cm.astype('float') / cm.sum(axis=1)[:, np.newaxis]\n",
    "        print(\"Normalized confusion matrix\")\n",
    "    else:\n",
    "        print('Confusion matrix, without normalization')\n",
    "\n",
    "    print(cm)\n",
    "\n",
    "    plt.imshow(cm, interpolation='nearest', cmap=cmap, vmin=0, aspect=\"equal\")\n",
    "    plt.title(title)\n",
    "    plt.colorbar()\n",
    "    tick_marks = np.arange(len(classes))\n",
    "    plt.xticks(tick_marks, classes, rotation=45)\n",
    "    plt.yticks(tick_marks, classes)\n",
    "    plt.ylim(len(tick_marks) - 0.5, -0.5)\n",
    "    \n",
    "    fmt = '.2f' if normalize else 'd'\n",
    "    thresh = cm.max() / 2.\n",
    "    \n",
    "    for i, j in itertools.product(range(cm.shape[0]), range(cm.shape[1])):\n",
    "        plt.text(j, i, format(cm[i, j], fmt),\n",
    "                 horizontalalignment=\"center\",\n",
    "                 color=\"white\" if cm[i, j] > thresh else \"black\")\n",
    "        \n",
    "    plt.tight_layout()\n",
    "    plt.ylabel('True label')\n",
    "    plt.xlabel('Predicted label')"
   ]
  },
  {
   "cell_type": "code",
   "execution_count": 17,
   "metadata": {
    "tags": []
   },
   "outputs": [
    {
     "output_type": "stream",
     "name": "stdout",
     "text": "Confusion matrix, without normalization\n[[1058   54]\n [  53 1059]]\n"
    },
    {
     "output_type": "display_data",
     "data": {
      "text/plain": "<Figure size 500x500 with 2 Axes>",
      "image/svg+xml": "<?xml version=\"1.0\" encoding=\"utf-8\" standalone=\"no\"?>\n<!DOCTYPE svg PUBLIC \"-//W3C//DTD SVG 1.1//EN\"\n  \"http://www.w3.org/Graphics/SVG/1.1/DTD/svg11.dtd\">\n<!-- Created with matplotlib (https://matplotlib.org/) -->\n<svg height=\"347.221708pt\" version=\"1.1\" viewBox=\"0 0 368.135503 347.221708\" width=\"368.135503pt\" xmlns=\"http://www.w3.org/2000/svg\" xmlns:xlink=\"http://www.w3.org/1999/xlink\">\n <defs>\n  <style type=\"text/css\">\n*{stroke-linecap:butt;stroke-linejoin:round;}\n  </style>\n </defs>\n <g id=\"figure_1\">\n  <g id=\"patch_1\">\n   <path d=\"M 0 347.221708 \nL 368.135503 347.221708 \nL 368.135503 0 \nL 0 0 \nz\n\" style=\"fill:none;\"/>\n  </g>\n  <g id=\"axes_1\">\n   <g id=\"patch_2\">\n    <path d=\"M 72.759375 280.764279 \nL 298.655375 280.764279 \nL 298.655375 54.868279 \nL 72.759375 54.868279 \nz\n\" style=\"fill:#ffffff;\"/>\n   </g>\n   <g clip-path=\"url(#p53fd1e1743)\">\n    <image height=\"226.08\" id=\"imageeaf74b1764\" transform=\"scale(1 -1)translate(0 -226.08)\" width=\"226.08\" x=\"72.759375\" xlink:href=\"data:image/png;base64,\niVBORw0KGgoAAAANSUhEUgAAAToAAAE6CAYAAACGQp5cAAAABHNCSVQICAgIfAhkiAAABD9JREFUeJzt1jERwlAABUFChQdMIABHaZASUUihpaOjSFTAn7m/q+BVN295f777Cf7oen+MnsBkzqMHAPya0AF5QgfkCR2QJ3RAntABeUIH5AkdkCd0QJ7QAXlCB+QJHZAndECe0AF5QgfkCR2QJ3RAntABeUIH5AkdkCd0QJ7QAXlCB+QJHZAndECe0AF5QgfkCR2QJ3RAntABeUIH5AkdkCd0QJ7QAXlCB+QJHZAndECe0AF5QgfkCR2QJ3RAntABeUIH5AkdkCd0QJ7QAXlCB+QJHZAndECe0AF5QgfkCR2QJ3RAntABeUIH5AkdkCd0QJ7QAXlCB+QJHZAndECe0AF5QgfkCR2QJ3RAntABeUIH5AkdkCd0QJ7QAXlCB+QJHZAndECe0AF5QgfkCR2QJ3RAntABeUIH5AkdkCd0QJ7QAXlCB+QJHZAndECe0AF5QgfkCR2QJ3RAntABeUIH5AkdkCd0QJ7QAXlCB+QJHZAndECe0AF5QgfkCR2QJ3RAntABeUIH5AkdkCd0QJ7QAXlCB+QJHZAndECe0AF5QgfkCR2QJ3RAntABeUIH5AkdkCd0QJ7QAXlCB+QJHZAndECe0AF5QgfkCR2QJ3RAntABeUIH5AkdkCd0QJ7QAXlCB+QJHZAndECe0AF5QgfkCR2QJ3RAntABeUIH5AkdkCd0QJ7QAXlCB+QJHZAndECe0AF5QgfkCR2QJ3RAntABeUIH5AkdkCd0QJ7QAXlCB+QJHZC3XG7rPnoEc3k9t9ETmIxHB+QJHZAndECe0AF5QgfkCR2QJ3RAntABeUIH5AkdkCd0QJ7QAXlCB+QJHZAndECe0AF5QgfkCR2QJ3RAntABeUIH5AkdkCd0QJ7QAXlCB+QJHZAndECe0AF5QgfkCR2QJ3RAntABeUIH5AkdkCd0QJ7QAXlCB+QJHZAndECe0AF5QgfkCR2QJ3RAntABeUIH5AkdkCd0QJ7QAXlCB+QJHZAndECe0AF5QgfkCR2QJ3RAntABeUIH5AkdkCd0QJ7QAXlCB+QJHZAndECe0AF5QgfkCR2QJ3RAntABeUIH5AkdkCd0QJ7QAXlCB+QJHZAndECe0AF5QgfkCR2QJ3RAntABeUIH5AkdkCd0QJ7QAXlCB+QJHZAndECe0AF5QgfkCR2QJ3RAntABeUIH5AkdkCd0QJ7QAXlCB+QJHZAndECe0AF5QgfkCR2QJ3RAntABeUIH5AkdkCd0QJ7QAXlCB+QJHZAndECe0AF5QgfkCR2QJ3RAntABeUIH5AkdkCd0QJ7QAXlCB+QJHZAndECe0AF5QgfkCR2QJ3RAntABeUIH5AkdkCd0QJ7QAXlCB+QJHZAndECe0AF5QgfkCR2QJ3RAntABeUIH5AkdkCd0QJ7QAXlCB+QJHZAndECe0AF5QgfkCR2QJ3RAntABeUIH5AkdkCd0QJ7QAXkHZLwK7/tbLXIAAAAASUVORK5CYII=\" y=\"-54.684279\"/>\n   </g>\n   <g id=\"matplotlib.axis_1\">\n    <g id=\"xtick_1\">\n     <g id=\"line2d_1\">\n      <defs>\n       <path d=\"M 0 0 \nL 0 3.5 \n\" id=\"md210389528\" style=\"stroke:#000000;stroke-width:0.8;\"/>\n      </defs>\n      <g>\n       <use style=\"stroke:#000000;stroke-width:0.8;\" x=\"129.233375\" xlink:href=\"#md210389528\" y=\"280.764279\"/>\n      </g>\n     </g>\n     <g id=\"text_1\">\n      <!-- Negative -->\n      <defs>\n       <path d=\"M 9.8125 72.90625 \nL 23.09375 72.90625 \nL 55.421875 11.921875 \nL 55.421875 72.90625 \nL 64.984375 72.90625 \nL 64.984375 0 \nL 51.703125 0 \nL 19.390625 60.984375 \nL 19.390625 0 \nL 9.8125 0 \nz\n\" id=\"DejaVuSans-78\"/>\n       <path d=\"M 56.203125 29.59375 \nL 56.203125 25.203125 \nL 14.890625 25.203125 \nQ 15.484375 15.921875 20.484375 11.0625 \nQ 25.484375 6.203125 34.421875 6.203125 \nQ 39.59375 6.203125 44.453125 7.46875 \nQ 49.3125 8.734375 54.109375 11.28125 \nL 54.109375 2.78125 \nQ 49.265625 0.734375 44.1875 -0.34375 \nQ 39.109375 -1.421875 33.890625 -1.421875 \nQ 20.796875 -1.421875 13.15625 6.1875 \nQ 5.515625 13.8125 5.515625 26.8125 \nQ 5.515625 40.234375 12.765625 48.109375 \nQ 20.015625 56 32.328125 56 \nQ 43.359375 56 49.78125 48.890625 \nQ 56.203125 41.796875 56.203125 29.59375 \nz\nM 47.21875 32.234375 \nQ 47.125 39.59375 43.09375 43.984375 \nQ 39.0625 48.390625 32.421875 48.390625 \nQ 24.90625 48.390625 20.390625 44.140625 \nQ 15.875 39.890625 15.1875 32.171875 \nz\n\" id=\"DejaVuSans-101\"/>\n       <path d=\"M 45.40625 27.984375 \nQ 45.40625 37.75 41.375 43.109375 \nQ 37.359375 48.484375 30.078125 48.484375 \nQ 22.859375 48.484375 18.828125 43.109375 \nQ 14.796875 37.75 14.796875 27.984375 \nQ 14.796875 18.265625 18.828125 12.890625 \nQ 22.859375 7.515625 30.078125 7.515625 \nQ 37.359375 7.515625 41.375 12.890625 \nQ 45.40625 18.265625 45.40625 27.984375 \nz\nM 54.390625 6.78125 \nQ 54.390625 -7.171875 48.1875 -13.984375 \nQ 42 -20.796875 29.203125 -20.796875 \nQ 24.46875 -20.796875 20.265625 -20.09375 \nQ 16.0625 -19.390625 12.109375 -17.921875 \nL 12.109375 -9.1875 \nQ 16.0625 -11.328125 19.921875 -12.34375 \nQ 23.78125 -13.375 27.78125 -13.375 \nQ 36.625 -13.375 41.015625 -8.765625 \nQ 45.40625 -4.15625 45.40625 5.171875 \nL 45.40625 9.625 \nQ 42.625 4.78125 38.28125 2.390625 \nQ 33.9375 0 27.875 0 \nQ 17.828125 0 11.671875 7.65625 \nQ 5.515625 15.328125 5.515625 27.984375 \nQ 5.515625 40.671875 11.671875 48.328125 \nQ 17.828125 56 27.875 56 \nQ 33.9375 56 38.28125 53.609375 \nQ 42.625 51.21875 45.40625 46.390625 \nL 45.40625 54.6875 \nL 54.390625 54.6875 \nz\n\" id=\"DejaVuSans-103\"/>\n       <path d=\"M 34.28125 27.484375 \nQ 23.390625 27.484375 19.1875 25 \nQ 14.984375 22.515625 14.984375 16.5 \nQ 14.984375 11.71875 18.140625 8.90625 \nQ 21.296875 6.109375 26.703125 6.109375 \nQ 34.1875 6.109375 38.703125 11.40625 \nQ 43.21875 16.703125 43.21875 25.484375 \nL 43.21875 27.484375 \nz\nM 52.203125 31.203125 \nL 52.203125 0 \nL 43.21875 0 \nL 43.21875 8.296875 \nQ 40.140625 3.328125 35.546875 0.953125 \nQ 30.953125 -1.421875 24.3125 -1.421875 \nQ 15.921875 -1.421875 10.953125 3.296875 \nQ 6 8.015625 6 15.921875 \nQ 6 25.140625 12.171875 29.828125 \nQ 18.359375 34.515625 30.609375 34.515625 \nL 43.21875 34.515625 \nL 43.21875 35.40625 \nQ 43.21875 41.609375 39.140625 45 \nQ 35.0625 48.390625 27.6875 48.390625 \nQ 23 48.390625 18.546875 47.265625 \nQ 14.109375 46.140625 10.015625 43.890625 \nL 10.015625 52.203125 \nQ 14.9375 54.109375 19.578125 55.046875 \nQ 24.21875 56 28.609375 56 \nQ 40.484375 56 46.34375 49.84375 \nQ 52.203125 43.703125 52.203125 31.203125 \nz\n\" id=\"DejaVuSans-97\"/>\n       <path d=\"M 18.3125 70.21875 \nL 18.3125 54.6875 \nL 36.8125 54.6875 \nL 36.8125 47.703125 \nL 18.3125 47.703125 \nL 18.3125 18.015625 \nQ 18.3125 11.328125 20.140625 9.421875 \nQ 21.96875 7.515625 27.59375 7.515625 \nL 36.8125 7.515625 \nL 36.8125 0 \nL 27.59375 0 \nQ 17.1875 0 13.234375 3.875 \nQ 9.28125 7.765625 9.28125 18.015625 \nL 9.28125 47.703125 \nL 2.6875 47.703125 \nL 2.6875 54.6875 \nL 9.28125 54.6875 \nL 9.28125 70.21875 \nz\n\" id=\"DejaVuSans-116\"/>\n       <path d=\"M 9.421875 54.6875 \nL 18.40625 54.6875 \nL 18.40625 0 \nL 9.421875 0 \nz\nM 9.421875 75.984375 \nL 18.40625 75.984375 \nL 18.40625 64.59375 \nL 9.421875 64.59375 \nz\n\" id=\"DejaVuSans-105\"/>\n       <path d=\"M 2.984375 54.6875 \nL 12.5 54.6875 \nL 29.59375 8.796875 \nL 46.6875 54.6875 \nL 56.203125 54.6875 \nL 35.6875 0 \nL 23.484375 0 \nz\n\" id=\"DejaVuSans-118\"/>\n      </defs>\n      <g transform=\"translate(115.31663 324.873022)rotate(-45)scale(0.1 -0.1)\">\n       <use xlink:href=\"#DejaVuSans-78\"/>\n       <use x=\"74.804688\" xlink:href=\"#DejaVuSans-101\"/>\n       <use x=\"136.328125\" xlink:href=\"#DejaVuSans-103\"/>\n       <use x=\"199.804688\" xlink:href=\"#DejaVuSans-97\"/>\n       <use x=\"261.083984\" xlink:href=\"#DejaVuSans-116\"/>\n       <use x=\"300.292969\" xlink:href=\"#DejaVuSans-105\"/>\n       <use x=\"328.076172\" xlink:href=\"#DejaVuSans-118\"/>\n       <use x=\"387.255859\" xlink:href=\"#DejaVuSans-101\"/>\n      </g>\n     </g>\n    </g>\n    <g id=\"xtick_2\">\n     <g id=\"line2d_2\">\n      <g>\n       <use style=\"stroke:#000000;stroke-width:0.8;\" x=\"242.181375\" xlink:href=\"#md210389528\" y=\"280.764279\"/>\n      </g>\n     </g>\n     <g id=\"text_2\">\n      <!-- Positive -->\n      <defs>\n       <path d=\"M 19.671875 64.796875 \nL 19.671875 37.40625 \nL 32.078125 37.40625 \nQ 38.96875 37.40625 42.71875 40.96875 \nQ 46.484375 44.53125 46.484375 51.125 \nQ 46.484375 57.671875 42.71875 61.234375 \nQ 38.96875 64.796875 32.078125 64.796875 \nz\nM 9.8125 72.90625 \nL 32.078125 72.90625 \nQ 44.34375 72.90625 50.609375 67.359375 \nQ 56.890625 61.8125 56.890625 51.125 \nQ 56.890625 40.328125 50.609375 34.8125 \nQ 44.34375 29.296875 32.078125 29.296875 \nL 19.671875 29.296875 \nL 19.671875 0 \nL 9.8125 0 \nz\n\" id=\"DejaVuSans-80\"/>\n       <path d=\"M 30.609375 48.390625 \nQ 23.390625 48.390625 19.1875 42.75 \nQ 14.984375 37.109375 14.984375 27.296875 \nQ 14.984375 17.484375 19.15625 11.84375 \nQ 23.34375 6.203125 30.609375 6.203125 \nQ 37.796875 6.203125 41.984375 11.859375 \nQ 46.1875 17.53125 46.1875 27.296875 \nQ 46.1875 37.015625 41.984375 42.703125 \nQ 37.796875 48.390625 30.609375 48.390625 \nz\nM 30.609375 56 \nQ 42.328125 56 49.015625 48.375 \nQ 55.71875 40.765625 55.71875 27.296875 \nQ 55.71875 13.875 49.015625 6.21875 \nQ 42.328125 -1.421875 30.609375 -1.421875 \nQ 18.84375 -1.421875 12.171875 6.21875 \nQ 5.515625 13.875 5.515625 27.296875 \nQ 5.515625 40.765625 12.171875 48.375 \nQ 18.84375 56 30.609375 56 \nz\n\" id=\"DejaVuSans-111\"/>\n       <path d=\"M 44.28125 53.078125 \nL 44.28125 44.578125 \nQ 40.484375 46.53125 36.375 47.5 \nQ 32.28125 48.484375 27.875 48.484375 \nQ 21.1875 48.484375 17.84375 46.4375 \nQ 14.5 44.390625 14.5 40.28125 \nQ 14.5 37.15625 16.890625 35.375 \nQ 19.28125 33.59375 26.515625 31.984375 \nL 29.59375 31.296875 \nQ 39.15625 29.25 43.1875 25.515625 \nQ 47.21875 21.78125 47.21875 15.09375 \nQ 47.21875 7.46875 41.1875 3.015625 \nQ 35.15625 -1.421875 24.609375 -1.421875 \nQ 20.21875 -1.421875 15.453125 -0.5625 \nQ 10.6875 0.296875 5.421875 2 \nL 5.421875 11.28125 \nQ 10.40625 8.6875 15.234375 7.390625 \nQ 20.0625 6.109375 24.8125 6.109375 \nQ 31.15625 6.109375 34.5625 8.28125 \nQ 37.984375 10.453125 37.984375 14.40625 \nQ 37.984375 18.0625 35.515625 20.015625 \nQ 33.0625 21.96875 24.703125 23.78125 \nL 21.578125 24.515625 \nQ 13.234375 26.265625 9.515625 29.90625 \nQ 5.8125 33.546875 5.8125 39.890625 \nQ 5.8125 47.609375 11.28125 51.796875 \nQ 16.75 56 26.8125 56 \nQ 31.78125 56 36.171875 55.265625 \nQ 40.578125 54.546875 44.28125 53.078125 \nz\n\" id=\"DejaVuSans-115\"/>\n      </defs>\n      <g transform=\"translate(230.378768 320.644745)rotate(-45)scale(0.1 -0.1)\">\n       <use xlink:href=\"#DejaVuSans-80\"/>\n       <use x=\"60.255859\" xlink:href=\"#DejaVuSans-111\"/>\n       <use x=\"121.4375\" xlink:href=\"#DejaVuSans-115\"/>\n       <use x=\"173.537109\" xlink:href=\"#DejaVuSans-105\"/>\n       <use x=\"201.320312\" xlink:href=\"#DejaVuSans-116\"/>\n       <use x=\"240.529297\" xlink:href=\"#DejaVuSans-105\"/>\n       <use x=\"268.3125\" xlink:href=\"#DejaVuSans-118\"/>\n       <use x=\"327.492188\" xlink:href=\"#DejaVuSans-101\"/>\n      </g>\n     </g>\n    </g>\n    <g id=\"text_3\">\n     <!-- Predicted label -->\n     <defs>\n      <path d=\"M 41.109375 46.296875 \nQ 39.59375 47.171875 37.8125 47.578125 \nQ 36.03125 48 33.890625 48 \nQ 26.265625 48 22.1875 43.046875 \nQ 18.109375 38.09375 18.109375 28.8125 \nL 18.109375 0 \nL 9.078125 0 \nL 9.078125 54.6875 \nL 18.109375 54.6875 \nL 18.109375 46.1875 \nQ 20.953125 51.171875 25.484375 53.578125 \nQ 30.03125 56 36.53125 56 \nQ 37.453125 56 38.578125 55.875 \nQ 39.703125 55.765625 41.0625 55.515625 \nz\n\" id=\"DejaVuSans-114\"/>\n      <path d=\"M 45.40625 46.390625 \nL 45.40625 75.984375 \nL 54.390625 75.984375 \nL 54.390625 0 \nL 45.40625 0 \nL 45.40625 8.203125 \nQ 42.578125 3.328125 38.25 0.953125 \nQ 33.9375 -1.421875 27.875 -1.421875 \nQ 17.96875 -1.421875 11.734375 6.484375 \nQ 5.515625 14.40625 5.515625 27.296875 \nQ 5.515625 40.1875 11.734375 48.09375 \nQ 17.96875 56 27.875 56 \nQ 33.9375 56 38.25 53.625 \nQ 42.578125 51.265625 45.40625 46.390625 \nz\nM 14.796875 27.296875 \nQ 14.796875 17.390625 18.875 11.75 \nQ 22.953125 6.109375 30.078125 6.109375 \nQ 37.203125 6.109375 41.296875 11.75 \nQ 45.40625 17.390625 45.40625 27.296875 \nQ 45.40625 37.203125 41.296875 42.84375 \nQ 37.203125 48.484375 30.078125 48.484375 \nQ 22.953125 48.484375 18.875 42.84375 \nQ 14.796875 37.203125 14.796875 27.296875 \nz\n\" id=\"DejaVuSans-100\"/>\n      <path d=\"M 48.78125 52.59375 \nL 48.78125 44.1875 \nQ 44.96875 46.296875 41.140625 47.34375 \nQ 37.3125 48.390625 33.40625 48.390625 \nQ 24.65625 48.390625 19.8125 42.84375 \nQ 14.984375 37.3125 14.984375 27.296875 \nQ 14.984375 17.28125 19.8125 11.734375 \nQ 24.65625 6.203125 33.40625 6.203125 \nQ 37.3125 6.203125 41.140625 7.25 \nQ 44.96875 8.296875 48.78125 10.40625 \nL 48.78125 2.09375 \nQ 45.015625 0.34375 40.984375 -0.53125 \nQ 36.96875 -1.421875 32.421875 -1.421875 \nQ 20.0625 -1.421875 12.78125 6.34375 \nQ 5.515625 14.109375 5.515625 27.296875 \nQ 5.515625 40.671875 12.859375 48.328125 \nQ 20.21875 56 33.015625 56 \nQ 37.15625 56 41.109375 55.140625 \nQ 45.0625 54.296875 48.78125 52.59375 \nz\n\" id=\"DejaVuSans-99\"/>\n      <path id=\"DejaVuSans-32\"/>\n      <path d=\"M 9.421875 75.984375 \nL 18.40625 75.984375 \nL 18.40625 0 \nL 9.421875 0 \nz\n\" id=\"DejaVuSans-108\"/>\n      <path d=\"M 48.6875 27.296875 \nQ 48.6875 37.203125 44.609375 42.84375 \nQ 40.53125 48.484375 33.40625 48.484375 \nQ 26.265625 48.484375 22.1875 42.84375 \nQ 18.109375 37.203125 18.109375 27.296875 \nQ 18.109375 17.390625 22.1875 11.75 \nQ 26.265625 6.109375 33.40625 6.109375 \nQ 40.53125 6.109375 44.609375 11.75 \nQ 48.6875 17.390625 48.6875 27.296875 \nz\nM 18.109375 46.390625 \nQ 20.953125 51.265625 25.265625 53.625 \nQ 29.59375 56 35.59375 56 \nQ 45.5625 56 51.78125 48.09375 \nQ 58.015625 40.1875 58.015625 27.296875 \nQ 58.015625 14.40625 51.78125 6.484375 \nQ 45.5625 -1.421875 35.59375 -1.421875 \nQ 29.59375 -1.421875 25.265625 0.953125 \nQ 20.953125 3.328125 18.109375 8.203125 \nL 18.109375 0 \nL 9.078125 0 \nL 9.078125 75.984375 \nL 18.109375 75.984375 \nz\n\" id=\"DejaVuSans-98\"/>\n     </defs>\n     <g transform=\"translate(148.357375 337.942021)scale(0.1 -0.1)\">\n      <use xlink:href=\"#DejaVuSans-80\"/>\n      <use x=\"60.287109\" xlink:href=\"#DejaVuSans-114\"/>\n      <use x=\"101.369141\" xlink:href=\"#DejaVuSans-101\"/>\n      <use x=\"162.892578\" xlink:href=\"#DejaVuSans-100\"/>\n      <use x=\"226.369141\" xlink:href=\"#DejaVuSans-105\"/>\n      <use x=\"254.152344\" xlink:href=\"#DejaVuSans-99\"/>\n      <use x=\"309.132812\" xlink:href=\"#DejaVuSans-116\"/>\n      <use x=\"348.341797\" xlink:href=\"#DejaVuSans-101\"/>\n      <use x=\"409.865234\" xlink:href=\"#DejaVuSans-100\"/>\n      <use x=\"473.341797\" xlink:href=\"#DejaVuSans-32\"/>\n      <use x=\"505.128906\" xlink:href=\"#DejaVuSans-108\"/>\n      <use x=\"532.912109\" xlink:href=\"#DejaVuSans-97\"/>\n      <use x=\"594.191406\" xlink:href=\"#DejaVuSans-98\"/>\n      <use x=\"657.667969\" xlink:href=\"#DejaVuSans-101\"/>\n      <use x=\"719.191406\" xlink:href=\"#DejaVuSans-108\"/>\n     </g>\n    </g>\n   </g>\n   <g id=\"matplotlib.axis_2\">\n    <g id=\"ytick_1\">\n     <g id=\"line2d_3\">\n      <defs>\n       <path d=\"M 0 0 \nL -3.5 0 \n\" id=\"m2b37b90353\" style=\"stroke:#000000;stroke-width:0.8;\"/>\n      </defs>\n      <g>\n       <use style=\"stroke:#000000;stroke-width:0.8;\" x=\"72.759375\" xlink:href=\"#m2b37b90353\" y=\"111.342279\"/>\n      </g>\n     </g>\n     <g id=\"text_4\">\n      <!-- Negative -->\n      <g transform=\"translate(20.878125 115.141498)scale(0.1 -0.1)\">\n       <use xlink:href=\"#DejaVuSans-78\"/>\n       <use x=\"74.804688\" xlink:href=\"#DejaVuSans-101\"/>\n       <use x=\"136.328125\" xlink:href=\"#DejaVuSans-103\"/>\n       <use x=\"199.804688\" xlink:href=\"#DejaVuSans-97\"/>\n       <use x=\"261.083984\" xlink:href=\"#DejaVuSans-116\"/>\n       <use x=\"300.292969\" xlink:href=\"#DejaVuSans-105\"/>\n       <use x=\"328.076172\" xlink:href=\"#DejaVuSans-118\"/>\n       <use x=\"387.255859\" xlink:href=\"#DejaVuSans-101\"/>\n      </g>\n     </g>\n    </g>\n    <g id=\"ytick_2\">\n     <g id=\"line2d_4\">\n      <g>\n       <use style=\"stroke:#000000;stroke-width:0.8;\" x=\"72.759375\" xlink:href=\"#m2b37b90353\" y=\"224.290279\"/>\n      </g>\n     </g>\n     <g id=\"text_5\">\n      <!-- Positive -->\n      <g transform=\"translate(26.857813 228.089498)scale(0.1 -0.1)\">\n       <use xlink:href=\"#DejaVuSans-80\"/>\n       <use x=\"60.255859\" xlink:href=\"#DejaVuSans-111\"/>\n       <use x=\"121.4375\" xlink:href=\"#DejaVuSans-115\"/>\n       <use x=\"173.537109\" xlink:href=\"#DejaVuSans-105\"/>\n       <use x=\"201.320312\" xlink:href=\"#DejaVuSans-116\"/>\n       <use x=\"240.529297\" xlink:href=\"#DejaVuSans-105\"/>\n       <use x=\"268.3125\" xlink:href=\"#DejaVuSans-118\"/>\n       <use x=\"327.492188\" xlink:href=\"#DejaVuSans-101\"/>\n      </g>\n     </g>\n    </g>\n    <g id=\"text_6\">\n     <!-- True label -->\n     <defs>\n      <path d=\"M -0.296875 72.90625 \nL 61.375 72.90625 \nL 61.375 64.59375 \nL 35.5 64.59375 \nL 35.5 0 \nL 25.59375 0 \nL 25.59375 64.59375 \nL -0.296875 64.59375 \nz\n\" id=\"DejaVuSans-84\"/>\n      <path d=\"M 8.5 21.578125 \nL 8.5 54.6875 \nL 17.484375 54.6875 \nL 17.484375 21.921875 \nQ 17.484375 14.15625 20.5 10.265625 \nQ 23.53125 6.390625 29.59375 6.390625 \nQ 36.859375 6.390625 41.078125 11.03125 \nQ 45.3125 15.671875 45.3125 23.6875 \nL 45.3125 54.6875 \nL 54.296875 54.6875 \nL 54.296875 0 \nL 45.3125 0 \nL 45.3125 8.40625 \nQ 42.046875 3.421875 37.71875 1 \nQ 33.40625 -1.421875 27.6875 -1.421875 \nQ 18.265625 -1.421875 13.375 4.4375 \nQ 8.5 10.296875 8.5 21.578125 \nz\nM 31.109375 56 \nz\n\" id=\"DejaVuSans-117\"/>\n     </defs>\n     <g transform=\"translate(14.798438 192.84206)rotate(-90)scale(0.1 -0.1)\">\n      <use xlink:href=\"#DejaVuSans-84\"/>\n      <use x=\"60.865234\" xlink:href=\"#DejaVuSans-114\"/>\n      <use x=\"101.978516\" xlink:href=\"#DejaVuSans-117\"/>\n      <use x=\"165.357422\" xlink:href=\"#DejaVuSans-101\"/>\n      <use x=\"226.880859\" xlink:href=\"#DejaVuSans-32\"/>\n      <use x=\"258.667969\" xlink:href=\"#DejaVuSans-108\"/>\n      <use x=\"286.451172\" xlink:href=\"#DejaVuSans-97\"/>\n      <use x=\"347.730469\" xlink:href=\"#DejaVuSans-98\"/>\n      <use x=\"411.207031\" xlink:href=\"#DejaVuSans-101\"/>\n      <use x=\"472.730469\" xlink:href=\"#DejaVuSans-108\"/>\n     </g>\n    </g>\n   </g>\n   <g id=\"patch_3\">\n    <path d=\"M 72.759375 280.764279 \nL 72.759375 54.868279 \n\" style=\"fill:none;stroke:#000000;stroke-linecap:square;stroke-linejoin:miter;stroke-width:0.8;\"/>\n   </g>\n   <g id=\"patch_4\">\n    <path d=\"M 298.655375 280.764279 \nL 298.655375 54.868279 \n\" style=\"fill:none;stroke:#000000;stroke-linecap:square;stroke-linejoin:miter;stroke-width:0.8;\"/>\n   </g>\n   <g id=\"patch_5\">\n    <path d=\"M 72.759375 280.764279 \nL 298.655375 280.764279 \n\" style=\"fill:none;stroke:#000000;stroke-linecap:square;stroke-linejoin:miter;stroke-width:0.8;\"/>\n   </g>\n   <g id=\"patch_6\">\n    <path d=\"M 72.759375 54.868279 \nL 298.655375 54.868279 \n\" style=\"fill:none;stroke:#000000;stroke-linecap:square;stroke-linejoin:miter;stroke-width:0.8;\"/>\n   </g>\n   <g id=\"text_7\">\n    <!-- 1058 -->\n    <defs>\n     <path d=\"M 12.40625 8.296875 \nL 28.515625 8.296875 \nL 28.515625 63.921875 \nL 10.984375 60.40625 \nL 10.984375 69.390625 \nL 28.421875 72.90625 \nL 38.28125 72.90625 \nL 38.28125 8.296875 \nL 54.390625 8.296875 \nL 54.390625 0 \nL 12.40625 0 \nz\n\" id=\"DejaVuSans-49\"/>\n     <path d=\"M 31.78125 66.40625 \nQ 24.171875 66.40625 20.328125 58.90625 \nQ 16.5 51.421875 16.5 36.375 \nQ 16.5 21.390625 20.328125 13.890625 \nQ 24.171875 6.390625 31.78125 6.390625 \nQ 39.453125 6.390625 43.28125 13.890625 \nQ 47.125 21.390625 47.125 36.375 \nQ 47.125 51.421875 43.28125 58.90625 \nQ 39.453125 66.40625 31.78125 66.40625 \nz\nM 31.78125 74.21875 \nQ 44.046875 74.21875 50.515625 64.515625 \nQ 56.984375 54.828125 56.984375 36.375 \nQ 56.984375 17.96875 50.515625 8.265625 \nQ 44.046875 -1.421875 31.78125 -1.421875 \nQ 19.53125 -1.421875 13.0625 8.265625 \nQ 6.59375 17.96875 6.59375 36.375 \nQ 6.59375 54.828125 13.0625 64.515625 \nQ 19.53125 74.21875 31.78125 74.21875 \nz\n\" id=\"DejaVuSans-48\"/>\n     <path d=\"M 10.796875 72.90625 \nL 49.515625 72.90625 \nL 49.515625 64.59375 \nL 19.828125 64.59375 \nL 19.828125 46.734375 \nQ 21.96875 47.46875 24.109375 47.828125 \nQ 26.265625 48.1875 28.421875 48.1875 \nQ 40.625 48.1875 47.75 41.5 \nQ 54.890625 34.8125 54.890625 23.390625 \nQ 54.890625 11.625 47.5625 5.09375 \nQ 40.234375 -1.421875 26.90625 -1.421875 \nQ 22.3125 -1.421875 17.546875 -0.640625 \nQ 12.796875 0.140625 7.71875 1.703125 \nL 7.71875 11.625 \nQ 12.109375 9.234375 16.796875 8.0625 \nQ 21.484375 6.890625 26.703125 6.890625 \nQ 35.15625 6.890625 40.078125 11.328125 \nQ 45.015625 15.765625 45.015625 23.390625 \nQ 45.015625 31 40.078125 35.4375 \nQ 35.15625 39.890625 26.703125 39.890625 \nQ 22.75 39.890625 18.8125 39.015625 \nQ 14.890625 38.140625 10.796875 36.28125 \nz\n\" id=\"DejaVuSans-53\"/>\n     <path d=\"M 31.78125 34.625 \nQ 24.75 34.625 20.71875 30.859375 \nQ 16.703125 27.09375 16.703125 20.515625 \nQ 16.703125 13.921875 20.71875 10.15625 \nQ 24.75 6.390625 31.78125 6.390625 \nQ 38.8125 6.390625 42.859375 10.171875 \nQ 46.921875 13.96875 46.921875 20.515625 \nQ 46.921875 27.09375 42.890625 30.859375 \nQ 38.875 34.625 31.78125 34.625 \nz\nM 21.921875 38.8125 \nQ 15.578125 40.375 12.03125 44.71875 \nQ 8.5 49.078125 8.5 55.328125 \nQ 8.5 64.0625 14.71875 69.140625 \nQ 20.953125 74.21875 31.78125 74.21875 \nQ 42.671875 74.21875 48.875 69.140625 \nQ 55.078125 64.0625 55.078125 55.328125 \nQ 55.078125 49.078125 51.53125 44.71875 \nQ 48 40.375 41.703125 38.8125 \nQ 48.828125 37.15625 52.796875 32.3125 \nQ 56.78125 27.484375 56.78125 20.515625 \nQ 56.78125 9.90625 50.3125 4.234375 \nQ 43.84375 -1.421875 31.78125 -1.421875 \nQ 19.734375 -1.421875 13.25 4.234375 \nQ 6.78125 9.90625 6.78125 20.515625 \nQ 6.78125 27.484375 10.78125 32.3125 \nQ 14.796875 37.15625 21.921875 38.8125 \nz\nM 18.3125 54.390625 \nQ 18.3125 48.734375 21.84375 45.5625 \nQ 25.390625 42.390625 31.78125 42.390625 \nQ 38.140625 42.390625 41.71875 45.5625 \nQ 45.3125 48.734375 45.3125 54.390625 \nQ 45.3125 60.0625 41.71875 63.234375 \nQ 38.140625 66.40625 31.78125 66.40625 \nQ 25.390625 66.40625 21.84375 63.234375 \nQ 18.3125 60.0625 18.3125 54.390625 \nz\n\" id=\"DejaVuSans-56\"/>\n    </defs>\n    <g style=\"fill:#ffffff;\" transform=\"translate(116.508375 111.342279)scale(0.1 -0.1)\">\n     <use xlink:href=\"#DejaVuSans-49\"/>\n     <use x=\"63.623047\" xlink:href=\"#DejaVuSans-48\"/>\n     <use x=\"127.246094\" xlink:href=\"#DejaVuSans-53\"/>\n     <use x=\"190.869141\" xlink:href=\"#DejaVuSans-56\"/>\n    </g>\n   </g>\n   <g id=\"text_8\">\n    <!-- 54 -->\n    <defs>\n     <path d=\"M 37.796875 64.3125 \nL 12.890625 25.390625 \nL 37.796875 25.390625 \nz\nM 35.203125 72.90625 \nL 47.609375 72.90625 \nL 47.609375 25.390625 \nL 58.015625 25.390625 \nL 58.015625 17.1875 \nL 47.609375 17.1875 \nL 47.609375 0 \nL 37.796875 0 \nL 37.796875 17.1875 \nL 4.890625 17.1875 \nL 4.890625 26.703125 \nz\n\" id=\"DejaVuSans-52\"/>\n    </defs>\n    <g transform=\"translate(235.818875 111.342279)scale(0.1 -0.1)\">\n     <use xlink:href=\"#DejaVuSans-53\"/>\n     <use x=\"63.623047\" xlink:href=\"#DejaVuSans-52\"/>\n    </g>\n   </g>\n   <g id=\"text_9\">\n    <!-- 53 -->\n    <defs>\n     <path d=\"M 40.578125 39.3125 \nQ 47.65625 37.796875 51.625 33 \nQ 55.609375 28.21875 55.609375 21.1875 \nQ 55.609375 10.40625 48.1875 4.484375 \nQ 40.765625 -1.421875 27.09375 -1.421875 \nQ 22.515625 -1.421875 17.65625 -0.515625 \nQ 12.796875 0.390625 7.625 2.203125 \nL 7.625 11.71875 \nQ 11.71875 9.328125 16.59375 8.109375 \nQ 21.484375 6.890625 26.8125 6.890625 \nQ 36.078125 6.890625 40.9375 10.546875 \nQ 45.796875 14.203125 45.796875 21.1875 \nQ 45.796875 27.640625 41.28125 31.265625 \nQ 36.765625 34.90625 28.71875 34.90625 \nL 20.21875 34.90625 \nL 20.21875 43.015625 \nL 29.109375 43.015625 \nQ 36.375 43.015625 40.234375 45.921875 \nQ 44.09375 48.828125 44.09375 54.296875 \nQ 44.09375 59.90625 40.109375 62.90625 \nQ 36.140625 65.921875 28.71875 65.921875 \nQ 24.65625 65.921875 20.015625 65.03125 \nQ 15.375 64.15625 9.8125 62.3125 \nL 9.8125 71.09375 \nQ 15.4375 72.65625 20.34375 73.4375 \nQ 25.25 74.21875 29.59375 74.21875 \nQ 40.828125 74.21875 47.359375 69.109375 \nQ 53.90625 64.015625 53.90625 55.328125 \nQ 53.90625 49.265625 50.4375 45.09375 \nQ 46.96875 40.921875 40.578125 39.3125 \nz\n\" id=\"DejaVuSans-51\"/>\n    </defs>\n    <g transform=\"translate(122.870875 224.290279)scale(0.1 -0.1)\">\n     <use xlink:href=\"#DejaVuSans-53\"/>\n     <use x=\"63.623047\" xlink:href=\"#DejaVuSans-51\"/>\n    </g>\n   </g>\n   <g id=\"text_10\">\n    <!-- 1059 -->\n    <defs>\n     <path d=\"M 10.984375 1.515625 \nL 10.984375 10.5 \nQ 14.703125 8.734375 18.5 7.8125 \nQ 22.3125 6.890625 25.984375 6.890625 \nQ 35.75 6.890625 40.890625 13.453125 \nQ 46.046875 20.015625 46.78125 33.40625 \nQ 43.953125 29.203125 39.59375 26.953125 \nQ 35.25 24.703125 29.984375 24.703125 \nQ 19.046875 24.703125 12.671875 31.3125 \nQ 6.296875 37.9375 6.296875 49.421875 \nQ 6.296875 60.640625 12.9375 67.421875 \nQ 19.578125 74.21875 30.609375 74.21875 \nQ 43.265625 74.21875 49.921875 64.515625 \nQ 56.59375 54.828125 56.59375 36.375 \nQ 56.59375 19.140625 48.40625 8.859375 \nQ 40.234375 -1.421875 26.421875 -1.421875 \nQ 22.703125 -1.421875 18.890625 -0.6875 \nQ 15.09375 0.046875 10.984375 1.515625 \nz\nM 30.609375 32.421875 \nQ 37.25 32.421875 41.125 36.953125 \nQ 45.015625 41.5 45.015625 49.421875 \nQ 45.015625 57.28125 41.125 61.84375 \nQ 37.25 66.40625 30.609375 66.40625 \nQ 23.96875 66.40625 20.09375 61.84375 \nQ 16.21875 57.28125 16.21875 49.421875 \nQ 16.21875 41.5 20.09375 36.953125 \nQ 23.96875 32.421875 30.609375 32.421875 \nz\n\" id=\"DejaVuSans-57\"/>\n    </defs>\n    <g style=\"fill:#ffffff;\" transform=\"translate(229.456375 224.290279)scale(0.1 -0.1)\">\n     <use xlink:href=\"#DejaVuSans-49\"/>\n     <use x=\"63.623047\" xlink:href=\"#DejaVuSans-48\"/>\n     <use x=\"127.246094\" xlink:href=\"#DejaVuSans-53\"/>\n     <use x=\"190.869141\" xlink:href=\"#DejaVuSans-57\"/>\n    </g>\n   </g>\n   <g id=\"text_11\">\n    <!-- Confusion matrix -->\n    <defs>\n     <path d=\"M 64.40625 67.28125 \nL 64.40625 56.890625 \nQ 59.421875 61.53125 53.78125 63.8125 \nQ 48.140625 66.109375 41.796875 66.109375 \nQ 29.296875 66.109375 22.65625 58.46875 \nQ 16.015625 50.828125 16.015625 36.375 \nQ 16.015625 21.96875 22.65625 14.328125 \nQ 29.296875 6.6875 41.796875 6.6875 \nQ 48.140625 6.6875 53.78125 8.984375 \nQ 59.421875 11.28125 64.40625 15.921875 \nL 64.40625 5.609375 \nQ 59.234375 2.09375 53.4375 0.328125 \nQ 47.65625 -1.421875 41.21875 -1.421875 \nQ 24.65625 -1.421875 15.125 8.703125 \nQ 5.609375 18.84375 5.609375 36.375 \nQ 5.609375 53.953125 15.125 64.078125 \nQ 24.65625 74.21875 41.21875 74.21875 \nQ 47.75 74.21875 53.53125 72.484375 \nQ 59.328125 70.75 64.40625 67.28125 \nz\n\" id=\"DejaVuSans-67\"/>\n     <path d=\"M 54.890625 33.015625 \nL 54.890625 0 \nL 45.90625 0 \nL 45.90625 32.71875 \nQ 45.90625 40.484375 42.875 44.328125 \nQ 39.84375 48.1875 33.796875 48.1875 \nQ 26.515625 48.1875 22.3125 43.546875 \nQ 18.109375 38.921875 18.109375 30.90625 \nL 18.109375 0 \nL 9.078125 0 \nL 9.078125 54.6875 \nL 18.109375 54.6875 \nL 18.109375 46.1875 \nQ 21.34375 51.125 25.703125 53.5625 \nQ 30.078125 56 35.796875 56 \nQ 45.21875 56 50.046875 50.171875 \nQ 54.890625 44.34375 54.890625 33.015625 \nz\n\" id=\"DejaVuSans-110\"/>\n     <path d=\"M 37.109375 75.984375 \nL 37.109375 68.5 \nL 28.515625 68.5 \nQ 23.6875 68.5 21.796875 66.546875 \nQ 19.921875 64.59375 19.921875 59.515625 \nL 19.921875 54.6875 \nL 34.71875 54.6875 \nL 34.71875 47.703125 \nL 19.921875 47.703125 \nL 19.921875 0 \nL 10.890625 0 \nL 10.890625 47.703125 \nL 2.296875 47.703125 \nL 2.296875 54.6875 \nL 10.890625 54.6875 \nL 10.890625 58.5 \nQ 10.890625 67.625 15.140625 71.796875 \nQ 19.390625 75.984375 28.609375 75.984375 \nz\n\" id=\"DejaVuSans-102\"/>\n     <path d=\"M 52 44.1875 \nQ 55.375 50.25 60.0625 53.125 \nQ 64.75 56 71.09375 56 \nQ 79.640625 56 84.28125 50.015625 \nQ 88.921875 44.046875 88.921875 33.015625 \nL 88.921875 0 \nL 79.890625 0 \nL 79.890625 32.71875 \nQ 79.890625 40.578125 77.09375 44.375 \nQ 74.3125 48.1875 68.609375 48.1875 \nQ 61.625 48.1875 57.5625 43.546875 \nQ 53.515625 38.921875 53.515625 30.90625 \nL 53.515625 0 \nL 44.484375 0 \nL 44.484375 32.71875 \nQ 44.484375 40.625 41.703125 44.40625 \nQ 38.921875 48.1875 33.109375 48.1875 \nQ 26.21875 48.1875 22.15625 43.53125 \nQ 18.109375 38.875 18.109375 30.90625 \nL 18.109375 0 \nL 9.078125 0 \nL 9.078125 54.6875 \nL 18.109375 54.6875 \nL 18.109375 46.1875 \nQ 21.1875 51.21875 25.484375 53.609375 \nQ 29.78125 56 35.6875 56 \nQ 41.65625 56 45.828125 52.96875 \nQ 50 49.953125 52 44.1875 \nz\n\" id=\"DejaVuSans-109\"/>\n     <path d=\"M 54.890625 54.6875 \nL 35.109375 28.078125 \nL 55.90625 0 \nL 45.3125 0 \nL 29.390625 21.484375 \nL 13.484375 0 \nL 2.875 0 \nL 24.125 28.609375 \nL 4.6875 54.6875 \nL 15.28125 54.6875 \nL 29.78125 35.203125 \nL 44.28125 54.6875 \nz\n\" id=\"DejaVuSans-120\"/>\n    </defs>\n    <g transform=\"translate(134.398 48.868279)scale(0.12 -0.12)\">\n     <use xlink:href=\"#DejaVuSans-67\"/>\n     <use x=\"69.824219\" xlink:href=\"#DejaVuSans-111\"/>\n     <use x=\"131.005859\" xlink:href=\"#DejaVuSans-110\"/>\n     <use x=\"194.384766\" xlink:href=\"#DejaVuSans-102\"/>\n     <use x=\"229.589844\" xlink:href=\"#DejaVuSans-117\"/>\n     <use x=\"292.96875\" xlink:href=\"#DejaVuSans-115\"/>\n     <use x=\"345.068359\" xlink:href=\"#DejaVuSans-105\"/>\n     <use x=\"372.851562\" xlink:href=\"#DejaVuSans-111\"/>\n     <use x=\"434.033203\" xlink:href=\"#DejaVuSans-110\"/>\n     <use x=\"497.412109\" xlink:href=\"#DejaVuSans-32\"/>\n     <use x=\"529.199219\" xlink:href=\"#DejaVuSans-109\"/>\n     <use x=\"626.611328\" xlink:href=\"#DejaVuSans-97\"/>\n     <use x=\"687.890625\" xlink:href=\"#DejaVuSans-116\"/>\n     <use x=\"727.099609\" xlink:href=\"#DejaVuSans-114\"/>\n     <use x=\"768.212891\" xlink:href=\"#DejaVuSans-105\"/>\n     <use x=\"795.996094\" xlink:href=\"#DejaVuSans-120\"/>\n    </g>\n   </g>\n  </g>\n  <g id=\"axes_2\">\n   <g id=\"patch_7\">\n    <path clip-path=\"url(#p1361d117e7)\" d=\"M 312.773875 324.932558 \nL 312.773875 323.705088 \nL 312.773875 11.927471 \nL 312.773875 10.7 \nL 328.485503 10.7 \nL 328.485503 11.927471 \nL 328.485503 323.705088 \nL 328.485503 324.932558 \nz\n\" style=\"fill:#ffffff;stroke:#ffffff;stroke-linejoin:miter;stroke-width:0.01;\"/>\n   </g>\n   <image height=\"313.92\" id=\"image86bdb2f3ff\" transform=\"scale(1 -1)translate(0 -313.92)\" width=\"15.84\" x=\"312.48\" xlink:href=\"data:image/png;base64,\niVBORw0KGgoAAAANSUhEUgAAABYAAAG0CAYAAAA2F9dqAAAABHNCSVQICAgIfAhkiAAAAhFJREFUeJztnMuN6DAMxPwW6b/dd1gg2YOjiRuYAwGyAEEY0Uri/fz7//s8q8DVKbvWT6fsWtezOi33Oi41vK5S3ebw1G0Kt6xoRtFB3UJPN1wUvMK1jIHPPJxute2GXPTqtlG3oG6hueg78KIofo75ivWiboG33ZCLvgNPN+AzT90GdQvqFnpv9D7zBp5uLqGgbkHdgrp9hX3mDeoW1C2o21HYZ94LTzeXUFC30NPtLvnGi8JFH3pR3MCTR8tY3QZ1OwrzosB1fDu8F+Cu4GWsbgPypbA0vLtSlhgFTzdgFOo28B5NwLXpfcVXGBcFcVd0CvMOiFEE3n0FcXh+QE5h3i0W7+QBD0hvV9CGRzwgpcK8ezfe8Ii7onXZhIvC4aUwMIpSYYcXXPTBN6F+YYcXatsNGAVxu7noN+oWiLpVyqrbgVc3AXjyeBmr2wDcbr5XDETdep9jRrFRt+BPFYK6fYW9uhnULfheEdTtLGwUG55uDi/whsfL2CgCTzejCOoW1C2o21mYFwWv41pho9gUv6VLVyy8jNUt8LabUQRex8R/aubwXngdA6PwgNQL86JQt6BuwY6/wno88DoGRqFuA69jowi8AwKMwo4HXscu+sDr+Fq4KNbT+fPKZse14RnFRt1CrWOHF3gHxCiCugV1C+p2FMb9GgRRN5/SG+TwzDiFjWLD080oAk83owi1jv8Aso0cJF4jjPwAAAAASUVORK5CYII=\" y=\"-10.8\"/>\n   <g id=\"matplotlib.axis_3\"/>\n   <g id=\"matplotlib.axis_4\">\n    <g id=\"ytick_3\">\n     <g id=\"line2d_5\">\n      <defs>\n       <path d=\"M 0 0 \nL 3.5 0 \n\" id=\"mff3b1158e2\" style=\"stroke:#000000;stroke-width:0.8;\"/>\n      </defs>\n      <g>\n       <use style=\"stroke:#000000;stroke-width:0.8;\" x=\"328.485503\" xlink:href=\"#mff3b1158e2\" y=\"324.932558\"/>\n      </g>\n     </g>\n     <g id=\"text_12\">\n      <!-- 0 -->\n      <g transform=\"translate(335.485503 328.731777)scale(0.1 -0.1)\">\n       <use xlink:href=\"#DejaVuSans-48\"/>\n      </g>\n     </g>\n    </g>\n    <g id=\"ytick_4\">\n     <g id=\"line2d_6\">\n      <g>\n       <use style=\"stroke:#000000;stroke-width:0.8;\" x=\"328.485503\" xlink:href=\"#mff3b1158e2\" y=\"265.587411\"/>\n      </g>\n     </g>\n     <g id=\"text_13\">\n      <!-- 200 -->\n      <defs>\n       <path d=\"M 19.1875 8.296875 \nL 53.609375 8.296875 \nL 53.609375 0 \nL 7.328125 0 \nL 7.328125 8.296875 \nQ 12.9375 14.109375 22.625 23.890625 \nQ 32.328125 33.6875 34.8125 36.53125 \nQ 39.546875 41.84375 41.421875 45.53125 \nQ 43.3125 49.21875 43.3125 52.78125 \nQ 43.3125 58.59375 39.234375 62.25 \nQ 35.15625 65.921875 28.609375 65.921875 \nQ 23.96875 65.921875 18.8125 64.3125 \nQ 13.671875 62.703125 7.8125 59.421875 \nL 7.8125 69.390625 \nQ 13.765625 71.78125 18.9375 73 \nQ 24.125 74.21875 28.421875 74.21875 \nQ 39.75 74.21875 46.484375 68.546875 \nQ 53.21875 62.890625 53.21875 53.421875 \nQ 53.21875 48.921875 51.53125 44.890625 \nQ 49.859375 40.875 45.40625 35.40625 \nQ 44.1875 33.984375 37.640625 27.21875 \nQ 31.109375 20.453125 19.1875 8.296875 \nz\n\" id=\"DejaVuSans-50\"/>\n      </defs>\n      <g transform=\"translate(335.485503 269.386629)scale(0.1 -0.1)\">\n       <use xlink:href=\"#DejaVuSans-50\"/>\n       <use x=\"63.623047\" xlink:href=\"#DejaVuSans-48\"/>\n       <use x=\"127.246094\" xlink:href=\"#DejaVuSans-48\"/>\n      </g>\n     </g>\n    </g>\n    <g id=\"ytick_5\">\n     <g id=\"line2d_7\">\n      <g>\n       <use style=\"stroke:#000000;stroke-width:0.8;\" x=\"328.485503\" xlink:href=\"#mff3b1158e2\" y=\"206.242263\"/>\n      </g>\n     </g>\n     <g id=\"text_14\">\n      <!-- 400 -->\n      <g transform=\"translate(335.485503 210.041481)scale(0.1 -0.1)\">\n       <use xlink:href=\"#DejaVuSans-52\"/>\n       <use x=\"63.623047\" xlink:href=\"#DejaVuSans-48\"/>\n       <use x=\"127.246094\" xlink:href=\"#DejaVuSans-48\"/>\n      </g>\n     </g>\n    </g>\n    <g id=\"ytick_6\">\n     <g id=\"line2d_8\">\n      <g>\n       <use style=\"stroke:#000000;stroke-width:0.8;\" x=\"328.485503\" xlink:href=\"#mff3b1158e2\" y=\"146.897115\"/>\n      </g>\n     </g>\n     <g id=\"text_15\">\n      <!-- 600 -->\n      <defs>\n       <path d=\"M 33.015625 40.375 \nQ 26.375 40.375 22.484375 35.828125 \nQ 18.609375 31.296875 18.609375 23.390625 \nQ 18.609375 15.53125 22.484375 10.953125 \nQ 26.375 6.390625 33.015625 6.390625 \nQ 39.65625 6.390625 43.53125 10.953125 \nQ 47.40625 15.53125 47.40625 23.390625 \nQ 47.40625 31.296875 43.53125 35.828125 \nQ 39.65625 40.375 33.015625 40.375 \nz\nM 52.59375 71.296875 \nL 52.59375 62.3125 \nQ 48.875 64.0625 45.09375 64.984375 \nQ 41.3125 65.921875 37.59375 65.921875 \nQ 27.828125 65.921875 22.671875 59.328125 \nQ 17.53125 52.734375 16.796875 39.40625 \nQ 19.671875 43.65625 24.015625 45.921875 \nQ 28.375 48.1875 33.59375 48.1875 \nQ 44.578125 48.1875 50.953125 41.515625 \nQ 57.328125 34.859375 57.328125 23.390625 \nQ 57.328125 12.15625 50.6875 5.359375 \nQ 44.046875 -1.421875 33.015625 -1.421875 \nQ 20.359375 -1.421875 13.671875 8.265625 \nQ 6.984375 17.96875 6.984375 36.375 \nQ 6.984375 53.65625 15.1875 63.9375 \nQ 23.390625 74.21875 37.203125 74.21875 \nQ 40.921875 74.21875 44.703125 73.484375 \nQ 48.484375 72.75 52.59375 71.296875 \nz\n\" id=\"DejaVuSans-54\"/>\n      </defs>\n      <g transform=\"translate(335.485503 150.696333)scale(0.1 -0.1)\">\n       <use xlink:href=\"#DejaVuSans-54\"/>\n       <use x=\"63.623047\" xlink:href=\"#DejaVuSans-48\"/>\n       <use x=\"127.246094\" xlink:href=\"#DejaVuSans-48\"/>\n      </g>\n     </g>\n    </g>\n    <g id=\"ytick_7\">\n     <g id=\"line2d_9\">\n      <g>\n       <use style=\"stroke:#000000;stroke-width:0.8;\" x=\"328.485503\" xlink:href=\"#mff3b1158e2\" y=\"87.551967\"/>\n      </g>\n     </g>\n     <g id=\"text_16\">\n      <!-- 800 -->\n      <g transform=\"translate(335.485503 91.351185)scale(0.1 -0.1)\">\n       <use xlink:href=\"#DejaVuSans-56\"/>\n       <use x=\"63.623047\" xlink:href=\"#DejaVuSans-48\"/>\n       <use x=\"127.246094\" xlink:href=\"#DejaVuSans-48\"/>\n      </g>\n     </g>\n    </g>\n    <g id=\"ytick_8\">\n     <g id=\"line2d_10\">\n      <g>\n       <use style=\"stroke:#000000;stroke-width:0.8;\" x=\"328.485503\" xlink:href=\"#mff3b1158e2\" y=\"28.206819\"/>\n      </g>\n     </g>\n     <g id=\"text_17\">\n      <!-- 1000 -->\n      <g transform=\"translate(335.485503 32.006037)scale(0.1 -0.1)\">\n       <use xlink:href=\"#DejaVuSans-49\"/>\n       <use x=\"63.623047\" xlink:href=\"#DejaVuSans-48\"/>\n       <use x=\"127.246094\" xlink:href=\"#DejaVuSans-48\"/>\n       <use x=\"190.869141\" xlink:href=\"#DejaVuSans-48\"/>\n      </g>\n     </g>\n    </g>\n   </g>\n   <g id=\"patch_8\">\n    <path d=\"M 312.773875 324.932558 \nL 312.773875 323.705088 \nL 312.773875 11.927471 \nL 312.773875 10.7 \nL 328.485503 10.7 \nL 328.485503 11.927471 \nL 328.485503 323.705088 \nL 328.485503 324.932558 \nz\n\" style=\"fill:none;stroke:#000000;stroke-linejoin:miter;stroke-width:0.8;\"/>\n   </g>\n  </g>\n </g>\n <defs>\n  <clipPath id=\"p53fd1e1743\">\n   <rect height=\"225.896\" width=\"225.896\" x=\"72.759375\" y=\"54.868279\"/>\n  </clipPath>\n  <clipPath id=\"p1361d117e7\">\n   <rect height=\"314.232558\" width=\"15.711628\" x=\"312.773875\" y=\"10.7\"/>\n  </clipPath>\n </defs>\n</svg>\n",
      "image/png": "[encoded data removed]"
     },
     "metadata": {}
    }
   ],
   "source": [
    "cnf_matrix = confusion_matrix(results['true'], results['predicted'] ) # index to evaluate partial runs\n",
    "\n",
    "np.set_printoptions(precision=2)\n",
    "\n",
    "title=\"Confusion matrix\"\n",
    "\n",
    "# Plot normalized confusion matrix\n",
    "fig = plt.figure(figsize=(5,5), dpi=100)\n",
    "#fig.set_size_inches(6,6)\n",
    "\n",
    "plot_confusion_matrix(cnf_matrix, classes=[\"Negative\", \"Positive\"],normalize=False, \n",
    "                      title=title, cmap=plt.cm.Blues)\n"
   ]
  },
  {
   "cell_type": "code",
   "execution_count": 18,
   "metadata": {},
   "outputs": [],
   "source": [
    "cm = ConfusionMatrix(actual_vector=results['true'].values, predict_vector=results['predicted'].values )"
   ]
  },
  {
   "cell_type": "code",
   "execution_count": 19,
   "metadata": {
    "tags": []
   },
   "outputs": [
    {
     "output_type": "stream",
     "name": "stdout",
     "text": "Overall Statistics : \n\n95% CI                                                            (0.94299,0.96078)\nACC Macro                                                         0.95189\nARI                                                               0.81673\nAUNP                                                              0.95189\nAUNU                                                              0.95189\nBangdiwala B                                                      0.90609\nBennett S                                                         0.90378\nCBA                                                               0.95146\nCSI                                                               0.90378\nChi-Squared                                                       1816.5932\nChi-Squared DF                                                    1\nConditional Entropy                                               0.27832\nCramer V                                                          0.90378\nCross Entropy                                                     1.0\nF1 Macro                                                          0.95189\nF1 Micro                                                          0.95189\nFNR Macro                                                         0.04811\nFNR Micro                                                         0.04811\nFPR Macro                                                         0.04811\nFPR Micro                                                         0.04811\nGwet AC1                                                          0.90378\nHamming Loss                                                      0.04811\nJoint Entropy                                                     1.27832\nKL Divergence                                                     0.0\nKappa                                                             0.90378\nKappa 95% CI                                                      (0.88599,0.92157)\nKappa No Prevalence                                               0.90378\nKappa Standard Error                                              0.00908\nKappa Unbiased                                                    0.90378\nKrippendorff Alpha                                                0.9038\nLambda A                                                          0.90378\nLambda B                                                          0.90369\nMutual Information                                                0.72168\nNIR                                                               0.5\nOverall ACC                                                       0.95189\nOverall CEN                                                       0.25872\nOverall J                                                         (1.81639,0.90819)\nOverall MCC                                                       0.90378\nOverall MCEN                                                      0.21387\nOverall RACC                                                      0.5\nOverall RACCU                                                     0.5\nP-Value                                                           None\nPPV Macro                                                         0.95189\nPPV Micro                                                         0.95189\nPearson C                                                         0.67051\nPhi-Squared                                                       0.81681\nRCI                                                               0.72168\nRR                                                                1112.0\nReference Entropy                                                 1.0\nResponse Entropy                                                  1.0\nSOA1(Landis & Koch)                                               Almost Perfect\nSOA2(Fleiss)                                                      Excellent\nSOA3(Altman)                                                      Very Good\nSOA4(Cicchetti)                                                   Excellent\nSOA5(Cramer)                                                      Very Strong\nSOA6(Matthews)                                                    Very Strong\nScott PI                                                          0.90378\nStandard Error                                                    0.00454\nTNR Macro                                                         0.95189\nTNR Micro                                                         0.95189\nTPR Macro                                                         0.95189\nTPR Micro                                                         0.95189\nZero-one Loss                                                     107\n\nClass Statistics :\n\nClasses                                                           0             1             \nACC(Accuracy)                                                     0.95189       0.95189       \nAGF(Adjusted F-score)                                             0.95163       0.95215       \nAGM(Adjusted geometric mean)                                      0.95204       0.95174       \nAM(Difference between automatic and manual classification)        -1            1             \nAUC(Area under the ROC curve)                                     0.95189       0.95189       \nAUCI(AUC value interpretation)                                    Excellent     Excellent     \nAUPR(Area under the PR curve)                                     0.95187       0.95191       \nBCD(Bray-Curtis dissimilarity)                                    0.00022       0.00022       \nBM(Informedness or bookmaker informedness)                        0.90378       0.90378       \nCEN(Confusion entropy)                                            0.2588        0.25863       \nDOR(Diagnostic odds ratio)                                        391.48218     391.48218     \nDP(Discriminant power)                                            1.42944       1.42944       \nDPI(Discriminant power interpretation)                            Limited       Limited       \nERR(Error rate)                                                   0.04811       0.04811       \nF0.5(F0.5 score)                                                  0.95212       0.95165       \nF1(F1 score - harmonic mean of precision and sensitivity)         0.95187       0.95191       \nF2(F2 score)                                                      0.95161       0.95217       \nFDR(False discovery rate)                                         0.0477        0.04852       \nFN(False negative/miss/type 2 error)                              54            53            \nFNR(Miss rate or false negative rate)                             0.04856       0.04766       \nFOR(False omission rate)                                          0.04852       0.0477        \nFP(False positive/type 1 error/false alarm)                       53            54            \nFPR(Fall-out or false positive rate)                              0.04766       0.04856       \nG(G-measure geometric mean of precision and sensitivity)          0.95187       0.95191       \nGI(Gini index)                                                    0.90378       0.90378       \nGM(G-mean geometric mean of specificity and sensitivity)          0.95189       0.95189       \nIBA(Index of balanced accuracy)                                   0.90528       0.90691       \nICSI(Individual classification success index)                     0.90373       0.90382       \nIS(Information score)                                             0.92948       0.92825       \nJ(Jaccard index)                                                  0.90815       0.90823       \nLS(Lift score)                                                    1.90459       1.90296       \nMCC(Matthews correlation coefficient)                             0.90378       0.90378       \nMCCI(Matthews correlation coefficient interpretation)             Very Strong   Very Strong   \nMCEN(Modified confusion entropy)                                  0.40822       0.40798       \nMK(Markedness)                                                    0.90378       0.90378       \nN(Condition negative)                                             1112          1112          \nNLR(Negative likelihood ratio)                                    0.05099       0.05009       \nNLRI(Negative likelihood ratio interpretation)                    Good          Good          \nNPV(Negative predictive value)                                    0.95148       0.9523        \nOC(Overlap coefficient)                                           0.9523        0.95234       \nOOC(Otsuka-Ochiai coefficient)                                    0.95187       0.95191       \nOP(Optimized precision)                                           0.95142       0.95142       \nP(Condition positive or support)                                  1112          1112          \nPLR(Positive likelihood ratio)                                    19.96226      19.61111      \nPLRI(Positive likelihood ratio interpretation)                    Good          Good          \nPOP(Population)                                                   2224          2224          \nPPV(Precision or positive predictive value)                       0.9523        0.95148       \nPRE(Prevalence)                                                   0.5           0.5           \nQ(Yule Q - coefficient of colligation)                            0.9949        0.9949        \nQI(Yule Q interpretation)                                         Strong        Strong        \nRACC(Random accuracy)                                             0.24978       0.25022       \nRACCU(Random accuracy unbiased)                                   0.24978       0.25022       \nTN(True negative/correct rejection)                               1059          1058          \nTNR(Specificity or true negative rate)                            0.95234       0.95144       \nTON(Test outcome negative)                                        1113          1111          \nTOP(Test outcome positive)                                        1111          1113          \nTP(True positive/hit)                                             1058          1059          \nTPR(Sensitivity, recall, hit rate, or true positive rate)         0.95144       0.95234       \nY(Youden index)                                                   0.90378       0.90378       \ndInd(Distance index)                                              0.06804       0.06804       \nsInd(Similarity index)                                            0.95189       0.95189       \n\n"
    }
   ],
   "source": [
    "cm.stat()"
   ]
  },
  {
   "cell_type": "code",
   "execution_count": 20,
   "metadata": {
    "tags": []
   },
   "outputs": [
    {
     "output_type": "execute_result",
     "data": {
      "text/plain": "{'Status': True,\n 'Message': '/home/ubuntu/thesis/Rodrigo-Debias-Dutch-Embeddings/Rodrigo-notebooks/Finetuning/../../Rodrigo-data/Finetuning/dbrd/v2/cm_stat_bertje_biased.csv'}"
     },
     "metadata": {},
     "execution_count": 20
    }
   ],
   "source": [
    "import pickle\n",
    "# file_pickle_stats =  \"../../Rodrigo-data/Finetuning/dbrd/v2/cm_stat_bertje_debiased\"\n",
    "\n",
    "file_pickle_stats =  \"../../Rodrigo-data/Finetuning/dbrd/v2/cm_stat_bertje_biased\"\n",
    "pickle.dump( cm, open(file_pickle_stats+\".p\", \"wb\" ))\n",
    "st_test =pickle.load( open(file_pickle_stats+\".p\", \"rb\" ))\n",
    "cm.save_csv(file_pickle_stats) #save csv for easy to read\n"
   ]
  },
  {
   "cell_type": "markdown",
   "metadata": {},
   "source": [
    "## Saving the model"
   ]
  },
  {
   "cell_type": "code",
   "execution_count": 21,
   "metadata": {
    "tags": []
   },
   "outputs": [
    {
     "output_type": "execute_result",
     "data": {
      "text/plain": "('../../Rodrigo-data/Finetuning/dbrd/v2/bert_biased/vocab.txt',)"
     },
     "metadata": {},
     "execution_count": 21
    }
   ],
   "source": [
    "from transformers import WEIGHTS_NAME, CONFIG_NAME\n",
    "\n",
    "# output_dir = \"../../Rodrigo-data/Finetuning/dbrd/v2/bert_debiased/\"\n",
    "output_dir = \"../../Rodrigo-data/Finetuning/dbrd/v2/bert_biased/\"\n",
    "\n",
    "# Step 1: Save a model, configuration and vocabulary that you have fine-tuned\n",
    "\n",
    "# If we have a distributed model, save only the encapsulated model\n",
    "# (it was wrapped in PyTorch DistributedDataParallel or DataParallel)\n",
    "model_to_save = model.module if hasattr(model, 'module') else model\n",
    "\n",
    "# If we save using the predefined names, we can load using `from_pretrained`\n",
    "output_model_file = os.path.join(output_dir, WEIGHTS_NAME)\n",
    "output_config_file = os.path.join(output_dir, CONFIG_NAME)\n",
    "\n",
    "torch.save(model_to_save.state_dict(), output_model_file)\n",
    "model_to_save.config.to_json_file(output_config_file)\n",
    "tokenizer.save_vocabulary(output_dir)"
   ]
  },
  {
   "cell_type": "code",
   "execution_count": null,
   "metadata": {},
   "outputs": [],
   "source": []
  }
 ],
 "metadata": {
  "kernelspec": {
   "display_name": "Python 3.6.5 64-bit ('pytorch_p36': conda)",
   "language": "python",
   "name": "python36564bitpytorchp36conda14e9f2ec2c1644a58673c19beabaa9b5"
  },
  "language_info": {
   "codemirror_mode": {
    "name": "ipython",
    "version": 3
   },
   "file_extension": ".py",
   "mimetype": "text/x-python",
   "name": "python",
   "nbconvert_exporter": "python",
   "pygments_lexer": "ipython3",
   "version": "3.6.5-final"
  }
 },
 "nbformat": 4,
 "nbformat_minor": 4
}