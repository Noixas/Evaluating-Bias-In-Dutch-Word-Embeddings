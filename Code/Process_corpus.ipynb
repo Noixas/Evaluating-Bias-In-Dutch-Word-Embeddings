{
 "cells": [
  {
   "cell_type": "markdown",
   "metadata": {},
   "source": [
    "# Process Corpus for Sentence extractions\n",
    "\n",
    "1. Process the Dutch wiki xml dump.\n",
    "2. Get rid of tags and other elements from the xml format. (Use perl script)\n",
    "3. Retrieve text only from the corpus. \n",
    "4. Use nltk to split everything in sentences."
   ]
  },
  {
   "cell_type": "code",
   "execution_count": 1,
   "metadata": {
    "tags": []
   },
   "outputs": [
    {
     "output_type": "stream",
     "name": "stderr",
     "text": "unable to import 'smart_open.gcs', disabling that module\n"
    }
   ],
   "source": [
    "from gensim.corpora import WikiCorpus\n",
    "from gensim.test.utils import datapath, get_tmpfile\n",
    "# corpus_path = get_tmpfile('../Rodrigo-data/Corpus/nlwiki-corpus.mm')"
   ]
  },
  {
   "cell_type": "code",
   "execution_count": 2,
   "metadata": {},
   "outputs": [
    {
     "output_type": "error",
     "ename": "FileNotFoundError",
     "evalue": "[Errno 2] No such file or directory: '../Rodrigo-data/Corpus/wiki/nlwiki-20181001-corpus.xml.bz2'",
     "traceback": [
      "\u001b[0;31m---------------------------------------------------------------------------\u001b[0m",
      "\u001b[0;31mFileNotFoundError\u001b[0m                         Traceback (most recent call last)",
      "\u001b[0;32m<ipython-input-2-2cfad3e404d7>\u001b[0m in \u001b[0;36m<module>\u001b[0;34m()\u001b[0m\n\u001b[0;32m----> 1\u001b[0;31m \u001b[0mwiki\u001b[0m \u001b[0;34m=\u001b[0m \u001b[0mWikiCorpus\u001b[0m\u001b[0;34m(\u001b[0m\u001b[0;34m'../Rodrigo-data/Corpus/wiki/nlwiki-20181001-corpus.xml.bz2'\u001b[0m\u001b[0;34m)\u001b[0m\u001b[0;34m\u001b[0m\u001b[0m\n\u001b[0m",
      "\u001b[0;32m~/anaconda3/envs/pytorch_p36/lib/python3.6/site-packages/gensim/corpora/wikicorpus.py\u001b[0m in \u001b[0;36m__init__\u001b[0;34m(self, fname, processes, lemmatize, dictionary, filter_namespaces, tokenizer_func, article_min_tokens, token_min_len, token_max_len, lower, filter_articles)\u001b[0m\n\u001b[1;32m    634\u001b[0m \u001b[0;34m\u001b[0m\u001b[0m\n\u001b[1;32m    635\u001b[0m         \u001b[0;32mif\u001b[0m \u001b[0mdictionary\u001b[0m \u001b[0;32mis\u001b[0m \u001b[0;32mNone\u001b[0m\u001b[0;34m:\u001b[0m\u001b[0;34m\u001b[0m\u001b[0m\n\u001b[0;32m--> 636\u001b[0;31m             \u001b[0mself\u001b[0m\u001b[0;34m.\u001b[0m\u001b[0mdictionary\u001b[0m \u001b[0;34m=\u001b[0m \u001b[0mDictionary\u001b[0m\u001b[0;34m(\u001b[0m\u001b[0mself\u001b[0m\u001b[0;34m.\u001b[0m\u001b[0mget_texts\u001b[0m\u001b[0;34m(\u001b[0m\u001b[0;34m)\u001b[0m\u001b[0;34m)\u001b[0m\u001b[0;34m\u001b[0m\u001b[0m\n\u001b[0m\u001b[1;32m    637\u001b[0m         \u001b[0;32melse\u001b[0m\u001b[0;34m:\u001b[0m\u001b[0;34m\u001b[0m\u001b[0m\n\u001b[1;32m    638\u001b[0m             \u001b[0mself\u001b[0m\u001b[0;34m.\u001b[0m\u001b[0mdictionary\u001b[0m \u001b[0;34m=\u001b[0m \u001b[0mdictionary\u001b[0m\u001b[0;34m\u001b[0m\u001b[0m\n",
      "\u001b[0;32m~/anaconda3/envs/pytorch_p36/lib/python3.6/site-packages/gensim/corpora/dictionary.py\u001b[0m in \u001b[0;36m__init__\u001b[0;34m(self, documents, prune_at)\u001b[0m\n\u001b[1;32m     85\u001b[0m \u001b[0;34m\u001b[0m\u001b[0m\n\u001b[1;32m     86\u001b[0m         \u001b[0;32mif\u001b[0m \u001b[0mdocuments\u001b[0m \u001b[0;32mis\u001b[0m \u001b[0;32mnot\u001b[0m \u001b[0;32mNone\u001b[0m\u001b[0;34m:\u001b[0m\u001b[0;34m\u001b[0m\u001b[0m\n\u001b[0;32m---> 87\u001b[0;31m             \u001b[0mself\u001b[0m\u001b[0;34m.\u001b[0m\u001b[0madd_documents\u001b[0m\u001b[0;34m(\u001b[0m\u001b[0mdocuments\u001b[0m\u001b[0;34m,\u001b[0m \u001b[0mprune_at\u001b[0m\u001b[0;34m=\u001b[0m\u001b[0mprune_at\u001b[0m\u001b[0;34m)\u001b[0m\u001b[0;34m\u001b[0m\u001b[0m\n\u001b[0m\u001b[1;32m     88\u001b[0m \u001b[0;34m\u001b[0m\u001b[0m\n\u001b[1;32m     89\u001b[0m     \u001b[0;32mdef\u001b[0m \u001b[0m__getitem__\u001b[0m\u001b[0;34m(\u001b[0m\u001b[0mself\u001b[0m\u001b[0;34m,\u001b[0m \u001b[0mtokenid\u001b[0m\u001b[0;34m)\u001b[0m\u001b[0;34m:\u001b[0m\u001b[0;34m\u001b[0m\u001b[0m\n",
      "\u001b[0;32m~/anaconda3/envs/pytorch_p36/lib/python3.6/site-packages/gensim/corpora/dictionary.py\u001b[0m in \u001b[0;36madd_documents\u001b[0;34m(self, documents, prune_at)\u001b[0m\n\u001b[1;32m    198\u001b[0m \u001b[0;34m\u001b[0m\u001b[0m\n\u001b[1;32m    199\u001b[0m         \"\"\"\n\u001b[0;32m--> 200\u001b[0;31m         \u001b[0;32mfor\u001b[0m \u001b[0mdocno\u001b[0m\u001b[0;34m,\u001b[0m \u001b[0mdocument\u001b[0m \u001b[0;32min\u001b[0m \u001b[0menumerate\u001b[0m\u001b[0;34m(\u001b[0m\u001b[0mdocuments\u001b[0m\u001b[0;34m)\u001b[0m\u001b[0;34m:\u001b[0m\u001b[0;34m\u001b[0m\u001b[0m\n\u001b[0m\u001b[1;32m    201\u001b[0m             \u001b[0;31m# log progress & run a regular check for pruning, once every 10k docs\u001b[0m\u001b[0;34m\u001b[0m\u001b[0;34m\u001b[0m\u001b[0m\n\u001b[1;32m    202\u001b[0m             \u001b[0;32mif\u001b[0m \u001b[0mdocno\u001b[0m \u001b[0;34m%\u001b[0m \u001b[0;36m10000\u001b[0m \u001b[0;34m==\u001b[0m \u001b[0;36m0\u001b[0m\u001b[0;34m:\u001b[0m\u001b[0;34m\u001b[0m\u001b[0m\n",
      "\u001b[0;32m~/anaconda3/envs/pytorch_p36/lib/python3.6/site-packages/gensim/corpora/wikicorpus.py\u001b[0m in \u001b[0;36mget_texts\u001b[0;34m(self)\u001b[0m\n\u001b[1;32m    676\u001b[0m             ((text, self.lemmatize, title, pageid, tokenization_params)\n\u001b[1;32m    677\u001b[0m              \u001b[0;32mfor\u001b[0m \u001b[0mtitle\u001b[0m\u001b[0;34m,\u001b[0m \u001b[0mtext\u001b[0m\u001b[0;34m,\u001b[0m \u001b[0mpageid\u001b[0m\u001b[0;34m\u001b[0m\u001b[0m\n\u001b[0;32m--> 678\u001b[0;31m              in extract_pages(bz2.BZ2File(self.fname), self.filter_namespaces, self.filter_articles))\n\u001b[0m\u001b[1;32m    679\u001b[0m         \u001b[0mpool\u001b[0m \u001b[0;34m=\u001b[0m \u001b[0mmultiprocessing\u001b[0m\u001b[0;34m.\u001b[0m\u001b[0mPool\u001b[0m\u001b[0;34m(\u001b[0m\u001b[0mself\u001b[0m\u001b[0;34m.\u001b[0m\u001b[0mprocesses\u001b[0m\u001b[0;34m,\u001b[0m \u001b[0minit_to_ignore_interrupt\u001b[0m\u001b[0;34m)\u001b[0m\u001b[0;34m\u001b[0m\u001b[0m\n\u001b[1;32m    680\u001b[0m \u001b[0;34m\u001b[0m\u001b[0m\n",
      "\u001b[0;32m~/anaconda3/envs/pytorch_p36/lib/python3.6/bz2.py\u001b[0m in \u001b[0;36m__init__\u001b[0;34m(self, filename, mode, buffering, compresslevel)\u001b[0m\n\u001b[1;32m     94\u001b[0m \u001b[0;34m\u001b[0m\u001b[0m\n\u001b[1;32m     95\u001b[0m         \u001b[0;32mif\u001b[0m \u001b[0misinstance\u001b[0m\u001b[0;34m(\u001b[0m\u001b[0mfilename\u001b[0m\u001b[0;34m,\u001b[0m \u001b[0;34m(\u001b[0m\u001b[0mstr\u001b[0m\u001b[0;34m,\u001b[0m \u001b[0mbytes\u001b[0m\u001b[0;34m,\u001b[0m \u001b[0mos\u001b[0m\u001b[0;34m.\u001b[0m\u001b[0mPathLike\u001b[0m\u001b[0;34m)\u001b[0m\u001b[0;34m)\u001b[0m\u001b[0;34m:\u001b[0m\u001b[0;34m\u001b[0m\u001b[0m\n\u001b[0;32m---> 96\u001b[0;31m             \u001b[0mself\u001b[0m\u001b[0;34m.\u001b[0m\u001b[0m_fp\u001b[0m \u001b[0;34m=\u001b[0m \u001b[0m_builtin_open\u001b[0m\u001b[0;34m(\u001b[0m\u001b[0mfilename\u001b[0m\u001b[0;34m,\u001b[0m \u001b[0mmode\u001b[0m\u001b[0;34m)\u001b[0m\u001b[0;34m\u001b[0m\u001b[0m\n\u001b[0m\u001b[1;32m     97\u001b[0m             \u001b[0mself\u001b[0m\u001b[0;34m.\u001b[0m\u001b[0m_closefp\u001b[0m \u001b[0;34m=\u001b[0m \u001b[0;32mTrue\u001b[0m\u001b[0;34m\u001b[0m\u001b[0m\n\u001b[1;32m     98\u001b[0m             \u001b[0mself\u001b[0m\u001b[0;34m.\u001b[0m\u001b[0m_mode\u001b[0m \u001b[0;34m=\u001b[0m \u001b[0mmode_code\u001b[0m\u001b[0;34m\u001b[0m\u001b[0m\n",
      "\u001b[0;31mFileNotFoundError\u001b[0m: [Errno 2] No such file or directory: '../Rodrigo-data/Corpus/wiki/nlwiki-20181001-corpus.xml.bz2'"
     ]
    }
   ],
   "source": [
    "wiki = WikiCorpus('../Rodrigo-data/Corpus/wiki/nlwiki-20181001-corpus.xml.bz2')"
   ]
  },
  {
   "cell_type": "code",
   "execution_count": 3,
   "metadata": {},
   "outputs": [
    {
     "output_type": "error",
     "ename": "FileNotFoundError",
     "evalue": "[Errno 2] No such file or directory: '../Rodrigo-data/Corpus/nlwiki-20181001-corpus.xml'",
     "traceback": [
      "\u001b[0;31m---------------------------------------------------------------------------\u001b[0m",
      "\u001b[0;31mFileNotFoundError\u001b[0m                         Traceback (most recent call last)",
      "\u001b[0;32m<ipython-input-3-6cecbaac586f>\u001b[0m in \u001b[0;36m<module>\u001b[0;34m()\u001b[0m\n\u001b[1;32m      1\u001b[0m \u001b[0;31m# print first 10 lines\u001b[0m\u001b[0;34m\u001b[0m\u001b[0;34m\u001b[0m\u001b[0m\n\u001b[0;32m----> 2\u001b[0;31m \u001b[0;32mwith\u001b[0m \u001b[0mopen\u001b[0m\u001b[0;34m(\u001b[0m\u001b[0;34m'../Rodrigo-data/Corpus/nlwiki-20181001-corpus.xml'\u001b[0m\u001b[0;34m)\u001b[0m \u001b[0;32mas\u001b[0m \u001b[0mf\u001b[0m\u001b[0;34m:\u001b[0m\u001b[0;34m\u001b[0m\u001b[0m\n\u001b[0m\u001b[1;32m      3\u001b[0m     \u001b[0;32mfor\u001b[0m \u001b[0mx\u001b[0m \u001b[0;32min\u001b[0m \u001b[0mrange\u001b[0m\u001b[0;34m(\u001b[0m\u001b[0;36m200\u001b[0m\u001b[0;34m)\u001b[0m\u001b[0;34m:\u001b[0m\u001b[0;34m\u001b[0m\u001b[0m\n\u001b[1;32m      4\u001b[0m         \u001b[0mprint\u001b[0m\u001b[0;34m(\u001b[0m\u001b[0mf\u001b[0m\u001b[0;34m.\u001b[0m\u001b[0mreadline\u001b[0m\u001b[0;34m(\u001b[0m\u001b[0;34m)\u001b[0m\u001b[0;34m.\u001b[0m\u001b[0mstrip\u001b[0m\u001b[0;34m(\u001b[0m\u001b[0;34m)\u001b[0m\u001b[0;34m)\u001b[0m\u001b[0;34m\u001b[0m\u001b[0m\n",
      "\u001b[0;31mFileNotFoundError\u001b[0m: [Errno 2] No such file or directory: '../Rodrigo-data/Corpus/nlwiki-20181001-corpus.xml'"
     ]
    }
   ],
   "source": [
    "# print first 10 lines\n",
    "with open('../Rodrigo-data/Corpus/nlwiki-20181001-corpus.xml') as f:\n",
    "    for x in range(200):\n",
    "        print(f.readline().strip())"
   ]
  },
  {
   "cell_type": "code",
   "execution_count": 4,
   "metadata": {},
   "outputs": [],
   "source": [
    "import subprocess\n",
    "#call the perl script from the wiki-dump source https://linguatools.org/tools/corpora/wikipedia-monolingual-corpora/\n",
    "#actual script is a local file\n",
    "input_wiki = '../Rodrigo-data/Corpus/Wiki/nlwiki-20181001-corpus.xml'\n",
    "out_wiki = \"../Rodrigo-data/Corpus/Wiki/nl-wiki-perl-test.txt\"\n",
    "# pipe = subprocess.Popen([\"perl\", \"../Rodrigo-data/Corpus/Wiki/xml2txt.pl\" ,input_wiki , out_wiki], stdout=subprocess.PIPE)\n",
    "#this wont block the script so wait and make sure the out file exists\n"
   ]
  },
  {
   "cell_type": "code",
   "execution_count": 5,
   "metadata": {
    "tags": []
   },
   "outputs": [
    {
     "output_type": "stream",
     "name": "stdout",
     "text": "[nltk_data] Downloading package punkt to /home/ubuntu/nltk_data...\n[nltk_data]   Package punkt is already up-to-date!\n"
    },
    {
     "output_type": "error",
     "ename": "KeyboardInterrupt",
     "evalue": "",
     "traceback": [
      "\u001b[0;31m---------------------------------------------------------------------------\u001b[0m",
      "\u001b[0;31mKeyboardInterrupt\u001b[0m                         Traceback (most recent call last)",
      "\u001b[0;32m<ipython-input-5-1a1b0a168165>\u001b[0m in \u001b[0;36m<module>\u001b[0;34m()\u001b[0m\n\u001b[1;32m      4\u001b[0m \u001b[0;32mwith\u001b[0m \u001b[0mopen\u001b[0m\u001b[0;34m(\u001b[0m\u001b[0;34m'../Rodrigo-data/Corpus/Wiki/nlwiki-perl.txt'\u001b[0m\u001b[0;34m)\u001b[0m \u001b[0;32mas\u001b[0m \u001b[0mf\u001b[0m\u001b[0;34m:\u001b[0m\u001b[0;34m\u001b[0m\u001b[0m\n\u001b[1;32m      5\u001b[0m     \u001b[0mwikidumptext\u001b[0m \u001b[0;34m=\u001b[0m \u001b[0mf\u001b[0m\u001b[0;34m.\u001b[0m\u001b[0mread\u001b[0m\u001b[0;34m(\u001b[0m\u001b[0;34m)\u001b[0m\u001b[0;34m\u001b[0m\u001b[0m\n\u001b[0;32m----> 6\u001b[0;31m     \u001b[0mlist_sent\u001b[0m \u001b[0;34m=\u001b[0m \u001b[0mnltk\u001b[0m\u001b[0;34m.\u001b[0m\u001b[0mtokenize\u001b[0m\u001b[0;34m.\u001b[0m\u001b[0msent_tokenize\u001b[0m\u001b[0;34m(\u001b[0m\u001b[0mwikidumptext\u001b[0m\u001b[0;34m,\u001b[0m\u001b[0mlanguage\u001b[0m\u001b[0;34m=\u001b[0m\u001b[0;34m'dutch'\u001b[0m\u001b[0;34m)\u001b[0m\u001b[0;34m\u001b[0m\u001b[0m\n\u001b[0m\u001b[1;32m      7\u001b[0m     \u001b[0;32mwith\u001b[0m \u001b[0mopen\u001b[0m\u001b[0;34m(\u001b[0m\u001b[0;34m'../Rodrigo-data/Corpus/Wiki/lists_nlwiki-perl.txt'\u001b[0m\u001b[0;34m,\u001b[0m \u001b[0;34m'w'\u001b[0m\u001b[0;34m)\u001b[0m \u001b[0;32mas\u001b[0m \u001b[0mfilehandle\u001b[0m\u001b[0;34m:\u001b[0m\u001b[0;34m\u001b[0m\u001b[0m\n\u001b[1;32m      8\u001b[0m         \u001b[0mfilehandle\u001b[0m\u001b[0;34m.\u001b[0m\u001b[0mwritelines\u001b[0m\u001b[0;34m(\u001b[0m\u001b[0;34m\"%s\\n\"\u001b[0m \u001b[0;34m%\u001b[0m \u001b[0msent\u001b[0m \u001b[0;32mfor\u001b[0m \u001b[0msent\u001b[0m \u001b[0;32min\u001b[0m \u001b[0mlist_sent\u001b[0m\u001b[0;34m)\u001b[0m\u001b[0;34m\u001b[0m\u001b[0m\n",
      "\u001b[0;32m~/anaconda3/envs/pytorch_p36/lib/python3.6/site-packages/nltk/tokenize/__init__.py\u001b[0m in \u001b[0;36msent_tokenize\u001b[0;34m(text, language)\u001b[0m\n\u001b[1;32m     93\u001b[0m     \"\"\"\n\u001b[1;32m     94\u001b[0m     \u001b[0mtokenizer\u001b[0m \u001b[0;34m=\u001b[0m \u001b[0mload\u001b[0m\u001b[0;34m(\u001b[0m\u001b[0;34m'tokenizers/punkt/{0}.pickle'\u001b[0m\u001b[0;34m.\u001b[0m\u001b[0mformat\u001b[0m\u001b[0;34m(\u001b[0m\u001b[0mlanguage\u001b[0m\u001b[0;34m)\u001b[0m\u001b[0;34m)\u001b[0m\u001b[0;34m\u001b[0m\u001b[0m\n\u001b[0;32m---> 95\u001b[0;31m     \u001b[0;32mreturn\u001b[0m \u001b[0mtokenizer\u001b[0m\u001b[0;34m.\u001b[0m\u001b[0mtokenize\u001b[0m\u001b[0;34m(\u001b[0m\u001b[0mtext\u001b[0m\u001b[0;34m)\u001b[0m\u001b[0;34m\u001b[0m\u001b[0m\n\u001b[0m\u001b[1;32m     96\u001b[0m \u001b[0;34m\u001b[0m\u001b[0m\n\u001b[1;32m     97\u001b[0m \u001b[0;31m# Standard word tokenizer.\u001b[0m\u001b[0;34m\u001b[0m\u001b[0;34m\u001b[0m\u001b[0m\n",
      "\u001b[0;32m~/anaconda3/envs/pytorch_p36/lib/python3.6/site-packages/nltk/tokenize/punkt.py\u001b[0m in \u001b[0;36mtokenize\u001b[0;34m(self, text, realign_boundaries)\u001b[0m\n\u001b[1;32m   1239\u001b[0m         \u001b[0mGiven\u001b[0m \u001b[0ma\u001b[0m \u001b[0mtext\u001b[0m\u001b[0;34m,\u001b[0m \u001b[0mreturns\u001b[0m \u001b[0ma\u001b[0m \u001b[0mlist\u001b[0m \u001b[0mof\u001b[0m \u001b[0mthe\u001b[0m \u001b[0msentences\u001b[0m \u001b[0;32min\u001b[0m \u001b[0mthat\u001b[0m \u001b[0mtext\u001b[0m\u001b[0;34m.\u001b[0m\u001b[0;34m\u001b[0m\u001b[0m\n\u001b[1;32m   1240\u001b[0m         \"\"\"\n\u001b[0;32m-> 1241\u001b[0;31m         \u001b[0;32mreturn\u001b[0m \u001b[0mlist\u001b[0m\u001b[0;34m(\u001b[0m\u001b[0mself\u001b[0m\u001b[0;34m.\u001b[0m\u001b[0msentences_from_text\u001b[0m\u001b[0;34m(\u001b[0m\u001b[0mtext\u001b[0m\u001b[0;34m,\u001b[0m \u001b[0mrealign_boundaries\u001b[0m\u001b[0;34m)\u001b[0m\u001b[0;34m)\u001b[0m\u001b[0;34m\u001b[0m\u001b[0m\n\u001b[0m\u001b[1;32m   1242\u001b[0m \u001b[0;34m\u001b[0m\u001b[0m\n\u001b[1;32m   1243\u001b[0m     \u001b[0;32mdef\u001b[0m \u001b[0mdebug_decisions\u001b[0m\u001b[0;34m(\u001b[0m\u001b[0mself\u001b[0m\u001b[0;34m,\u001b[0m \u001b[0mtext\u001b[0m\u001b[0;34m)\u001b[0m\u001b[0;34m:\u001b[0m\u001b[0;34m\u001b[0m\u001b[0m\n",
      "\u001b[0;32m~/anaconda3/envs/pytorch_p36/lib/python3.6/site-packages/nltk/tokenize/punkt.py\u001b[0m in \u001b[0;36msentences_from_text\u001b[0;34m(self, text, realign_boundaries)\u001b[0m\n\u001b[1;32m   1289\u001b[0m         \u001b[0mfollows\u001b[0m \u001b[0mthe\u001b[0m \u001b[0mperiod\u001b[0m\u001b[0;34m.\u001b[0m\u001b[0;34m\u001b[0m\u001b[0m\n\u001b[1;32m   1290\u001b[0m         \"\"\"\n\u001b[0;32m-> 1291\u001b[0;31m         \u001b[0;32mreturn\u001b[0m \u001b[0;34m[\u001b[0m\u001b[0mtext\u001b[0m\u001b[0;34m[\u001b[0m\u001b[0ms\u001b[0m\u001b[0;34m:\u001b[0m\u001b[0me\u001b[0m\u001b[0;34m]\u001b[0m \u001b[0;32mfor\u001b[0m \u001b[0ms\u001b[0m\u001b[0;34m,\u001b[0m \u001b[0me\u001b[0m \u001b[0;32min\u001b[0m \u001b[0mself\u001b[0m\u001b[0;34m.\u001b[0m\u001b[0mspan_tokenize\u001b[0m\u001b[0;34m(\u001b[0m\u001b[0mtext\u001b[0m\u001b[0;34m,\u001b[0m \u001b[0mrealign_boundaries\u001b[0m\u001b[0;34m)\u001b[0m\u001b[0;34m]\u001b[0m\u001b[0;34m\u001b[0m\u001b[0m\n\u001b[0m\u001b[1;32m   1292\u001b[0m \u001b[0;34m\u001b[0m\u001b[0m\n\u001b[1;32m   1293\u001b[0m     \u001b[0;32mdef\u001b[0m \u001b[0m_slices_from_text\u001b[0m\u001b[0;34m(\u001b[0m\u001b[0mself\u001b[0m\u001b[0;34m,\u001b[0m \u001b[0mtext\u001b[0m\u001b[0;34m)\u001b[0m\u001b[0;34m:\u001b[0m\u001b[0;34m\u001b[0m\u001b[0m\n",
      "\u001b[0;32m~/anaconda3/envs/pytorch_p36/lib/python3.6/site-packages/nltk/tokenize/punkt.py\u001b[0m in \u001b[0;36m<listcomp>\u001b[0;34m(.0)\u001b[0m\n\u001b[1;32m   1289\u001b[0m         \u001b[0mfollows\u001b[0m \u001b[0mthe\u001b[0m \u001b[0mperiod\u001b[0m\u001b[0;34m.\u001b[0m\u001b[0;34m\u001b[0m\u001b[0m\n\u001b[1;32m   1290\u001b[0m         \"\"\"\n\u001b[0;32m-> 1291\u001b[0;31m         \u001b[0;32mreturn\u001b[0m \u001b[0;34m[\u001b[0m\u001b[0mtext\u001b[0m\u001b[0;34m[\u001b[0m\u001b[0ms\u001b[0m\u001b[0;34m:\u001b[0m\u001b[0me\u001b[0m\u001b[0;34m]\u001b[0m \u001b[0;32mfor\u001b[0m \u001b[0ms\u001b[0m\u001b[0;34m,\u001b[0m \u001b[0me\u001b[0m \u001b[0;32min\u001b[0m \u001b[0mself\u001b[0m\u001b[0;34m.\u001b[0m\u001b[0mspan_tokenize\u001b[0m\u001b[0;34m(\u001b[0m\u001b[0mtext\u001b[0m\u001b[0;34m,\u001b[0m \u001b[0mrealign_boundaries\u001b[0m\u001b[0;34m)\u001b[0m\u001b[0;34m]\u001b[0m\u001b[0;34m\u001b[0m\u001b[0m\n\u001b[0m\u001b[1;32m   1292\u001b[0m \u001b[0;34m\u001b[0m\u001b[0m\n\u001b[1;32m   1293\u001b[0m     \u001b[0;32mdef\u001b[0m \u001b[0m_slices_from_text\u001b[0m\u001b[0;34m(\u001b[0m\u001b[0mself\u001b[0m\u001b[0;34m,\u001b[0m \u001b[0mtext\u001b[0m\u001b[0;34m)\u001b[0m\u001b[0;34m:\u001b[0m\u001b[0;34m\u001b[0m\u001b[0m\n",
      "\u001b[0;32m~/anaconda3/envs/pytorch_p36/lib/python3.6/site-packages/nltk/tokenize/punkt.py\u001b[0m in \u001b[0;36mspan_tokenize\u001b[0;34m(self, text, realign_boundaries)\u001b[0m\n\u001b[1;32m   1279\u001b[0m         \u001b[0;32mif\u001b[0m \u001b[0mrealign_boundaries\u001b[0m\u001b[0;34m:\u001b[0m\u001b[0;34m\u001b[0m\u001b[0m\n\u001b[1;32m   1280\u001b[0m             \u001b[0mslices\u001b[0m \u001b[0;34m=\u001b[0m \u001b[0mself\u001b[0m\u001b[0;34m.\u001b[0m\u001b[0m_realign_boundaries\u001b[0m\u001b[0;34m(\u001b[0m\u001b[0mtext\u001b[0m\u001b[0;34m,\u001b[0m \u001b[0mslices\u001b[0m\u001b[0;34m)\u001b[0m\u001b[0;34m\u001b[0m\u001b[0m\n\u001b[0;32m-> 1281\u001b[0;31m         \u001b[0;32mfor\u001b[0m \u001b[0msl\u001b[0m \u001b[0;32min\u001b[0m \u001b[0mslices\u001b[0m\u001b[0;34m:\u001b[0m\u001b[0;34m\u001b[0m\u001b[0m\n\u001b[0m\u001b[1;32m   1282\u001b[0m             \u001b[0;32myield\u001b[0m \u001b[0;34m(\u001b[0m\u001b[0msl\u001b[0m\u001b[0;34m.\u001b[0m\u001b[0mstart\u001b[0m\u001b[0;34m,\u001b[0m \u001b[0msl\u001b[0m\u001b[0;34m.\u001b[0m\u001b[0mstop\u001b[0m\u001b[0;34m)\u001b[0m\u001b[0;34m\u001b[0m\u001b[0m\n\u001b[1;32m   1283\u001b[0m \u001b[0;34m\u001b[0m\u001b[0m\n",
      "\u001b[0;32m~/anaconda3/envs/pytorch_p36/lib/python3.6/site-packages/nltk/tokenize/punkt.py\u001b[0m in \u001b[0;36m_realign_boundaries\u001b[0;34m(self, text, slices)\u001b[0m\n\u001b[1;32m   1320\u001b[0m         \"\"\"\n\u001b[1;32m   1321\u001b[0m         \u001b[0mrealign\u001b[0m \u001b[0;34m=\u001b[0m \u001b[0;36m0\u001b[0m\u001b[0;34m\u001b[0m\u001b[0m\n\u001b[0;32m-> 1322\u001b[0;31m         \u001b[0;32mfor\u001b[0m \u001b[0msl1\u001b[0m\u001b[0;34m,\u001b[0m \u001b[0msl2\u001b[0m \u001b[0;32min\u001b[0m \u001b[0m_pair_iter\u001b[0m\u001b[0;34m(\u001b[0m\u001b[0mslices\u001b[0m\u001b[0;34m)\u001b[0m\u001b[0;34m:\u001b[0m\u001b[0;34m\u001b[0m\u001b[0m\n\u001b[0m\u001b[1;32m   1323\u001b[0m             \u001b[0msl1\u001b[0m \u001b[0;34m=\u001b[0m \u001b[0mslice\u001b[0m\u001b[0;34m(\u001b[0m\u001b[0msl1\u001b[0m\u001b[0;34m.\u001b[0m\u001b[0mstart\u001b[0m \u001b[0;34m+\u001b[0m \u001b[0mrealign\u001b[0m\u001b[0;34m,\u001b[0m \u001b[0msl1\u001b[0m\u001b[0;34m.\u001b[0m\u001b[0mstop\u001b[0m\u001b[0;34m)\u001b[0m\u001b[0;34m\u001b[0m\u001b[0m\n\u001b[1;32m   1324\u001b[0m             \u001b[0;32mif\u001b[0m \u001b[0;32mnot\u001b[0m \u001b[0msl2\u001b[0m\u001b[0;34m:\u001b[0m\u001b[0;34m\u001b[0m\u001b[0m\n",
      "\u001b[0;32m~/anaconda3/envs/pytorch_p36/lib/python3.6/site-packages/nltk/tokenize/punkt.py\u001b[0m in \u001b[0;36m_pair_iter\u001b[0;34m(it)\u001b[0m\n\u001b[1;32m    312\u001b[0m     \u001b[0mit\u001b[0m \u001b[0;34m=\u001b[0m \u001b[0miter\u001b[0m\u001b[0;34m(\u001b[0m\u001b[0mit\u001b[0m\u001b[0;34m)\u001b[0m\u001b[0;34m\u001b[0m\u001b[0m\n\u001b[1;32m    313\u001b[0m     \u001b[0mprev\u001b[0m \u001b[0;34m=\u001b[0m \u001b[0mnext\u001b[0m\u001b[0;34m(\u001b[0m\u001b[0mit\u001b[0m\u001b[0;34m)\u001b[0m\u001b[0;34m\u001b[0m\u001b[0m\n\u001b[0;32m--> 314\u001b[0;31m     \u001b[0;32mfor\u001b[0m \u001b[0mel\u001b[0m \u001b[0;32min\u001b[0m \u001b[0mit\u001b[0m\u001b[0;34m:\u001b[0m\u001b[0;34m\u001b[0m\u001b[0m\n\u001b[0m\u001b[1;32m    315\u001b[0m         \u001b[0;32myield\u001b[0m \u001b[0;34m(\u001b[0m\u001b[0mprev\u001b[0m\u001b[0;34m,\u001b[0m \u001b[0mel\u001b[0m\u001b[0;34m)\u001b[0m\u001b[0;34m\u001b[0m\u001b[0m\n\u001b[1;32m    316\u001b[0m         \u001b[0mprev\u001b[0m \u001b[0;34m=\u001b[0m \u001b[0mel\u001b[0m\u001b[0;34m\u001b[0m\u001b[0m\n",
      "\u001b[0;32m~/anaconda3/envs/pytorch_p36/lib/python3.6/site-packages/nltk/tokenize/punkt.py\u001b[0m in \u001b[0;36m_slices_from_text\u001b[0;34m(self, text)\u001b[0m\n\u001b[1;32m   1293\u001b[0m     \u001b[0;32mdef\u001b[0m \u001b[0m_slices_from_text\u001b[0m\u001b[0;34m(\u001b[0m\u001b[0mself\u001b[0m\u001b[0;34m,\u001b[0m \u001b[0mtext\u001b[0m\u001b[0;34m)\u001b[0m\u001b[0;34m:\u001b[0m\u001b[0;34m\u001b[0m\u001b[0m\n\u001b[1;32m   1294\u001b[0m         \u001b[0mlast_break\u001b[0m \u001b[0;34m=\u001b[0m \u001b[0;36m0\u001b[0m\u001b[0;34m\u001b[0m\u001b[0m\n\u001b[0;32m-> 1295\u001b[0;31m         \u001b[0;32mfor\u001b[0m \u001b[0mmatch\u001b[0m \u001b[0;32min\u001b[0m \u001b[0mself\u001b[0m\u001b[0;34m.\u001b[0m\u001b[0m_lang_vars\u001b[0m\u001b[0;34m.\u001b[0m\u001b[0mperiod_context_re\u001b[0m\u001b[0;34m(\u001b[0m\u001b[0;34m)\u001b[0m\u001b[0;34m.\u001b[0m\u001b[0mfinditer\u001b[0m\u001b[0;34m(\u001b[0m\u001b[0mtext\u001b[0m\u001b[0;34m)\u001b[0m\u001b[0;34m:\u001b[0m\u001b[0;34m\u001b[0m\u001b[0m\n\u001b[0m\u001b[1;32m   1296\u001b[0m             \u001b[0mcontext\u001b[0m \u001b[0;34m=\u001b[0m \u001b[0mmatch\u001b[0m\u001b[0;34m.\u001b[0m\u001b[0mgroup\u001b[0m\u001b[0;34m(\u001b[0m\u001b[0;34m)\u001b[0m \u001b[0;34m+\u001b[0m \u001b[0mmatch\u001b[0m\u001b[0;34m.\u001b[0m\u001b[0mgroup\u001b[0m\u001b[0;34m(\u001b[0m\u001b[0;34m'after_tok'\u001b[0m\u001b[0;34m)\u001b[0m\u001b[0;34m\u001b[0m\u001b[0m\n\u001b[1;32m   1297\u001b[0m             \u001b[0;32mif\u001b[0m \u001b[0mself\u001b[0m\u001b[0;34m.\u001b[0m\u001b[0mtext_contains_sentbreak\u001b[0m\u001b[0;34m(\u001b[0m\u001b[0mcontext\u001b[0m\u001b[0;34m)\u001b[0m\u001b[0;34m:\u001b[0m\u001b[0;34m\u001b[0m\u001b[0m\n",
      "\u001b[0;31mKeyboardInterrupt\u001b[0m: "
     ]
    }
   ],
   "source": [
    "#Use nltk to make the wiki text file in a list of sentences and write to file.\n",
    "import nltk\n",
    "nltk.download('punkt')\n",
    "with open('../Rodrigo-data/Corpus/Wiki/nlwiki-perl.txt') as f:\n",
    "    wikidumptext = f.read()\n",
    "    list_sent = nltk.tokenize.sent_tokenize(wikidumptext,language='dutch')\n",
    "    with open('../Rodrigo-data/Corpus/Wiki/lists_nlwiki-perl.txt', 'w') as filehandle:\n",
    "        filehandle.writelines(\"%s\\n\" % sent for sent in list_sent)"
   ]
  },
  {
   "cell_type": "code",
   "execution_count": null,
   "metadata": {},
   "outputs": [],
   "source": [
    "# Check sentences in file:\n",
    "with open('../Rodrigo-data/Corpus/Wiki/lists_nlwiki-perl.txt') as f:\n",
    "    for x in range(50):\n",
    "        print(f.readline().strip())"
   ]
  },
  {
   "cell_type": "markdown",
   "metadata": {},
   "source": [
    "# Pairs Gender from Wiki dump"
   ]
  },
  {
   "cell_type": "code",
   "execution_count": 2,
   "metadata": {},
   "outputs": [],
   "source": [
    "words = [[\"vrouw\", \"man\"], [\"meisje\", \"jongen\"], [\"zij\", \"hij\"], [\"moeder\", \"vader\"], [\"dochter\", \"zoon\"], [\"zus\",\"broer\"], [\"vrouwelijk\",\"mannelijk\"], [\"haarzelf\",\"hemzelf\"], [\"Emma\",\"Daan\"]]"
   ]
  },
  {
   "cell_type": "code",
   "execution_count": 1,
   "metadata": {},
   "outputs": [],
   "source": [
    "def match(a,L):\n",
    "\tfor b in L:\n",
    "\t\tif a == b:\n",
    "\t\t\treturn True\n",
    "\treturn False\n",
    "\n",
    "def replace(a,new,L):\n",
    "\tLnew = []\n",
    "\tfor b in L:\n",
    "\t\tif a == b:\n",
    "\t\t\tLnew.append(new)\n",
    "\t\telse:\n",
    "\t\t\tLnew.append(b)\n",
    "\treturn ' '.join(Lnew)\n",
    "# def check_duplicate(pair, pair_list):\n",
    "# \tp0 = pair[0]\n",
    "# \tp1 = pair[1]\n",
    "# \tif p0 in pair_list or p1 in pair_list:\n",
    "# \t\treturn True\n",
    "# \telse:\n",
    "# \t\treturn False\n",
    "def template2(words, sent, sent_words_list, all_pairs):\n",
    "\tfor (female, male) in words:\n",
    "\t\tif match(female, sent_words_list):\n",
    "\t\t\tsent_f = sent\n",
    "\t\t\tsent_m = replace(female,male,sent_words_list)\n",
    "\t\t\tpair = [sent_f,sent_m]\n",
    "\t\t\t# if not check_duplicate(pair, all_pairs):\n",
    "\t\t\t# \tall_pairs.append(pair)\n",
    "\t\t\tall_pairs.append(pair)\n",
    "\t\tif match(male, sent_words_list):\n",
    "\t\t\tsent_f = replace(male,female,sent_words_list)\n",
    "\t\t\tsent_m = sent\n",
    "\t\t\tpair_m = [sent_f,sent_m]\n",
    "\t\t\t# if not check_duplicate(pair, all_pairs):\n",
    "\t\t\t\t# all_pairs.append(pair)\n",
    "\t\t\tall_pairs.append(pair_m)\n",
    "\treturn all_pairs"
   ]
  },
  {
   "cell_type": "code",
   "execution_count": 3,
   "metadata": {
    "tags": []
   },
   "outputs": [
    {
     "output_type": "stream",
     "name": "stderr",
     "text": "100%|██████████| 37533267/37533267 [00:24<00:00, 1514492.33it/s]\n"
    }
   ],
   "source": [
    "# Check sentences in file:\n",
    "from tqdm import tqdm\n",
    "wiki_lists = [] \n",
    "c=0\n",
    "f_name = '../Rodrigo-data/Corpus/Wiki/lists_nlwiki-perl.txt'\n",
    "num_lines = sum(1 for line in open(f_name,'r'))\n",
    "with open(f_name) as f:\n",
    "   for line in tqdm(f, total=num_lines):\n",
    "        wiki_lists.append(line.strip())\n",
    "        c+=1\n",
    "        # if c>7533267 : break\n"
   ]
  },
  {
   "cell_type": "code",
   "execution_count": 4,
   "metadata": {},
   "outputs": [
    {
     "output_type": "execute_result",
     "data": {
      "text/plain": "37533267"
     },
     "metadata": {},
     "execution_count": 4
    }
   ],
   "source": [
    "len(wiki_lists)"
   ]
  },
  {
   "cell_type": "code",
   "execution_count": 5,
   "metadata": {},
   "outputs": [
    {
     "output_type": "execute_result",
     "data": {
      "text/plain": "'Het gezin waarin Speer werd geboren, was wat ze in het Duits noemen grossbürgerlich; in Nederlandse termen gegoede burgerij of bourgeoisie.'"
     },
     "metadata": {},
     "execution_count": 5
    }
   ],
   "source": [
    "wiki_lists[5]"
   ]
  },
  {
   "cell_type": "code",
   "execution_count": 6,
   "metadata": {
    "tags": []
   },
   "outputs": [
    {
     "output_type": "stream",
     "name": "stdout",
     "text": "450000\n500000\n800000\n850000\n900000\n1050000\n1100000\n1150000\n1300000\n1400000\n1500000\n1600000\n2250000\n2450000\n2550000\n2800000\n3550000\n3650000\n3750000\n3800000\n3900000\n4250000\n4400000\n4850000\n5050000\n5650000\n5700000\n6300000\n6350000\n6800000\n7100000\n7200000\n7250000\n7300000\n7400000\n7500000\n8250000\n8400000\n8500000\n8600000\n8700000\n8900000\n8950000\n9050000\n9100000\n9450000\n9650000\n9800000\n10350000\n10450000\n10500000\n10600000\n10750000\n10800000\n10900000\n11300000\n"
    }
   ],
   "source": [
    "allpairs=[]\n",
    "count =0\n",
    "for sentence in wiki_lists:\n",
    "    count += 1\n",
    "    if len(sentence)>490 or len(sentence)<90:\n",
    "        # print(sentence)\n",
    "        continue\n",
    "    template2(words,sentence,sentence.split(' '),allpairs)\n",
    "    if count%50000 == 0:\n",
    "        print(count)\n",
    "    if count > 11350000:\n",
    "        break\n",
    "# allpairs2 = set(allpairs)\n"
   ]
  },
  {
   "cell_type": "code",
   "execution_count": 7,
   "metadata": {},
   "outputs": [
    {
     "output_type": "execute_result",
     "data": {
      "text/plain": "404321"
     },
     "metadata": {},
     "execution_count": 7
    }
   ],
   "source": [
    "len(allpairs)"
   ]
  },
  {
   "cell_type": "code",
   "execution_count": 8,
   "metadata": {},
   "outputs": [],
   "source": [
    "import json\n",
    "filename =  '../Rodrigo-data/gender-pairs/nl_gender_pairs_large_nonalpha.json' #changed 12july\n",
    "# filename='nl_gender_pairs_large_nonalpha.json'\n",
    "with open(filename, 'w', encoding='utf-8') as f:\n",
    "    json.dump(allpairs, f, ensure_ascii=False, indent=4)"
   ]
  },
  {
   "cell_type": "code",
   "execution_count": 9,
   "metadata": {},
   "outputs": [],
   "source": [
    "with open(filename) as jsonfile:\n",
    "    loaded_pairs = json.load(jsonfile)"
   ]
  },
  {
   "cell_type": "code",
   "execution_count": 10,
   "metadata": {},
   "outputs": [
    {
     "output_type": "execute_result",
     "data": {
      "text/plain": "404321"
     },
     "metadata": {},
     "execution_count": 10
    }
   ],
   "source": [
    "len(loaded_pairs)"
   ]
  },
  {
   "cell_type": "code",
   "execution_count": 11,
   "metadata": {
    "tags": [
     "outputPrepend"
    ]
   },
   "outputs": [
    {
     "output_type": "stream",
     "name": "stdout",
     "text": "d.\nHij besluit uiteindelijk om Lennie te vermoorden, aangezien hij Curly's man heeft gedood.\nToen deze de plannen van Svjatopolk vernam, liet hij hem, zijn vrouw en Reinbern opsluiten.\nToen deze de plannen van Svjatopolk vernam, liet hij hem, zijn man en Reinbern opsluiten.\nAldus vroeg Hipparétê, vrouw van Alkibiades, persoonlijk echtscheiding aan bij de archont.\nAldus vroeg Hipparétê, man van Alkibiades, persoonlijk echtscheiding aan bij de archont.\nHet verhaal draait om dichter Dylan Thomas en de relatie met zijn vrouw Caitlin MacNamara.\nHet verhaal draait om dichter Dylan Thomas en de relatie met zijn man Caitlin MacNamara.\nZij was een dochter van Hendrik van Schotland, 3e graaf van Huntingdon en Ada van Warenne.\nZij was een zoon van Hendrik van Schotland, 3e graaf van Huntingdon en Ada van Warenne.\nDaardoor speelde hij, na Rent en The Wild Party, wederom samen met zijn vrouw Idina Menzel.\nDaardoor speelde hij, na Rent en The Wild Party, wederom samen met zijn man Idina Menzel.\nMaria Magdalena van Oostenrijk (1589-1631), dochter van aartshertog Karel II van Oostenrijk\nMaria Magdalena van Oostenrijk (1589-1631), zoon van aartshertog Karel II van Oostenrijk\n1025 - 4 januari 1108), dochter van Mieszko II Lambert van Polen en Richeza van Lotharingen.\n1025 - 4 januari 1108), zoon van Mieszko II Lambert van Polen en Richeza van Lotharingen.\nEen kleinere afbeelding op het altaar toont de heilige Anna, samen met haar dochter Maria.\nEen kleinere afbeelding op het altaar toont de heilige Anna, samen met haar zoon Maria.\nUiteindelijk gaf de keizer de hand van zijn dochter in ruil voor twee Champaanse provincies.\nUiteindelijk gaf de keizer de hand van zijn zoon in ruil voor twee Champaanse provincies.\nOmdat Brewer vrij laat is moeten zijn vrouw en kind voor de deur van de ambassade wachten.\nOmdat Brewer vrij laat is moeten zijn man en kind voor de deur van de ambassade wachten.\nChristina \"Tick\" Roby, gespeeld door Danielle Panabaker, is de dochter van Miles en Janine.\nChristina \"Tick\" Roby, gespeeld door Danielle Panabaker, is de zoon van Miles en Janine.\nOp papier was ze de snelste vrouw bij de triatlon op de Olympische Zomerspelen van Sydney.\nOp papier was ze de snelste man bij de triatlon op de Olympische Zomerspelen van Sydney.\nAviva woont tijdelijk bij haar tante Jackie, totdat haar moeder afgekickt is van de drugs.\nAviva woont tijdelijk bij haar tante Jackie, totdat haar vader afgekickt is van de drugs.\nPierre Jurieu was de neef van de theoloog Pierre du Moulin en zijn dochter Marie du Moulin.\nPierre Jurieu was de neef van de theoloog Pierre du Moulin en zijn zoon Marie du Moulin.\nDe Rode Ridder maakt er kennis met enkele boeren, met de slotheer en zijn dochter Greetje.\nDe Rode Ridder maakt er kennis met enkele boeren, met de slotheer en zijn zoon Greetje.\nHij kreeg een dochter in het eerste huwelijk en twee zoons en twee dochters in het tweede.\nHij kreeg een zoon in het eerste huwelijk en twee zoons en twee dochters in het tweede.\nDe vader van Feun heeft samen met de Sjamaan beslist dat Feun zijn tweede vrouw zal worden.\nDe vader van Feun heeft samen met de Sjamaan beslist dat Feun zijn tweede man zal worden.\nGodunov was een jaar lang bezig om zijn vrouw terug te krijgen, maar dit mocht niet baten.\nGodunov was een jaar lang bezig om zijn man terug te krijgen, maar dit mocht niet baten.\nJaren geleden dwong Hoster zijn dochter Lysa om haar illegitieme zwangerschap te beëindigen.\nJaren geleden dwong Hoster zijn zoon Lysa om haar illegitieme zwangerschap te beëindigen.\nZo steunde zijn eigen moeder haar schoonzoon keurvorst Maximiliaan II Emanuel van Beieren.\nZo steunde zijn eigen vader haar schoonzoon keurvorst Maximiliaan II Emanuel van Beieren.\nGeboorte tweede dochter van kroonprins Felipe van Spanje en prinses Letizia: Infanta Sofía.\nGeboorte tweede zoon van kroonprins Felipe van Spanje en prinses Letizia: Infanta Sofía.\nElisabeth die haar broer zou hebben opgehitst werd door haar moeder naar Berlijn gestuurd.\nElisabeth die haar broer zou hebben opgehitst werd door haar vader naar Berlijn gestuurd.\nScrewface doet op zijn beurt een poging om Johns zus en haar dochter uit de weg te ruimen.\nScrewface doet op zijn beurt een poging om Johns zus en haar zoon uit de weg te ruimen.\nIn 1895 verscheen Uilengeluk, een co-productie met zijn vrouw Tine, die de teksten schreef.\nIn 1895 verscheen Uilengeluk, een co-productie met zijn man Tine, die de teksten schreef.\nHaar moeder moedigde Grable aan om te acteren en zo was Betty al in 1929 in films te zien.\nHaar vader moedigde Grable aan om te acteren en zo was Betty al in 1929 in films te zien.\nOmdat ze nog erg jong was, vervalste haar moeder haar identiteit en kreeg ze een contract.\nOmdat ze nog erg jong was, vervalste haar vader haar identiteit en kreeg ze een contract.\nvan 1498 tot 1538 - Dirk van Zuilen van Harmelen en zijn vrouw Maria van Renesse van Zeist\nvan 1498 tot 1538 - Dirk van Zuilen van Harmelen en zijn man Maria van Renesse van Zeist\nZij was de dochter van Maria Sibylla Merian, die haar ook les gaf en Johann Andreas Graff.\nZij was de zoon van Maria Sibylla Merian, die haar ook les gaf en Johann Andreas Graff.\nZijn moeder, Kaatje \"Cato\" van Kleeff, was de dochter van een Asjkenazische diamantslijper.\nZijn moeder, Kaatje \"Cato\" van Kleeff, was de zoon van een Asjkenazische diamantslijper.\nOok de scheiding van zijn vrouw Virginia (‘Mama’) ging hem niet in de koude kleren zitten.\nOok de scheiding van zijn man Virginia (‘Mama’) ging hem niet in de koude kleren zitten.\nMechteld van Gelre (circa 1324 - Huissen, 21 september 1384) was de dochter van Reinoud II.\nMechteld van Gelre (circa 1324 - Huissen, 21 september 1384) was de zoon van Reinoud II.\nHolt was een dochter van Johan Holt (1609-1682), stadssecretaris van Zwolle, en Vreda Crans.\nHolt was een zoon van Johan Holt (1609-1682), stadssecretaris van Zwolle, en Vreda Crans.\nAnsingh was een dochter van de apotheker Edzard Willem Ansingh en Clara Theresia Schwartze.\nAnsingh was een zoon van de apotheker Edzard Willem Ansingh en Clara Theresia Schwartze.\nMaria Ortiz was een dochter van de Spaanse immigranten Juan Orty y Ortiz en Carolina Darico.\nMaria Ortiz was een zoon van de Spaanse immigranten Juan Orty y Ortiz en Carolina Darico.\nZe is ook de enige vrouw die is opgenomen in een in Venetië in 1601 gedrukte Triodion.Leven\nZe is ook de enige man die is opgenomen in een in Venetië in 1601 gedrukte Triodion.Leven\nKassia diende hem als volgt van antwoord: \"Maar uit een vrouw kwam ook het betere voort .\"\nKassia diende hem als volgt van antwoord: \"Maar uit een man kwam ook het betere voort .\"\nIn 1942 richtte hij de Koussevitzky Foundation op ter nagedachtenis aan zijn vrouw Natalie.\nIn 1942 richtte hij de Koussevitzky Foundation op ter nagedachtenis aan zijn man Natalie.\nLeir zou door zijn dochter Cordelia zijn begraven in een kamer onder de Soar nabij de stad.\nLeir zou door zijn zoon Cordelia zijn begraven in een kamer onder de Soar nabij de stad.\nAristobulus huwde met Berenice, de dochter van Salomé (de zuster van Herodes) en Costobarus.\nAristobulus huwde met Berenice, de zoon van Salomé (de zuster van Herodes) en Costobarus.\nZe dreigen zijn vrouw en kinderen te doden als hij niet zal vertellen waar de atoombom is.\nZe dreigen zijn man en kinderen te doden als hij niet zal vertellen waar de atoombom is.\nGrissom heeft van zijn moeder Otosclerose geërfd, een ziekte die hem langzaam doof maakte.\nGrissom heeft van zijn vader Otosclerose geërfd, een ziekte die hem langzaam doof maakte.\nRobbins' moeder kreeg bij zijn geboorte een tweeling, maar de andere baby was doodgeboren.\nRobbins' vader kreeg bij zijn geboorte een tweeling, maar de andere baby was doodgeboren.\nLehmann werd geboren in de wijk Østerbro en was de dochter van de psycholoog Alfred Lehmann.\nLehmann werd geboren in de wijk Østerbro en was de zoon van de psycholoog Alfred Lehmann.\nHeinrich Thiersch was gehuwd met Bertha Zeller, een dochter van Christian Heinrich Zeller.\nHeinrich Thiersch was gehuwd met Bertha Zeller, een zoon van Christian Heinrich Zeller.\nAmphissa was in de Griekse mythologie de dochter van Macareus en de kleindochter van Aeolus.\nAmphissa was in de Griekse mythologie de zoon van Macareus en de kleindochter van Aeolus.\nStevens heeft een dochter Lauryn samen met de voormalige Britse zevenkampster Denise Lewis.\nStevens heeft een zoon Lauryn samen met de voormalige Britse zevenkampster Denise Lewis.\nDoor het vermogen van zijn vrouw was het in 1885 mogelijk het pand op het Damrak te kopen.\nDoor het vermogen van zijn man was het in 1885 mogelijk het pand op het Damrak te kopen.\nIn 1909 trouwt Saba met Lina Woelfler en elf maanden later wordt hun dochter Lina geboren.\nIn 1909 trouwt Saba met Lina Woelfler en elf maanden later wordt hun zoon Lina geboren.\nPlots echter komt de dag waarop de man zijn vrouw in het gewoel van de grote stad ontmoet.\nPlots echter komt de dag waarop de man zijn man in het gewoel van de grote stad ontmoet.\nDe Joodse Giorgio is verliefd op Micòl Finzi-Contini, de aantrekkelijke dochter des huizes.\nDe Joodse Giorgio is verliefd op Micòl Finzi-Contini, de aantrekkelijke zoon des huizes.\nSamen hadden ze twee kinderen, dochter Vivien (geboren 1944) en zoon Robin (geboren 1949).\nSamen hadden ze twee kinderen, zoon Vivien (geboren 1944) en zoon Robin (geboren 1949).\nHij liet zijn vrouw Sharon en zijn broer James Cicenia achter.Film en televisie uitspraken\nHij liet zijn man Sharon en zijn broer James Cicenia achter.Film en televisie uitspraken\nOp 23 september 2006 werd hun eerste kind geboren, dochter Olwyn Harper Berkeley.Filmografie\nOp 23 september 2006 werd hun eerste kind geboren, zoon Olwyn Harper Berkeley.Filmografie\n1689 – 1702: Willem III van Oranje-Nassau, regeerde tot 1694 samen met zijn vrouw Maria II\n1689 – 1702: Willem III van Oranje-Nassau, regeerde tot 1694 samen met zijn man Maria II\nIn 2007 drong een vrouw in het verblijf van de jachtluipaarden binnen en werd doodgebeten.\nIn 2007 drong een man in het verblijf van de jachtluipaarden binnen en werd doodgebeten.\nAda (Bijbelse naam), twee personen uit de Bijbel (een vrouw van Lamech en een vrouw van Esau)\nAda (Bijbelse naam), twee personen uit de Bijbel (een man van Lamech en een man van Esau)\nHet werk is opgedragen aan Nadezhda Rimsky-Korsakov, de dochter van Nikolaj Rimsky-Korsakov.\nHet werk is opgedragen aan Nadezhda Rimsky-Korsakov, de zoon van Nikolaj Rimsky-Korsakov.\nWillem was een zoon van Willem III van Aquitanië en Adela van Normandië, dochter van Rollo.\nWillem was een zoon van Willem III van Aquitanië en Adela van Normandië, zoon van Rollo.\nHij was een zoon van koning Waldemar II en Berengária, de dochter van Sancho I van Portugal.\nHij was een zoon van koning Waldemar II en Berengária, de zoon van Sancho I van Portugal.\nNathan wordt erg kwaad op zijn moeder en stuurt haar weg om haar leven op orde te krijgen.\nNathan wordt erg kwaad op zijn vader en stuurt haar weg om haar leven op orde te krijgen.\nNadat ook zijn dochter gestorven is, staat hem de hele situatie plotseling klaar voor ogen…\nNadat ook zijn zoon gestorven is, staat hem de hele situatie plotseling klaar voor ogen…\nZijn partner was de Engelse zangeres Jamelia, met wie hij een dochter heeft, genaamd Tiani.\nZijn partner was de Engelse zangeres Jamelia, met wie hij een zoon heeft, genaamd Tiani.\nDezelfde Astrid Njalsdotter wordt ook genoemd als tweede vrouw van koning Emund van Zweden.\nDezelfde Astrid Njalsdotter wordt ook genoemd als tweede man van koning Emund van Zweden.\nDe titel was overerfbaar van moeder op dochter, die de gemalin van de volgende koning was.\nDe titel was overerfbaar van vader op dochter, die de gemalin van de volgende koning was.\nOlaf trok zich er niets van aan huwelijkte zijn dochter uit aan Jaroslav de Wijze van Kiev.\nOlaf trok zich er niets van aan huwelijkte zijn zoon uit aan Jaroslav de Wijze van Kiev.\nIn 1815 trok hij met zijn dochter in de zomermaanden door Frankrijk; in 1817 naar Engeland.\nIn 1815 trok hij met zijn zoon in de zomermaanden door Frankrijk; in 1817 naar Engeland.\nZijn dochter Ingeborg trouwde met Waldemar Magnusson, hertog van Finland, prins van Zweden.\nZijn zoon Ingeborg trouwde met Waldemar Magnusson, hertog van Finland, prins van Zweden.\nSverre (Zijn moeder was Gunhild) (Het is dubieus of hij werkelijk een zoon van Sigurd was)\nSverre (Zijn vader was Gunhild) (Het is dubieus of hij werkelijk een zoon van Sigurd was)\nHij schrijft zijn zieke moeder een afscheidsbrief en gaat voortijdig weg bij zijn familie.\nHij schrijft zijn zieke vader een afscheidsbrief en gaat voortijdig weg bij zijn familie.\nHun zoon Evert kwam vervolgens in het bezit van Asinga en hun dochter Anna verkreeg Panser.\nHun zoon Evert kwam vervolgens in het bezit van Asinga en hun zoon Anna verkreeg Panser.\nEen jaar na zijn dood in 1804 kwamen Bindervoet en zijn dochter echter in Zuidhorn te wonen.\nEen jaar na zijn dood in 1804 kwamen Bindervoet en zijn zoon echter in Zuidhorn te wonen.\nIn 1808 werd de borg publiekelijk te koop gezet na de dood van zijn vrouw Everdina Josina.\nIn 1808 werd de borg publiekelijk te koop gezet na de dood van zijn man Everdina Josina.\nToen Shane nog een kind was redde hij een keer een buitenaardse vrouw van een premiejager.\nToen Shane nog een kind was redde hij een keer een buitenaardse man van een premiejager.\nWhitey Durham verloor zijn vrouw op de operatietafel en is er nooit meer overheen gekomen.\nWhitey Durham verloor zijn man op de operatietafel en is er nooit meer overheen gekomen.\nZij kregen in december 2014 samen een dochter en in september 2016 nog een dochter.Carrière\nZij kregen in december 2014 samen een zoon en in september 2016 nog een dochter.Carrière\nVolgens een legende was zij de dochter van de godin Derketo of de Syrische godin Atargatis.\nVolgens een legende was zij de zoon van de godin Derketo of de Syrische godin Atargatis.\nTijdens zijn tweede jaar aan zijn studie moedigde zijn moeder hem aan om acteur te worden.\nTijdens zijn tweede jaar aan zijn studie moedigde zijn vader hem aan om acteur te worden.\nhet Onbevlekt Hart van Maria, een katholieke cultus rond het hart van de moeder van Jezus.\nhet Onbevlekt Hart van Maria, een katholieke cultus rond het hart van de vader van Jezus.\nHoneys naam is een parodie op de bijnaam die veel mannen in het Engels aan hun vrouw geven.\nHoneys naam is een parodie op de bijnaam die veel mannen in het Engels aan hun man geven.\nZij is een 100% dochter van Garuda Indonesian Airlines als aanbieder van goedkope vluchten.\nZij is een 100% zoon van Garuda Indonesian Airlines als aanbieder van goedkope vluchten.\nIn 1924 stierf haar moeder aan kanker en de toen twaalfjarige Pat nam het huishouden over.\nIn 1924 stierf haar vader aan kanker en de toen twaalfjarige Pat nam het huishouden over.\n1116) met Ingeborg, dochter van Mstislav I van Kiev en Christina Ingesdotter van Zweden (ca.\n1116) met Ingeborg, zoon van Mstislav I van Kiev en Christina Ingesdotter van Zweden (ca.\nErik overtuigde Frodi ervan dat Arngrim de beste keus was als man voor zijn dochter Eyfura.\nErik overtuigde Frodi ervan dat Arngrim de beste keus was als man voor zijn zoon Eyfura.\nDat heeft ons toegang tot de sultan verschaft, en dat heeft ons aan zijn dochter geholpen.\nDat heeft ons toegang tot de sultan verschaft, en dat heeft ons aan zijn zoon geholpen.\nDaar zegt een Koreaan, Jin, tegen zijn vrouw Sun dat ze altijd dicht bij hem moet blijven.\nDaar zegt een Koreaan, Jin, tegen zijn man Sun dat ze altijd dicht bij hem moet blijven.\nLater is het kind, door iedereen Andy genoemd, bij de moeder van Ellis gaan wonen.Carrière\nLater is het kind, door iedereen Andy genoemd, bij de vader van Ellis gaan wonen.Carrière\nIn 1922 trouwde hij met Corry, dochter van een binnenschipper en in Nieuw-Buinen opgegroeid.\nIn 1922 trouwde hij met Corry, zoon van een binnenschipper en in Nieuw-Buinen opgegroeid.\nHugo was in 1071 gehuwd met Heria, dochter van Robert Guiscard, maar stierf zonder kinderen.\nHugo was in 1071 gehuwd met Heria, zoon van Robert Guiscard, maar stierf zonder kinderen.\nZijn moeder Neeltje, inmiddels weduwe, verkocht haar huis in de Nieuwe Hoogstraat in 1603.\nZijn vader Neeltje, inmiddels weduwe, verkocht haar huis in de Nieuwe Hoogstraat in 1603.\nCouperus gaf Pander opdracht een medaillon van zijn vrouw Elisabeth Couperus-Baud te maken.\nCouperus gaf Pander opdracht een medaillon van zijn man Elisabeth Couperus-Baud te maken.\nGodfried was gehuwd met Filippa, een dochter van Willem VI van Gulik, en werd de vader van:\nGodfried was gehuwd met Filippa, een zoon van Willem VI van Gulik, en werd de vader van:\nMoller is de enige vrouw die viermaal (1984, 1988, 1992, 1996) de olympische marathon liep.\nMoller is de enige man die viermaal (1984, 1988, 1992, 1996) de olympische marathon liep.\nWanneer haar moeder besluit haar geen geld meer te geven, vertrekt ze naar een kostschool.\nWanneer haar vader besluit haar geen geld meer te geven, vertrekt ze naar een kostschool.\nOok Anni deed mee op 27-jarige leeftijd en moeder van twee kinderen en werd gedeeld derde.\nOok Anni deed mee op 27-jarige leeftijd en vader van twee kinderen en werd gedeeld derde.\nHet onbehagen dat hierdoor bij hem ontstond bracht zijn vrouw ertoe om van hem te scheiden.\nHet onbehagen dat hierdoor bij hem ontstond bracht zijn man ertoe om van hem te scheiden.\nDe huidige eigenaar van de fabriek is Wolfgang Förster, samen met zijn dochter Annekatrin.\nDe huidige eigenaar van de fabriek is Wolfgang Förster, samen met zijn zoon Annekatrin.\nBij thuiskomst ziet hij foto's van Mina's dochter Dina (Raymonde Dupre) en wordt verliefd.\nBij thuiskomst ziet hij foto's van Mina's zoon Dina (Raymonde Dupre) en wordt verliefd.\nVanaf de vroegchristelijke periode kreeg de vrouw bepaalde functies in het openbare leven.\nVanaf de vroegchristelijke periode kreeg de man bepaalde functies in het openbare leven.\nZoon Atticus is geboren op 4 januari 2003 en dochter Finley is op 6 februari 2006 geboren.\nZoon Atticus is geboren op 4 januari 2003 en zoon Finley is op 6 februari 2006 geboren.\nIn 1328 trouwde een dochter van Alfons IV van Portugal, Maria, met Alfonso XI van Castilië.\nIn 1328 trouwde een zoon van Alfons IV van Portugal, Maria, met Alfonso XI van Castilië.\nTjomkins leven in Hollywood kwam tot stilstand door het overlijden van zijn vrouw in 1967.\nTjomkins leven in Hollywood kwam tot stilstand door het overlijden van zijn man in 1967.\nMinister van Oorlog John Henry Eaton trouwde met een vrouw die pas net weduwe was geworden.\nMinister van Oorlog John Henry Eaton trouwde met een man die pas net weduwe was geworden.\nEleonora van Habsburg (1498-1558), koningin van Portugal, vrouw van Emanuel I van Portugal\nEleonora van Habsburg (1498-1558), koningin van Portugal, man van Emanuel I van Portugal\nLater scheidden zijn ouders en groeide hij op bij zijn moeder in Echo Park te Los Angeles.\nLater scheidden zijn ouders en groeide hij op bij zijn vader in Echo Park te Los Angeles.\nIn vroegere series met een vrouw in de hoofdrol vertolkten zij normaal altijd huisvrouwen.\nIn vroegere series met een man in de hoofdrol vertolkten zij normaal altijd huisvrouwen.\nVlak voor zijn vertrek betrapt Sjahzamaan zijn vrouw met \"een slavenjongen uit de keuken\".\nVlak voor zijn vertrek betrapt Sjahzamaan zijn man met \"een slavenjongen uit de keuken\".\nZijn vrouw geeft zich over en de koopman blijft in leven.Plaatsing binnen de verhalencyclus\nZijn man geeft zich over en de koopman blijft in leven.Plaatsing binnen de verhalencyclus\nOver de poortwachtster: \"Een jonge vrouw van vijf handpalmen hoog en met een volle boezem.\nOver de poortwachtster: \"Een jonge man van vijf handpalmen hoog en met een volle boezem.\nIn 2006 trouwde ze met de autocoureur David Saelens en samen hebben ze een dochter Victoria.\nIn 2006 trouwde ze met de autocoureur David Saelens en samen hebben ze een zoon Victoria.\nHij was het derde kind van de landbouwer Albertus Elberink en zijn vrouw Gesina Lammerink.\nHij was het derde kind van de landbouwer Albertus Elberink en zijn man Gesina Lammerink.\n"
    }
   ],
   "source": [
    "loaded_pairs[5][0]\n",
    "loaded_pairs[5][0]\n",
    "first_col = [row[0] for row in loaded_pairs]   \n",
    "second_col = [row[1] for row in loaded_pairs]\n",
    "print(len(first_col))\n",
    "print(len(second_col))\n",
    "for i in range(len(second_col)):    \n",
    "    if len(second_col[i]) <90:    \n",
    "        print(first_col[i])\n",
    "        print(second_col[i])"
   ]
  }
 ],
 "metadata": {
  "language_info": {
   "codemirror_mode": {
    "name": "ipython",
    "version": 3
   },
   "file_extension": ".py",
   "mimetype": "text/x-python",
   "name": "python",
   "nbconvert_exporter": "python",
   "pygments_lexer": "ipython3",
   "version": "3.6.5-final"
  },
  "orig_nbformat": 2,
  "kernelspec": {
   "name": "python36564bitpytorchp36conda14e9f2ec2c1644a58673c19beabaa9b5",
   "display_name": "Python 3.6.5 64-bit ('pytorch_p36': conda)"
  }
 },
 "nbformat": 4,
 "nbformat_minor": 2
}