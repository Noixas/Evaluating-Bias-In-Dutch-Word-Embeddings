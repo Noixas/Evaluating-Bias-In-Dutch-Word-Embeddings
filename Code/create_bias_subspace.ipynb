{
 "cells": [
  {
   "cell_type": "markdown",
   "metadata": {},
   "source": [
    "# Create bias_subspace files\n",
    "\n",
    "Notebook only to test the influence of different PCA component in the debias step, for this we pre generate multiple bis_subspace files with varying amount of sentences pairs.\n"
   ]
  },
  {
   "cell_type": "code",
   "execution_count": null,
   "metadata": {},
   "outputs": [],
   "source": []
  },
  {
   "cell_type": "code",
   "execution_count": 1,
   "metadata": {
    "tags": []
   },
   "outputs": [
    {
     "output_type": "stream",
     "name": "stderr",
     "text": "unable to import 'smart_open.gcs', disabling that module\n"
    }
   ],
   "source": [
    "# import torch\n",
    "%load_ext autoreload\n",
    "%autoreload 2\n",
    "from transformers import *\n",
    "# import numpy as np\n",
    "# import pandas as pd\n",
    "# import os\n",
    "import SEAT\n",
    "import Utils_R as utils_r\n",
    "import Debias_Sentences as sen_debias\n",
    "# from tqdm import tqdm"
   ]
  },
  {
   "cell_type": "code",
   "execution_count": 2,
   "metadata": {},
   "outputs": [],
   "source": [
    "tokenizer_nl = BertTokenizer.from_pretrained(\"bert-base-dutch-cased\", add_special_tokens=True, pad_to_max_length=True)\n",
    "model_nl = BertModel.from_pretrained(\"bert-base-dutch-cased\")\n",
    "# tokenizer_nl = RobertaTokenizer.from_pretrained(\"pdelobelle/robBERT-base\")\n",
    "# tokenizer_nl = RobertaModel.from_pretrained(\"pdelobelle/robBERT-base\")"
   ]
  },
  {
   "cell_type": "code",
   "execution_count": 3,
   "metadata": {},
   "outputs": [],
   "source": [
    "\n",
    "file_bias_dir = \"../Rodrigo-data/bias_direction_k10_nl_large200k\"\n",
    "k_dim = 50\n",
    "pairs_aumount = 10000\n",
    "pairs_amount_list = [1000,10000,15000,30000,45000]\n",
    "\n",
    "#For indiv k test where we use many dim\n",
    "k_dim = 50\n",
    "pairs_amount_list = [100000,200000]"
   ]
  },
  {
   "cell_type": "code",
   "execution_count": null,
   "metadata": {},
   "outputs": [],
   "source": [
    "\n",
    "pairs_aumount= 45000\n",
    "k_dim = 50\n",
    "file_bias_subspace = \"../Rodrigo-data/bias_subspace/Robbert_ForFinetune-bias_subspace_k\"+str(k_dim)+\"_nl_large\"+str(pairs_aumount)+\"k\"\n",
    "bias_subspace = sen_debias.get_bias_direction(model_nl,tokenizer_nl,\n",
    "        from_cache = False,\n",
    "        save_to_file = True,\n",
    "        pca_components = k_dim,\n",
    "        amount_gen_pairs = pairs_aumount,\n",
    "        filename_cache= file_bias_subspace,\n",
    "        save_file_name=file_bias_subspace)\n"
   ]
  },
  {
   "cell_type": "code",
   "execution_count": 4,
   "metadata": {
    "tags": []
   },
   "outputs": [
    {
     "output_type": "stream",
     "name": "stdout",
     "text": "50\nReading sentences pairs...\n  0%|          | 1/100000 [00:00<3:16:05,  8.50it/s]Encoding sentences first...\n100%|██████████| 100000/100000 [1:00:22<00:00, 27.61it/s]\nNormalizing dict first...\n  0%|          | 4/100000 [00:00<51:44, 32.21it/s]Encoding sentences second...\n100%|██████████| 100000/100000 [1:00:11<00:00, 27.69it/s]\nNormalizing dict second...\n 15%|█▍        | 14800/100000 [00:00<00:00, 147998.38it/s]Assert passed\nPCA...\n100%|██████████| 100000/100000 [00:00<00:00, 152714.95it/s]\nfloat32\nPCA done...\nSaving...\nSaving succesful...\nDONE\n50\nReading sentences pairs...\n  0%|          | 5/200000 [00:00<1:22:25, 40.44it/s]Encoding sentences first...\n100%|██████████| 200000/200000 [1:45:58<00:00, 31.45it/s]\nNormalizing dict first...\n  0%|          | 4/200000 [00:00<1:40:40, 33.11it/s]Encoding sentences second...\n100%|██████████| 200000/200000 [1:44:54<00:00, 31.77it/s]\nNormalizing dict second...\n  7%|▋         | 14397/200000 [00:00<00:01, 143967.39it/s]Assert passed\nPCA...\n100%|██████████| 200000/200000 [00:01<00:00, 153148.16it/s]\nfloat32\nPCA done...\nSaving...\nSaving succesful...\nDONE\n"
    }
   ],
   "source": [
    "for pairs_aumount in pairs_amount_list:\n",
    "    print(k_dim)\n",
    "    file_bias_subspace = \"../Rodrigo-data/bias_subspace/bias_subspace_k\"+str(k_dim)+\"_nl_large\"+str(pairs_aumount)+\"k\"\n",
    "    # print('Processing file: '+file_bias_subspace)\n",
    "    bias_subspace = sen_debias.get_bias_direction(model_nl,tokenizer_nl,\n",
    "        from_cache = False,\n",
    "        save_to_file = True,\n",
    "        pca_components = k_dim,\n",
    "        amount_gen_pairs = pairs_aumount,\n",
    "        filename_cache= file_bias_subspace,\n",
    "        save_file_name=file_bias_subspace)"
   ]
  },
  {
   "cell_type": "markdown",
   "metadata": {},
   "source": [
    "## Individual test\n",
    "\n"
   ]
  },
  {
   "cell_type": "code",
   "execution_count": 5,
   "metadata": {
    "tags": []
   },
   "outputs": [
    {
     "output_type": "stream",
     "name": "stdout",
     "text": "Reading sentences pairs...\n  0%|          | 5/1000 [00:00<00:24, 40.23it/s]Encoding sentences first...\n100%|██████████| 1000/1000 [00:27<00:00, 36.28it/s]\n  0%|          | 4/1000 [00:00<00:25, 38.59it/s]Normalizing dict first...\nEncoding sentences second...\n100%|██████████| 1000/1000 [00:28<00:00, 35.35it/s]\n100%|██████████| 1000/1000 [00:00<00:00, 143916.55it/s]\nNormalizing dict second...\nAssert passed\nPCA...\nfloat32\nPCA done...\nDONE\n"
    }
   ],
   "source": [
    "file_bias_dir = \"../Rodrigo-data/bias_direction_k10_nl_large200k\"\n",
    "k_dim = 10\n",
    "pairs_aumount = 1000\n",
    "file_bias_subspace = \"../Rodrigo-data/bias_subspace_k\"+str(k_dim)+\"_nl_large\"+str(pairs_aumount)+\"k\"\n",
    "bias_subspace = sen_debias.get_bias_direction(model_nl,tokenizer_nl,\n",
    "    from_cache = False,\n",
    "    save_to_file = False,\n",
    "    amount_gen_pairs = pairs_aumount,\n",
    "    filename_cache= file_bias_subspace,\n",
    "    save_file_name=file_bias_subspace)\n",
    "# # df_debiased = SEAT.Compute_SEAT(model_nl, tokenizer_nl,\n",
    "#     bias_dir= bias_dir,\n",
    "#     model_name = 'BERT_DEBIAS',\n",
    "#     output_results='dutch_debiased_bertje.csv')\n"
   ]
  },
  {
   "cell_type": "code",
   "execution_count": 6,
   "metadata": {},
   "outputs": [
    {
     "output_type": "execute_result",
     "data": {
      "text/plain": "(10, 768)"
     },
     "metadata": {},
     "execution_count": 6
    }
   ],
   "source": [
    "bias_subspace.shape"
   ]
  },
  {
   "cell_type": "code",
   "execution_count": 7,
   "metadata": {},
   "outputs": [
    {
     "output_type": "error",
     "ename": "FileNotFoundError",
     "evalue": "[Errno 2] No such file or directory: '../Rodrigo-data/bias_subspace_k10_nl_large1000k.npy'",
     "traceback": [
      "\u001b[0;31m---------------------------------------------------------------------------\u001b[0m",
      "\u001b[0;31mFileNotFoundError\u001b[0m                         Traceback (most recent call last)",
      "\u001b[0;32m<ipython-input-7-130a64a50b3f>\u001b[0m in \u001b[0;36m<module>\u001b[0;34m()\u001b[0m\n\u001b[1;32m      4\u001b[0m     \u001b[0mamount_gen_pairs\u001b[0m \u001b[0;34m=\u001b[0m \u001b[0;36m1000\u001b[0m\u001b[0;34m,\u001b[0m\u001b[0;34m\u001b[0m\u001b[0m\n\u001b[1;32m      5\u001b[0m     \u001b[0mfilename_cache\u001b[0m\u001b[0;34m=\u001b[0m \u001b[0mfile_bias_subspace\u001b[0m\u001b[0;34m,\u001b[0m\u001b[0;34m\u001b[0m\u001b[0m\n\u001b[0;32m----> 6\u001b[0;31m     save_file_name=file_bias_subspace)\n\u001b[0m",
      "\u001b[0;32m~/thesis/Rodrigo-Debias-Dutch-Embeddings/Rodrigo-notebooks/Debias_Sentences.py\u001b[0m in \u001b[0;36mget_bias_direction\u001b[0;34m(model, tokenizer, from_cache, filename_cache, amount_gen_pairs, save_to_file, pca_components, save_file_name)\u001b[0m\n\u001b[1;32m     28\u001b[0m                        save_file_name=\"../Rodrigo-data/bias_direction_k10_nl_large30k\"):\n\u001b[1;32m     29\u001b[0m     \u001b[0;32mif\u001b[0m \u001b[0mfrom_cache\u001b[0m\u001b[0;34m:\u001b[0m\u001b[0;34m\u001b[0m\u001b[0m\n\u001b[0;32m---> 30\u001b[0;31m         \u001b[0;32mreturn\u001b[0m \u001b[0mnp\u001b[0m\u001b[0;34m.\u001b[0m\u001b[0mload\u001b[0m\u001b[0;34m(\u001b[0m\u001b[0mfilename_cache\u001b[0m\u001b[0;34m+\u001b[0m\u001b[0;34m'.npy'\u001b[0m\u001b[0;34m)\u001b[0m\u001b[0;34m\u001b[0m\u001b[0m\n\u001b[0m\u001b[1;32m     31\u001b[0m         \u001b[0;31m# return np.fromfile(filename_cache, dtype=np.float32)\u001b[0m\u001b[0;34m\u001b[0m\u001b[0;34m\u001b[0m\u001b[0m\n\u001b[1;32m     32\u001b[0m \u001b[0;34m\u001b[0m\u001b[0m\n",
      "\u001b[0;32m~/anaconda3/envs/pytorch_p36/lib/python3.6/site-packages/numpy/lib/npyio.py\u001b[0m in \u001b[0;36mload\u001b[0;34m(file, mmap_mode, allow_pickle, fix_imports, encoding)\u001b[0m\n\u001b[1;32m    420\u001b[0m         \u001b[0mown_fid\u001b[0m \u001b[0;34m=\u001b[0m \u001b[0;32mFalse\u001b[0m\u001b[0;34m\u001b[0m\u001b[0m\n\u001b[1;32m    421\u001b[0m     \u001b[0;32melse\u001b[0m\u001b[0;34m:\u001b[0m\u001b[0;34m\u001b[0m\u001b[0m\n\u001b[0;32m--> 422\u001b[0;31m         \u001b[0mfid\u001b[0m \u001b[0;34m=\u001b[0m \u001b[0mopen\u001b[0m\u001b[0;34m(\u001b[0m\u001b[0mos_fspath\u001b[0m\u001b[0;34m(\u001b[0m\u001b[0mfile\u001b[0m\u001b[0;34m)\u001b[0m\u001b[0;34m,\u001b[0m \u001b[0;34m\"rb\"\u001b[0m\u001b[0;34m)\u001b[0m\u001b[0;34m\u001b[0m\u001b[0m\n\u001b[0m\u001b[1;32m    423\u001b[0m         \u001b[0mown_fid\u001b[0m \u001b[0;34m=\u001b[0m \u001b[0;32mTrue\u001b[0m\u001b[0;34m\u001b[0m\u001b[0m\n\u001b[1;32m    424\u001b[0m \u001b[0;34m\u001b[0m\u001b[0m\n",
      "\u001b[0;31mFileNotFoundError\u001b[0m: [Errno 2] No such file or directory: '../Rodrigo-data/bias_subspace_k10_nl_large1000k.npy'"
     ]
    }
   ],
   "source": [
    "bias_subspace_c = sen_debias.get_bias_direction(model_nl,tokenizer_nl, #reload from cache \n",
    "    from_cache = True,\n",
    "    save_to_file = False,\n",
    "    amount_gen_pairs = 1000,\n",
    "    filename_cache= file_bias_subspace,\n",
    "    save_file_name=file_bias_subspace)"
   ]
  },
  {
   "cell_type": "code",
   "execution_count": 8,
   "metadata": {},
   "outputs": [
    {
     "output_type": "execute_result",
     "data": {
      "text/plain": "['Bert_debiased_results_k20_from_1000_pairs_nl.csv',\n 'Bert_debiased_results_k29_from_1000_pairs_nl.csv',\n 'Bert_debiased_results_k3_from_10000_pairs_nl.csv',\n 'dutch_debiased_robbert.csv',\n 'Bert_debiased_results_k9_from_200000_pairs_nl.csv',\n 'Bert_debiased_results_k5_from_45000_pairs_nl.csv',\n 'Bert_debiased_results_k24_from_10000_pairs_nl.csv',\n 'Bert_debiased_results_k4_from_1000_pairs_nl.csv',\n 'Bert_debiased_results_k4_from_100000_pairs_nl.csv',\n 'Bert_debiased_results_k21_from_1000_pairs_nl.csv',\n 'Bert_debiased_results_k2_from_10000_pairs_nl.csv',\n 'Bert_debiased_results_k29_from_10000_pairs_nl.csv',\n 'Bert_debiased_results_k22_from_1000_pairs_nl.csv',\n 'Bert_debiased_results_k8_from_1000_pairs_nl.csv',\n 'Bert_debiased_results_k39_from_1000_pairs_nl.csv',\n 'Bert_debiased_results_k43_from_10000_pairs_nl.csv',\n 'Bert_debiased_results_k27_from_1000_pairs_nl.csv',\n 'Bert_debiased_results_k8_from_10000_pairs_nl.csv',\n 'Bert_debiased_results_k11_from_1000_pairs_nl.csv',\n 'Bert_debiased_results_k15_from_10000_pairs_nl.csv',\n 'Bert_debiased_results_k42_from_1000_pairs_nl.csv',\n 'Bert_debiased_results_k19_from_10000_pairs_nl.csv',\n 'Bert_debiased_results_k34_from_10000_pairs_nl.csv',\n 'Bert_debiased_results_k1_from_1000_pairs_nl.csv',\n 'Bert_debiased_results_k9_from_45000_pairs_nl.csv',\n 'Bert_debiased_results_k41_from_10000_pairs_nl.csv',\n 'Bert_debiased_results_k45_from_10000_pairs_nl.csv',\n 'Bert_debiased_results_k38_from_1000_pairs_nl.csv',\n 'Bert_debiased_results_k6_from_30000_pairs_nl.csv',\n 'Bert_debiased_results_k35_from_10000_pairs_nl.csv',\n 'Bert_debiased_results_k37_from_10000_pairs_nl.csv',\n 'Bert_debiased_results_k2_from_1000_pairs_nl.csv',\n 'Bert_debiased_results_k5_from_30000_pairs_nl.csv',\n 'Bert_debiased_results_k36_from_1000_pairs_nl.csv',\n 'Bert_debiased_results_k33_from_10000_pairs_nl.csv',\n 'Bert_debiased_results_k0_from_100000_pairs_nl.csv',\n 'Bert_debiased_results_k38_from_10000_pairs_nl.csv',\n 'Bert_debiased_results_k13_from_10000_pairs_nl.csv',\n 'Bert_debiased_results_k35_from_1000_pairs_nl.csv',\n 'Bert_debiased_results_k21_from_10000_pairs_nl.csv',\n 'Bert_debiased_results_k32_from_10000_pairs_nl.csv',\n 'Bert_debiased_results_k20_from_10000_pairs_nl.csv',\n 'Bert_debiased_results_k1_from_30000_pairs_nl.csv',\n 'Bert_debiased_results_k40_from_10000_pairs_nl.csv',\n 'Bert_debiased_results_k12_from_1000_pairs_nl.csv',\n 'Bert_debiased_results_k2_from_100000_pairs_nl.csv',\n 'Bert_debiased_results_k0_from_30000_pairs_nl.csv',\n 'Bert_debiased_results_k1_from_45000_pairs_nl.csv',\n 'Bert_debiased_results_k5_from_100000_pairs_nl.csv',\n 'kdim_tests',\n 'Bert_debiased_results_k24_from_1000_pairs_nl.csv',\n 'Bert_debiased_results_k45_from_1000_pairs_nl.csv',\n 'Bert_debiased_results_k10_from_1000_pairs_nl.csv',\n 'Bert_debiased_results_k9_from_1000_pairs_nl.csv',\n 'Bert_debiased_results_k49_from_1000_pairs_nl.csv',\n 'Bert_debiased_results_k46_from_1000_pairs_nl.csv',\n 'Bert_debiased_results_k10_from_10000_pairs_nl.csv',\n 'Bert_debiased_results_k22_from_10000_pairs_nl.csv',\n 'Bert_debiased_results_k4_from_30000_pairs_nl.csv',\n 'Bert_debiased_results_k25_from_1000_pairs_nl.csv',\n 'Bert_debiased_results_k4_from_15000_pairs_nl.csv',\n 'Bert_debiased_results_k31_from_10000_pairs_nl.csv',\n 'Bert_debiased_results_k25_from_10000_pairs_nl.csv',\n 'Bert_debiased_results_k8_from_30000_pairs_nl.csv',\n 'Bert_debiased_results_k8_from_15000_pairs_nl.csv',\n 'Bert_debiased_results_k16_from_1000_pairs_nl.csv',\n 'Bert_debiased_results_k14_from_1000_pairs_nl.csv',\n 'Bert_debiased_results_k0_from_1000_pairs_nl.csv',\n 'Bert_debiased_results_k23_from_10000_pairs_nl.csv',\n 'Bert_debiased_results_k1_from_200000_pairs_nl.csv',\n 'Bert_debiased_results_k47_from_10000_pairs_nl.csv',\n 'Bert_debiased_results_k30_from_1000_pairs_nl.csv',\n 'Bert_debiased_results_k2_from_45000_pairs_nl.csv',\n 'Bert_debiased_results_k26_from_1000_pairs_nl.csv',\n 'Bert_debiased_results_k3_from_200000_pairs_nl.csv',\n 'Bert_debiased_results_k28_from_10000_pairs_nl.csv',\n 'Bert_debiased_results_k2_from_15000_pairs_nl.csv',\n 'Bert_debiased_results_k1_from_15000_pairs_nl.csv',\n 'Bert_debiased_results_k26_from_10000_pairs_nl.csv',\n 'Bert_debiased_results_k8_from_100000_pairs_nl.csv',\n 'Bert_debiased_results_k9_from_10000_pairs_nl.csv',\n 'Bert_debiased_results_k5_from_10000_pairs_nl.csv',\n 'Bert_debiased_results_k4_from_45000_pairs_nl.csv',\n 'Bert_debiased_results_k47_from_1000_pairs_nl.csv',\n 'Bert_debiased_results_k0_from_45000_pairs_nl.csv',\n 'Bert_debiased_results_k46_from_10000_pairs_nl.csv',\n 'dutch_biased_robbert.csv',\n 'dutch_debiased_bertje.csv',\n 'Latex_tables',\n 'Bert_debiased_results_k7_from_15000_pairs_nl.csv',\n 'Bert_debiased_results_k1_from_10000_pairs_nl.csv',\n 'Bert_debiased_results_k7_from_1000_pairs_nl.csv',\n 'Bert_debiased_results_k7_from_200000_pairs_nl.csv',\n 'Bert_debiased_results_k6_from_1000_pairs_nl.csv',\n 'Bert_debiased_results_k0_from_15000_pairs_nl.csv',\n 'Bert_debiased_results_k4_from_10000_pairs_nl.csv',\n 'Bert_debiased_results_k49_from_10000_pairs_nl.csv',\n 'Bert_debiased_results_k19_from_1000_pairs_nl.csv',\n 'Bert_debiased_results_k28_from_1000_pairs_nl.csv',\n 'Bert_debiased_results_k43_from_1000_pairs_nl.csv',\n 'Bert_debiased_results_k8_from_45000_pairs_nl.csv',\n 'Bert_debiased_results_k31_from_1000_pairs_nl.csv',\n 'Bert_debiased_results_k9_from_15000_pairs_nl.csv',\n 'Bert_debiased_results_k34_from_1000_pairs_nl.csv',\n 'Bert_debiased_results_k6_from_15000_pairs_nl.csv',\n 'Bert_debiased_results_k48_from_10000_pairs_nl.csv',\n 'Bert_debiased_results_k6_from_100000_pairs_nl.csv',\n 'Bert_debiased_results_k42_from_10000_pairs_nl.csv',\n 'Bert_debiased_results_k3_from_15000_pairs_nl.csv',\n 'Bert_debiased_results_k48_from_1000_pairs_nl.csv',\n 'Bert_debiased_results_k17_from_10000_pairs_nl.csv',\n 'Bert_debiased_results_k7_from_30000_pairs_nl.csv',\n 'Bert_debiased_results_k11_from_10000_pairs_nl.csv',\n 'Bert_debiased_results_k0_from_10000_pairs_nl.csv',\n 'Bert_debiased_results_k7_from_45000_pairs_nl.csv',\n 'Bert_debiased_results_k3_from_30000_pairs_nl.csv',\n 'Bert_debiased_results_k36_from_10000_pairs_nl.csv',\n 'Bert_debiased_results_k8_from_200000_pairs_nl.csv',\n 'Bert_debiased_results_k37_from_1000_pairs_nl.csv',\n 'Bert_debiased_results_k16_from_10000_pairs_nl.csv',\n 'Bert_debiased_results_k9_from_100000_pairs_nl.csv',\n 'Bert_debiased_results_k30_from_10000_pairs_nl.csv',\n 'Bert_debiased_results_k5_from_15000_pairs_nl.csv',\n 'Bert_debiased_results_k7_from_100000_pairs_nl.csv',\n 'Bert_debiased_results_k32_from_1000_pairs_nl.csv',\n 'Bert_debiased_results_k6_from_10000_pairs_nl.csv',\n 'Bert_debiased_results_k7_from_10000_pairs_nl.csv',\n 'Bert_debiased_results_k2_from_200000_pairs_nl.csv',\n 'Bert_debiased_results_k2_from_30000_pairs_nl.csv',\n 'Bert_debiased_results_k9_from_30000_pairs_nl.csv',\n 'Bert_debiased_results_k6_from_200000_pairs_nl.csv',\n 'Bert_debiased_results_k23_from_1000_pairs_nl.csv',\n 'Bert_debiased_results_k5_from_200000_pairs_nl.csv',\n 'Bert_debiased_results_k4_from_200000_pairs_nl.csv',\n 'Bert_debiased_results_k5_from_1000_pairs_nl.csv',\n 'Bert_debiased_results_k18_from_10000_pairs_nl.csv',\n 'Bert_debiased_results_k18_from_1000_pairs_nl.csv',\n 'Bert_debiased_results_k44_from_1000_pairs_nl.csv',\n 'Bert_debiased_results_k33_from_1000_pairs_nl.csv',\n 'Bert_debiased_results_k14_from_10000_pairs_nl.csv',\n 'nl_fasttext_03.csv',\n 'nl_nlpl_03.csv',\n 'Bert_debiased_results_k41_from_1000_pairs_nl.csv',\n 'Bert_debiased_results_k3_from_100000_pairs_nl.csv',\n 'Bert_debiased_results_k3_from_1000_pairs_nl.csv',\n 'nl_combined_clips_03.csv',\n 'Bert_debiased_results_k15_from_1000_pairs_nl.csv',\n 'Bert_debiased_results_k44_from_10000_pairs_nl.csv',\n 'Bert_debiased_results_k3_from_45000_pairs_nl.csv',\n 'Bert_debiased_results_k40_from_1000_pairs_nl.csv',\n 'Bert_debiased_results_k12_from_10000_pairs_nl.csv',\n 'Bert_debiased_results_k6_from_45000_pairs_nl.csv',\n 'Bert_debiased_results_k1_from_100000_pairs_nl.csv',\n 'Bert_debiased_results_k39_from_10000_pairs_nl.csv',\n 'Bert_debiased_results_k17_from_1000_pairs_nl.csv',\n 'Bert_debiased_results_k27_from_10000_pairs_nl.csv',\n 'Bert_debiased_results_k13_from_1000_pairs_nl.csv']"
     },
     "metadata": {},
     "execution_count": 8
    }
   ],
   "source": [
    "files = [f for f in os.listdir('../Rodrigo-data/Results/')]\n",
    "files"
   ]
  },
  {
   "cell_type": "code",
   "execution_count": 9,
   "metadata": {},
   "outputs": [
    {
     "output_type": "execute_result",
     "data": {
      "text/plain": "['Bert_debiased_results_k20_from_1000_pairs_nl.csv']"
     },
     "metadata": {},
     "execution_count": 9
    }
   ],
   "source": [
    "files[:1]"
   ]
  }
 ],
 "metadata": {
  "language_info": {
   "codemirror_mode": {
    "name": "ipython",
    "version": 3
   },
   "file_extension": ".py",
   "mimetype": "text/x-python",
   "name": "python",
   "nbconvert_exporter": "python",
   "pygments_lexer": "ipython3",
   "version": 3
  },
  "orig_nbformat": 2,
  "kernelspec": {
   "name": "python_defaultSpec_1594377485065",
   "display_name": "Python 3.6.5 64-bit ('pytorch_p36': conda)"
  }
 },
 "nbformat": 4,
 "nbformat_minor": 2
}