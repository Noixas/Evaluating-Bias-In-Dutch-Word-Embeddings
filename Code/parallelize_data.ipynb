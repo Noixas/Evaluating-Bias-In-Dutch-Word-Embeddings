{
 "cells": [
  {
   "cell_type": "code",
   "execution_count": null,
   "metadata": {},
   "outputs": [],
   "source": []
  },
  {
   "cell_type": "markdown",
   "metadata": {},
   "source": [
    "# Reformatting data\n",
    "Notebook to reformat data, this is a manual one time thing so no need to look at it for the results."
   ]
  },
  {
   "cell_type": "code",
   "execution_count": 1,
   "metadata": {},
   "outputs": [],
   "source": [
    "import numpy as np\n",
    "import pandas as pd\n"
   ]
  },
  {
   "cell_type": "code",
   "execution_count": 2,
   "metadata": {},
   "outputs": [],
   "source": [
    "gender_male_nl,gender_female_nl = [], []\n",
    "with open('../Rodrigo-data/Clustering/male_word_file_nl.txt') as f:\n",
    "    for l in f:\n",
    "        gender_male_nl.append(l.strip())\n",
    "with open('../Rodrigo-data/Clustering/female_word_file_nl.txt') as f:\n",
    "    for l in f:\n",
    "        gender_female_nl.append(l.strip())"
   ]
  },
  {
   "cell_type": "code",
   "execution_count": 3,
   "metadata": {},
   "outputs": [],
   "source": [
    "gender_male_en,gender_female_en = [], []\n",
    "with open('../Rodrigo-data/Clustering/male_word_file_en.txt') as f:\n",
    "    for l in f:\n",
    "        gender_male_en.append(l.strip())\n",
    "with open('../Rodrigo-data/Clustering/female_word_file_en.txt') as f:\n",
    "    for l in f:\n",
    "        gender_female_en.append(l.strip())"
   ]
  },
  {
   "cell_type": "code",
   "execution_count": 4,
   "metadata": {},
   "outputs": [],
   "source": [
    "female_dict = {'en':gender_female_en,'nl':gender_female_nl}\n",
    "female = pd.DataFrame(female_dict)\n",
    "female.to_csv('../Rodrigo-data/Clustering/female_words_en_nl.csv')"
   ]
  },
  {
   "cell_type": "code",
   "execution_count": 5,
   "metadata": {},
   "outputs": [],
   "source": [
    "male_dict = {'en':gender_male_en,'nl':gender_male_nl}\n",
    "male = pd.DataFrame(male_dict)\n",
    "male.to_csv('../Rodrigo-data/Clustering/male_words_en_nl.csv')\n"
   ]
  },
  {
   "cell_type": "code",
   "execution_count": 6,
   "metadata": {},
   "outputs": [],
   "source": [
    "def create_df(category, en_list, nl_list):\n",
    "    size = len(en_list)\n",
    "    category_list = [category]*size\n",
    "    dict = {'category':category,'en':en_list,'nl':nl_list}\n",
    "    return pd.DataFrame(dict)"
   ]
  },
  {
   "cell_type": "code",
   "execution_count": 7,
   "metadata": {},
   "outputs": [],
   "source": [
    "import WEAT #import WEAT functions \n",
    "from lists.WEAT_lists_NL import * #Dutch dataset\n",
    "from lists.WEAT_lists import * #Dutch dataset"
   ]
  },
  {
   "cell_type": "code",
   "execution_count": 8,
   "metadata": {},
   "outputs": [],
   "source": [
    "WEATNL.W_1_Flowers\n",
    "WEATLists.W_1_Flowers\n",
    "a= create_df('flowers',WEATLists.W_1_Flowers, WEATNL.W_1_Flowers)\n",
    "b = create_df('insects',WEATLists.W_1_Insects, WEATNL.W_1_Insects)"
   ]
  },
  {
   "cell_type": "code",
   "execution_count": 9,
   "metadata": {},
   "outputs": [
    {
     "output_type": "execute_result",
     "data": {
      "text/plain": "  category     en     nl\n0  flowers  aster  aster\n0  insects    ant   mier",
      "text/html": "<div>\n<style scoped>\n    .dataframe tbody tr th:only-of-type {\n        vertical-align: middle;\n    }\n\n    .dataframe tbody tr th {\n        vertical-align: top;\n    }\n\n    .dataframe thead th {\n        text-align: right;\n    }\n</style>\n<table border=\"1\" class=\"dataframe\">\n  <thead>\n    <tr style=\"text-align: right;\">\n      <th></th>\n      <th>category</th>\n      <th>en</th>\n      <th>nl</th>\n    </tr>\n  </thead>\n  <tbody>\n    <tr>\n      <th>0</th>\n      <td>flowers</td>\n      <td>aster</td>\n      <td>aster</td>\n    </tr>\n    <tr>\n      <th>0</th>\n      <td>insects</td>\n      <td>ant</td>\n      <td>mier</td>\n    </tr>\n  </tbody>\n</table>\n</div>"
     },
     "metadata": {},
     "execution_count": 9
    }
   ],
   "source": [
    "c = a.append(b)\n",
    "c.loc[0]"
   ]
  },
  {
   "cell_type": "code",
   "execution_count": 10,
   "metadata": {},
   "outputs": [],
   "source": [
    "triples = [\n",
    "    ('flowers',WEATLists.W_1_Flowers, WEATNL.W_1_Flowers),\n",
    "    ('insects',WEATLists.W_1_Insects, WEATNL.W_1_Insects),\n",
    "    ('pleasant',WEATLists.W_1_Pleasant, WEATNL.W_1_Pleasant),\n",
    "    ('unpleasant',WEATLists.W_1_Unpleasant, WEATNL.W_1_Unpleasant),\n",
    "    ('instruments',WEATLists.W_2_Instruments, WEATNL.W_2_Instruments),\n",
    "    ('weapons',WEATLists.W_2_Weapons, WEATNL.W_2_Weapons),\n",
    "    ('Unused_full_list_European_American_names',WEATLists.W_3_Unused_full_list_European_American_names, WEATNL.W_3_Unused_full_list_European_American_names),\n",
    "    ('european_american_names',WEATLists.W_3_European_American_names, WEATNL.W_3_European_American_names),\n",
    "    ('Unused_full_list_African_American_names',WEATLists.W_3_Unused_full_list_African_American_names, WEATNL.W_3_Unused_full_list_African_American_names),\n",
    "    ('african_american_names',WEATLists.W_3_African_American_names, WEATNL.W_3_African_American_names),\n",
    "    ('male_names',WEATLists.W_6_Male_names, WEATNL.W_6_Male_names),\n",
    "    ('female_names',WEATLists.W_6_Female_names, WEATNL.W_6_Female_names),\n",
    "    ('career',WEATLists.W_6_Career, WEATNL.W_6_Career),\n",
    "    ('family',WEATLists.W_6_Family, WEATNL.W_6_Family),\n",
    "    ('math',WEATLists.W_7_Math, WEATNL.W_7_Math),\n",
    "    ('arts',WEATLists.W_7_Arts, WEATNL.W_7_Arts),\n",
    "    ('male_terms',WEATLists.W_7_Male_terms, WEATNL.W_7_Male_terms),\n",
    "    ('female_terms',WEATLists.W_7_Female_terms, WEATNL.W_7_Female_terms),\n",
    "    ('science',WEATLists.W_8_Science, WEATNL.W_8_Science),\n",
    "    ('mental_disease',WEATLists.W_9_Mental_disease, WEATNL.W_9_Mental_disease),\n",
    "    ('physical_disease',WEATLists.W_9_Physical_disease, WEATNL.W_9_Physical_disease),\n",
    "    ('temporary',WEATLists.W_9_Temporary, WEATNL.W_9_Temporary),\n",
    "    ('permanent',WEATLists.W_9_Permanent, WEATNL.W_9_Permanent),\n",
    "    ('young_peoples_names',WEATLists.W_10_Young_peoples_names, WEATNL.W_10_Young_peoples_names),\n",
    "    ('old_peoples_names',WEATLists.W_10_Old_peoples_names, WEATNL.W_10_Old_peoples_names)\n",
    "    ]\n"
   ]
  },
  {
   "cell_type": "code",
   "execution_count": 12,
   "metadata": {},
   "outputs": [],
   "source": [
    "weat_df = pd.DataFrame()\n",
    "for t in triples:\n",
    "    b = create_df(*t)\n",
    "    weat_df = weat_df.append(b)"
   ]
  },
  {
   "cell_type": "code",
   "execution_count": 13,
   "metadata": {},
   "outputs": [],
   "source": [
    "weat_df.to_csv('../Rodrigo-data/Clustering/weat_lists_en_nl.csv')"
   ]
  },
  {
   "cell_type": "markdown",
   "metadata": {},
   "source": [
    "## SEAT data"
   ]
  },
  {
   "cell_type": "code",
   "execution_count": 126,
   "metadata": {},
   "outputs": [],
   "source": [
    "# import json\n",
    "# import numpy as np\n",
    "# import pandas as pd\n",
    "# #Read seat like the other embeddings and save them in csv\n",
    "# test_path = '../Rodrigo-data/SEAT/tests'\n",
    "# TEST_EXT = '.jsonl'\n",
    "# # all_tests = sorted([ entry[:-len(TEST_EXT)] for entry in os.listdir(test_path) if not entry.startswith('.') and entry.endswith(TEST_EXT)], key=test_sort_key)\n",
    "# all_tests = [entry[:-len(TEST_EXT)] for entry in os.listdir(test_path) if not entry.startswith('.') and entry.endswith(TEST_EXT)]\n",
    "# # all_tests.sort()\n",
    "# print(all_tests)"
   ]
  },
  {
   "cell_type": "code",
   "execution_count": 127,
   "metadata": {},
   "outputs": [],
   "source": [
    "# abc = pd.read_json(test_path+'/'+all_tests[0]+TEST_EXT, orient ='columns')\n",
    "# # abc.targ1.examples\n",
    "# categories = abc.loc['category'].to_list()\n",
    "# categories\n",
    "# abc.columns"
   ]
  },
  {
   "cell_type": "code",
   "execution_count": 128,
   "metadata": {},
   "outputs": [],
   "source": [
    "# at1 = abc.attr1.to_list()\n",
    "# at2 = abc.attr2.to_list()\n",
    "# targ1 = abc.attr1.to_list()\n",
    "# targ2 = abc.targ2.to_list()\n",
    "# at1_tuple = {'category':at1[0],'en':at1[1],'nl':[0]*len(at1[1])}\n",
    "# at1_tuple = pd.DataFrame(at1_tuple)\n",
    "# at2_tuple = pd.DataFrame({'category':at2[0],'en':at2[1],'nl':[0]*len(at2[1])})\n",
    "# targ1_tuple = pd.DataFrame({'category':targ1[0],'en':targ1[1],'nl':[0]*len(targ1[1])})\n",
    "# targ2_tuple = pd.DataFrame({'category':targ2[0],'en':targ2[1],'nl':[0]*len(targ2[1])})\n",
    "# df_seat = pd.DataFrame()\n",
    "# df_seat = df_seat.append(at1_tuple)\n",
    "# df_seat = df_seat.append(at2_tuple)\n",
    "# df_seat = df_seat.append(targ1_tuple)\n",
    "# df_seat = df_seat.append(targ2_tuple)\n",
    "# df_seat.to_csv(test_path+'/'+all_tests[0]+'_test0002.csv')"
   ]
  },
  {
   "cell_type": "markdown",
   "metadata": {},
   "source": [
    "### Actual important methods"
   ]
  },
  {
   "cell_type": "code",
   "execution_count": 124,
   "metadata": {},
   "outputs": [],
   "source": [
    "import json\n",
    "import numpy as np\n",
    "import pandas as pd\n",
    "\n",
    "def seat_to_csv(test_path, filename, extension='.jsonl'):\n",
    "    seat = pd.read_json(test_path+filename+extension, orient ='columns')\n",
    "    seat_df = pd.DataFrame()\n",
    "    for col in seat:\n",
    "        att_list = seat[col].to_list()\n",
    "        att_dict = {'category':att_list[0],'en':att_list[1],'nl':[0]*len(att_list[1])}\n",
    "        att_df = pd.DataFrame(att_dict)\n",
    "        seat_df =seat_df.append(att_df)\n",
    "    seat_df.to_csv('../Rodrigo-data/SEAT/csv/'+filename+'.csv')    \n",
    "\n",
    "def update_SEAT_data():\n",
    "    #Read seat like the other embeddings and save them in csv\n",
    "    test_path = '../Rodrigo-data/SEAT/tests/'\n",
    "    TEST_EXT = '.jsonl'\n",
    "    # all_tests = sorted([ entry[:-len(TEST_EXT)] for entry in os.listdir(test_path) if not entry.startswith('.') and entry.endswith(TEST_EXT)], key=test_sort_key)\n",
    "    all_tests = [entry[:-len(TEST_EXT)] for entry in os.listdir(test_path) if not entry.startswith('.') and entry.endswith(TEST_EXT)]\n",
    "    for test_name in all_tests:\n",
    "        seat_to_csv(test_path, filename=test_name)"
   ]
  },
  {
   "cell_type": "code",
   "execution_count": 125,
   "metadata": {},
   "outputs": [],
   "source": [
    "update_SEAT_data()"
   ]
  },
  {
   "cell_type": "markdown",
   "metadata": {},
   "source": [
    "# Pairs Gender from Wiki dump"
   ]
  },
  {
   "cell_type": "code",
   "execution_count": null,
   "metadata": {},
   "outputs": [],
   "source": [
    "words = [[\"vrouw\", \"man\"], [\"meisje\", \"jongen\"], [\"zij\", \"hij\"], [\"moeder\", \"vader\"], [\"dochter\", \"zoon\"], [\"zus\",\"broer\"], [\"vrouwelijk\",\"mannelijk\"], [\"haar\",\"zijn\"], [\"haarzelf\",\"hemzelf\"], [\"Emma\",\"Daan\"]]"
   ]
  },
  {
   "cell_type": "code",
   "execution_count": null,
   "metadata": {},
   "outputs": [],
   "source": [
    "def match(a,L):\n",
    "\tfor b in L:\n",
    "\t\tif a == b:\n",
    "\t\t\treturn True\n",
    "\treturn False\n",
    "\n",
    "def replace(a,new,L):\n",
    "\tLnew = []\n",
    "\tfor b in L:\n",
    "\t\tif a == b:\n",
    "\t\t\tLnew.append(new)\n",
    "\t\telse:\n",
    "\t\t\tLnew.append(b)\n",
    "\treturn ' '.join(Lnew)\n",
    "\n",
    "def template2(words, sent, sent_words_list, all_pairs):\n",
    "\tfor (female, male) in words:\n",
    "\t\tif match(female, sent_words_list):\n",
    "\t\t\tsent_f = sent\n",
    "\t\t\tsent_m = replace(female,male,sent_words_list)\n",
    "\t\t\tpair = (sent_f,sent_m)\n",
    "\t\t\tall_pairs.append(pair)\n",
    "\t\tif match(male, sent_words_list):\n",
    "\t\t\tsent_f = replace(male,female,sent_words_list)\n",
    "\t\t\tsent_m = sent\n",
    "\t\t\tpair = (sent_f,sent_m)\n",
    "\t\t\tall_pairs.append(pair)\n",
    "\treturn all_pairs"
   ]
  }
 ],
 "metadata": {
  "language_info": {
   "codemirror_mode": {
    "name": "ipython",
    "version": 3
   },
   "file_extension": ".py",
   "mimetype": "text/x-python",
   "name": "python",
   "nbconvert_exporter": "python",
   "pygments_lexer": "ipython3",
   "version": "3.6.5-final"
  },
  "orig_nbformat": 2,
  "kernelspec": {
   "name": "python36564bitpytorchp36conda14e9f2ec2c1644a58673c19beabaa9b5",
   "display_name": "Python 3.6.5 64-bit ('pytorch_p36': conda)"
  }
 },
 "nbformat": 4,
 "nbformat_minor": 2
}