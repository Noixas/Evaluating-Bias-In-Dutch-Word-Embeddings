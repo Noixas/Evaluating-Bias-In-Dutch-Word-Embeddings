{
 "cells": [
  {
   "cell_type": "markdown",
   "metadata": {},
   "source": [
    "# Debias BERTJe"
   ]
  },
  {
   "cell_type": "code",
   "execution_count": 1,
   "metadata": {
    "tags": []
   },
   "outputs": [
    {
     "output_type": "stream",
     "name": "stderr",
     "text": "unable to import 'smart_open.gcs', disabling that module\n"
    }
   ],
   "source": [
    "# import torch\n",
    "# %load_ext autoreload\n",
    "# %autoreload 2\n",
    "from transformers import *\n",
    "import numpy as np\n",
    "import pandas as pd\n",
    "import os\n",
    "import SEAT\n",
    "import Utils_R as utils_r\n",
    "import Debias_Sentences as sen_debias"
   ]
  },
  {
   "cell_type": "markdown",
   "metadata": {},
   "source": [
    "# Main process steps "
   ]
  },
  {
   "cell_type": "markdown",
   "metadata": {},
   "source": [
    "# Debias BERT Steps\n",
    "\n",
    "1. Initialize BERT\n",
    "2. Get Gender Direction\n",
    "    1. Get lists of pair sentences. (e.g. HE is smart, SHE is smart).\n",
    "    2. Get embeddings on pair list.\n",
    "    3. Normalize embeddings.\n",
    "    4. Get component 0 of PCA(pairs_list).\n",
    "    5. return that component 0.\n",
    "3. Debias some sentences\n",
    "    1. Get sentence embeddings\n",
    "    2. Normalize embeddings\n",
    "    3. Use drop method with gender Direction\n",
    "    4. Normalize again\n",
    "4. Perform SEAT (same as step 3 but sentences are from seat)"
   ]
  },
  {
   "cell_type": "code",
   "execution_count": 2,
   "metadata": {},
   "outputs": [],
   "source": [
    "tokenizer_nl = BertTokenizer.from_pretrained(\"wietsedv/bert-base-dutch-cased\", add_special_tokens=True, pad_to_max_length=True)\n",
    "model_nl = BertModel.from_pretrained(\"wietsedv/bert-base-dutch-cased\")\n",
    "dir_results = '../Rodrigo-data/Results/'"
   ]
  },
  {
   "cell_type": "markdown",
   "metadata": {},
   "source": [
    "# Biased"
   ]
  },
  {
   "cell_type": "code",
   "execution_count": 3,
   "metadata": {
    "tags": []
   },
   "outputs": [
    {
     "output_type": "stream",
     "name": "stderr",
     "text": "1%|          | 3/350 [00:00<00:12, 27.87it/s]Current test: ../Rodrigo-data/SEAT/csv-translated/sent-weat_01_en_nl.csv\n100%|██████████| 350/350 [00:12<00:00, 27.01it/s]\n100%|██████████| 350/350 [00:12<00:00, 27.08it/s]\n100%|██████████| 215/215 [00:07<00:00, 28.79it/s]\n100%|██████████| 250/250 [00:08<00:00, 28.86it/s]\n  1%|          | 3/330 [00:00<00:12, 26.06it/s]Current test: ../Rodrigo-data/SEAT/csv-translated/sent-weat_02_en_nl.csv\n100%|██████████| 330/330 [00:12<00:00, 26.84it/s]\n100%|██████████| 330/330 [00:11<00:00, 27.68it/s]\n100%|██████████| 215/215 [00:07<00:00, 28.73it/s]\n100%|██████████| 250/250 [00:08<00:00, 28.74it/s]\n  2%|▏         | 4/256 [00:00<00:07, 32.90it/s]Current test: ../Rodrigo-data/SEAT/csv-translated/sent-weat_03_en_nl.csv\n100%|██████████| 256/256 [00:08<00:00, 30.75it/s]\n100%|██████████| 256/256 [00:09<00:00, 27.32it/s]\n100%|██████████| 215/215 [00:07<00:00, 28.85it/s]\n100%|██████████| 249/249 [00:08<00:00, 28.76it/s]\n  2%|▏         | 3/195 [00:00<00:07, 26.98it/s]Current test: ../Rodrigo-data/SEAT/csv-translated/sent-weat_03b_en_nl.csv\n100%|██████████| 195/195 [00:07<00:00, 26.10it/s]\n100%|██████████| 195/195 [00:08<00:00, 24.34it/s]\n100%|██████████| 215/215 [00:07<00:00, 28.59it/s]\n100%|██████████| 249/249 [00:08<00:00, 28.56it/s]\n  3%|▎         | 4/128 [00:00<00:03, 33.08it/s]Current test: ../Rodrigo-data/SEAT/csv-translated/sent-weat_04_en_nl.csv\n100%|██████████| 128/128 [00:04<00:00, 30.03it/s]\n100%|██████████| 128/128 [00:04<00:00, 26.79it/s]\n100%|██████████| 215/215 [00:07<00:00, 28.75it/s]\n100%|██████████| 249/249 [00:08<00:00, 28.40it/s]\n  3%|▎         | 4/128 [00:00<00:03, 32.51it/s]Current test: ../Rodrigo-data/SEAT/csv-translated/sent-weat_05_en_nl.csv\n100%|██████████| 128/128 [00:04<00:00, 30.23it/s]\n100%|██████████| 128/128 [00:04<00:00, 26.87it/s]\n100%|██████████| 40/40 [00:01<00:00, 30.84it/s]\n100%|██████████| 47/47 [00:01<00:00, 30.39it/s]\n  2%|▏         | 3/195 [00:00<00:07, 26.36it/s]Current test: ../Rodrigo-data/SEAT/csv-translated/sent-weat_05b_en_nl.csv\n100%|██████████| 195/195 [00:07<00:00, 26.33it/s]\n100%|██████████| 195/195 [00:08<00:00, 24.33it/s]\n100%|██████████| 40/40 [00:01<00:00, 30.87it/s]\n100%|██████████| 47/47 [00:01<00:00, 29.70it/s]\n  6%|▋         | 4/64 [00:00<00:01, 32.84it/s]Current test: ../Rodrigo-data/SEAT/csv-translated/sent-weat_06_en_nl.csv\n100%|██████████| 64/64 [00:02<00:00, 31.33it/s]\n100%|██████████| 64/64 [00:02<00:00, 31.30it/s]\n100%|██████████| 101/101 [00:03<00:00, 29.04it/s]\n100%|██████████| 112/112 [00:03<00:00, 29.07it/s]\n  4%|▍         | 3/80 [00:00<00:02, 29.61it/s]Current test: ../Rodrigo-data/SEAT/csv-translated/sent-weat_06b_en_nl.csv\n100%|██████████| 80/80 [00:02<00:00, 29.80it/s]\n100%|██████████| 80/80 [00:02<00:00, 29.63it/s]\n100%|██████████| 101/101 [00:03<00:00, 28.83it/s]\n100%|██████████| 112/112 [00:03<00:00, 28.93it/s]\n  6%|▌         | 4/72 [00:00<00:02, 33.12it/s]Current test: ../Rodrigo-data/SEAT/csv-translated/sent-weat_07_en_nl.csv\n100%|██████████| 72/72 [00:02<00:00, 28.86it/s]\n100%|██████████| 72/72 [00:02<00:00, 28.95it/s]\n100%|██████████| 80/80 [00:02<00:00, 29.53it/s]\n100%|██████████| 80/80 [00:02<00:00, 29.48it/s]\n  6%|▌         | 4/72 [00:00<00:02, 32.48it/s]Current test: ../Rodrigo-data/SEAT/csv-translated/sent-weat_07b_en_nl.csv\n100%|██████████| 72/72 [00:02<00:00, 28.57it/s]\n100%|██████████| 72/72 [00:02<00:00, 29.32it/s]\n100%|██████████| 64/64 [00:02<00:00, 31.23it/s]\n100%|██████████| 64/64 [00:02<00:00, 31.15it/s]\n  7%|▋         | 4/56 [00:00<00:01, 33.02it/s]Current test: ../Rodrigo-data/SEAT/csv-translated/sent-weat_08_en_nl.csv\n100%|██████████| 56/56 [00:01<00:00, 30.56it/s]\n100%|██████████| 56/56 [00:01<00:00, 29.06it/s]\n100%|██████████| 80/80 [00:02<00:00, 29.07it/s]\n100%|██████████| 80/80 [00:02<00:00, 28.60it/s]\n  7%|▋         | 4/56 [00:00<00:01, 32.80it/s]Current test: ../Rodrigo-data/SEAT/csv-translated/sent-weat_08b_en_nl.csv\n100%|██████████| 56/56 [00:01<00:00, 30.39it/s]\n100%|██████████| 56/56 [00:01<00:00, 29.38it/s]\n100%|██████████| 64/64 [00:02<00:00, 31.14it/s]\n100%|██████████| 64/64 [00:02<00:00, 31.05it/s]\n 22%|██▏       | 4/18 [00:00<00:00, 32.83it/s]Current test: ../Rodrigo-data/SEAT/csv-translated/sent-weat_09_en_nl.csv\n100%|██████████| 18/18 [00:00<00:00, 31.74it/s]\n100%|██████████| 18/18 [00:00<00:00, 27.85it/s]\n100%|██████████| 21/21 [00:00<00:00, 27.60it/s]\n100%|██████████| 23/23 [00:00<00:00, 31.22it/s]\n  6%|▋         | 4/64 [00:00<00:01, 32.74it/s]Current test: ../Rodrigo-data/SEAT/csv-translated/sent-weat_10_en_nl.csv\n100%|██████████| 64/64 [00:02<00:00, 30.29it/s]\n100%|██████████| 64/64 [00:02<00:00, 28.52it/s]\n100%|██████████| 40/40 [00:01<00:00, 31.18it/s]\n100%|██████████| 47/47 [00:01<00:00, 29.86it/s]\n"
    }
   ],
   "source": [
    "df_biased = SEAT.Compute_SEAT(model_nl, tokenizer_nl, model_name = 'BERT_BIAS',output_results='dutch_biased_bertje.csv',from_cache_XYAB_=False)"
   ]
  },
  {
   "cell_type": "markdown",
   "metadata": {},
   "source": [
    "# Debiased"
   ]
  },
  {
   "cell_type": "code",
   "execution_count": 4,
   "metadata": {
    "tags": []
   },
   "outputs": [
    {
     "output_type": "stream",
     "name": "stderr",
     "text": "1%|          | 3/350 [00:00<00:11, 29.33it/s]Current test: ../Rodrigo-data/SEAT/csv-translated/sent-weat_01_en_nl.csv\n100%|██████████| 350/350 [00:13<00:00, 26.89it/s]\n100%|██████████| 350/350 [00:13<00:00, 26.76it/s]\n100%|██████████| 215/215 [00:07<00:00, 28.62it/s]\n100%|██████████| 250/250 [00:08<00:00, 28.75it/s]\n  1%|          | 3/330 [00:00<00:12, 25.51it/s]Current test: ../Rodrigo-data/SEAT/csv-translated/sent-weat_02_en_nl.csv\n100%|██████████| 330/330 [00:12<00:00, 26.80it/s]\n100%|██████████| 330/330 [00:11<00:00, 27.55it/s]\n100%|██████████| 215/215 [00:07<00:00, 28.73it/s]\n100%|██████████| 250/250 [00:08<00:00, 28.83it/s]\n  2%|▏         | 4/256 [00:00<00:07, 32.91it/s]Current test: ../Rodrigo-data/SEAT/csv-translated/sent-weat_03_en_nl.csv\n100%|██████████| 256/256 [00:08<00:00, 30.73it/s]\n100%|██████████| 256/256 [00:09<00:00, 27.28it/s]\n100%|██████████| 215/215 [00:07<00:00, 28.71it/s]\n100%|██████████| 249/249 [00:08<00:00, 28.73it/s]\n  2%|▏         | 3/195 [00:00<00:07, 26.88it/s]Current test: ../Rodrigo-data/SEAT/csv-translated/sent-weat_03b_en_nl.csv\n100%|██████████| 195/195 [00:07<00:00, 26.36it/s]\n100%|██████████| 195/195 [00:08<00:00, 24.34it/s]\n100%|██████████| 215/215 [00:07<00:00, 28.63it/s]\n100%|██████████| 249/249 [00:08<00:00, 28.57it/s]\n  3%|▎         | 4/128 [00:00<00:03, 32.97it/s]Current test: ../Rodrigo-data/SEAT/csv-translated/sent-weat_04_en_nl.csv\n100%|██████████| 128/128 [00:04<00:00, 29.96it/s]\n100%|██████████| 128/128 [00:04<00:00, 26.89it/s]\n100%|██████████| 215/215 [00:07<00:00, 28.73it/s]\n100%|██████████| 249/249 [00:08<00:00, 28.59it/s]\n  3%|▎         | 4/128 [00:00<00:03, 32.83it/s]Current test: ../Rodrigo-data/SEAT/csv-translated/sent-weat_05_en_nl.csv\n100%|██████████| 128/128 [00:04<00:00, 29.98it/s]\n100%|██████████| 128/128 [00:04<00:00, 26.81it/s]\n100%|██████████| 40/40 [00:01<00:00, 30.59it/s]\n100%|██████████| 47/47 [00:01<00:00, 30.11it/s]\n  2%|▏         | 3/195 [00:00<00:07, 26.60it/s]Current test: ../Rodrigo-data/SEAT/csv-translated/sent-weat_05b_en_nl.csv\n100%|██████████| 195/195 [00:07<00:00, 26.01it/s]\n100%|██████████| 195/195 [00:08<00:00, 24.36it/s]\n100%|██████████| 40/40 [00:01<00:00, 30.52it/s]\n100%|██████████| 47/47 [00:01<00:00, 29.89it/s]\n  6%|▋         | 4/64 [00:00<00:01, 32.57it/s]Current test: ../Rodrigo-data/SEAT/csv-translated/sent-weat_06_en_nl.csv\n100%|██████████| 64/64 [00:02<00:00, 31.25it/s]\n100%|██████████| 64/64 [00:02<00:00, 30.95it/s]\n100%|██████████| 101/101 [00:03<00:00, 28.46it/s]\n100%|██████████| 112/112 [00:03<00:00, 28.78it/s]\n  4%|▍         | 3/80 [00:00<00:02, 29.13it/s]Current test: ../Rodrigo-data/SEAT/csv-translated/sent-weat_06b_en_nl.csv\n100%|██████████| 80/80 [00:02<00:00, 29.12it/s]\n100%|██████████| 80/80 [00:02<00:00, 29.08it/s]\n100%|██████████| 101/101 [00:03<00:00, 28.83it/s]\n100%|██████████| 112/112 [00:03<00:00, 28.86it/s]\n  6%|▌         | 4/72 [00:00<00:02, 32.60it/s]Current test: ../Rodrigo-data/SEAT/csv-translated/sent-weat_07_en_nl.csv\n100%|██████████| 72/72 [00:02<00:00, 28.67it/s]\n100%|██████████| 72/72 [00:02<00:00, 28.89it/s]\n100%|██████████| 80/80 [00:02<00:00, 29.51it/s]\n100%|██████████| 80/80 [00:02<00:00, 29.23it/s]\n  6%|▌         | 4/72 [00:00<00:02, 32.90it/s]Current test: ../Rodrigo-data/SEAT/csv-translated/sent-weat_07b_en_nl.csv\n100%|██████████| 72/72 [00:02<00:00, 28.84it/s]\n100%|██████████| 72/72 [00:02<00:00, 29.23it/s]\n100%|██████████| 64/64 [00:02<00:00, 31.10it/s]\n100%|██████████| 64/64 [00:02<00:00, 30.91it/s]\n  7%|▋         | 4/56 [00:00<00:01, 32.86it/s]Current test: ../Rodrigo-data/SEAT/csv-translated/sent-weat_08_en_nl.csv\n100%|██████████| 56/56 [00:01<00:00, 30.55it/s]\n100%|██████████| 56/56 [00:01<00:00, 29.34it/s]\n100%|██████████| 80/80 [00:02<00:00, 29.16it/s]\n100%|██████████| 80/80 [00:02<00:00, 28.54it/s]\n  7%|▋         | 4/56 [00:00<00:01, 32.92it/s]Current test: ../Rodrigo-data/SEAT/csv-translated/sent-weat_08b_en_nl.csv\n100%|██████████| 56/56 [00:01<00:00, 30.47it/s]\n100%|██████████| 56/56 [00:01<00:00, 29.08it/s]\n100%|██████████| 64/64 [00:02<00:00, 31.19it/s]\n100%|██████████| 64/64 [00:02<00:00, 30.88it/s]\n 22%|██▏       | 4/18 [00:00<00:00, 32.66it/s]Current test: ../Rodrigo-data/SEAT/csv-translated/sent-weat_09_en_nl.csv\n100%|██████████| 18/18 [00:00<00:00, 31.76it/s]\n100%|██████████| 18/18 [00:00<00:00, 27.61it/s]\n100%|██████████| 21/21 [00:00<00:00, 27.64it/s]\n100%|██████████| 23/23 [00:00<00:00, 30.86it/s]\n  6%|▋         | 4/64 [00:00<00:01, 32.67it/s]Current test: ../Rodrigo-data/SEAT/csv-translated/sent-weat_10_en_nl.csv\n100%|██████████| 64/64 [00:02<00:00, 29.97it/s]\n100%|██████████| 64/64 [00:02<00:00, 28.11it/s]\n100%|██████████| 40/40 [00:01<00:00, 31.44it/s]\n100%|██████████| 47/47 [00:01<00:00, 29.95it/s]\n"
    }
   ],
   "source": [
    "k_dim_file = 10\n",
    "pairs_aumount = 30000\n",
    "#Get bias subspace\n",
    "file_bias_subspace = \"../Rodrigo-data/bias_subspace/bias_subspace_k\"+str(k_dim_file)+\"_nl_large\"+str(pairs_aumount)+\"k\"\n",
    "bias_dir = sen_debias.get_bias_direction(model_nl,tokenizer_nl,from_cache = True,filename_cache= file_bias_subspace)\n",
    "# SEAT test with debaised direction\n",
    "k_dim = 1    #from how many dim we want to debias\n",
    "out_results = 'Results_debiased/Bert_debiased_results_k'+str(k_dim)+'_from_'+str(pairs_aumount)+'_pairs_nl.csv' \n",
    "df_debiased = SEAT.Compute_SEAT(model_nl, tokenizer_nl, bias_dir = bias_dir, k_dimensions = k_dim,\n",
    "                                model_name = 'BERT_DEBIAS', output_results=out_results,\n",
    "                                cache_file=out_results, from_cache=False,from_cache_XYAB_=False)"
   ]
  },
  {
   "cell_type": "markdown",
   "metadata": {},
   "source": [
    "### Mean Effect Size"
   ]
  },
  {
   "cell_type": "code",
   "execution_count": 5,
   "metadata": {
    "tags": []
   },
   "outputs": [
    {
     "output_type": "stream",
     "name": "stdout",
     "text": "Mean effect size with 1 k-dim\n0.32206542069713273\n0.4679999999999999\n"
    }
   ],
   "source": [
    " mean_effect_size, mean_p_val = SEAT.get_means_results(df_debiased)\n",
    " print('Mean effect size with '+str(k_dim)+' k-dim')\n",
    " print(mean_effect_size)\n",
    " print(mean_p_val) "
   ]
  },
  {
   "cell_type": "markdown",
   "metadata": {},
   "source": [
    "### LaTeX Results"
   ]
  },
  {
   "cell_type": "code",
   "execution_count": 6,
   "metadata": {
    "tags": []
   },
   "outputs": [
    {
     "output_type": "stream",
     "name": "stdout",
     "text": "\\begin{table}[htb!]\n    \\begin{center}\n\n    \\begin{tabular}{|c|c|c|}\n    \\hline\n        SEAT list &  Effect size d &  Significance p \\\\\n       \\hline\n    SEAT-01 & $0.0333  \\rightarrow 0.0378$ & $0.32 \\rightarrow \\textbf{0.3300} $ \\\\\n \\hline\n SEAT-02 & $0.3201  \\rightarrow \\textbf{0.3149}$ & $0.01 \\rightarrow 0.0100 $ \\\\\n \\hline\n SEAT-03 & $0.0642  \\rightarrow \\textbf{0.0547}$ & $0.25 \\rightarrow \\textbf{0.3300} $ \\\\\n \\hline\n SEAT-03b & $0.2251  \\rightarrow 0.2276$ & $0.03 \\rightarrow 0.0100 $ \\\\\n \\hline\n SEAT-04 & $0.0748  \\rightarrow 0.0818$ & $0.25 \\rightarrow 0.2100 $ \\\\\n \\hline\n SEAT-05 & $0.1458  \\rightarrow 0.1571$ & $0.08 \\rightarrow \\textbf{0.1000} $ \\\\\n \\hline\n SEAT-05b & $0.3446  \\rightarrow 0.3457$ & $0.0 \\rightarrow 0.0000 $ \\\\\n \\hline\n SEAT-06 & $0.6661  \\rightarrow \\textbf{0.614}$ & $0.01 \\rightarrow 0.0100 $ \\\\\n \\hline\n SEAT-06b & $0.3492  \\rightarrow \\textbf{0.2942}$ & $0.02 \\rightarrow \\textbf{0.0300} $ \\\\\n \\hline\n SEAT-07 & $0.6297  \\rightarrow \\textbf{0.5875}$ & $0.01 \\rightarrow 0.0100 $ \\\\\n \\hline\n SEAT-07b & $0.6134  \\rightarrow \\textbf{0.6046}$ & $0.01 \\rightarrow 0.0100 $ \\\\\n \\hline\n SEAT-08 & $0.0891  \\rightarrow 0.1136$ & $0.31 \\rightarrow 0.2900 $ \\\\\n \\hline\n SEAT-08b & $0.286  \\rightarrow 0.2944$ & $0.06 \\rightarrow \\textbf{0.0900} $ \\\\\n \\hline\n SEAT-09 & $0.5053  \\rightarrow 0.5068$ & $0.09 \\rightarrow \\textbf{0.1100} $ \\\\\n \\hline\n SEAT-10 & $0.606  \\rightarrow \\textbf{0.5961}$ & $0.0 \\rightarrow 0.0000 $ \\\\\n \\hline\n  \\end{tabular}\n     \\caption{BERTJe SEAT results, arrow indicates before to after mitigating bias}\n\n\\label{tab2}\n\\end{center}\n\\end{table} \n"
    }
   ],
   "source": [
    "latex_bert = utils_r.create_latex_table(df_biased,df_debiased)\n",
    "print(latex_bert)"
   ]
  }
 ],
 "metadata": {
  "language_info": {
   "codemirror_mode": {
    "name": "ipython",
    "version": 3
   },
   "file_extension": ".py",
   "mimetype": "text/x-python",
   "name": "python",
   "nbconvert_exporter": "python",
   "pygments_lexer": "ipython3",
   "version": "3.6.5-final"
  },
  "orig_nbformat": 2,
  "kernelspec": {
   "name": "python36564bitpytorchp36conda14e9f2ec2c1644a58673c19beabaa9b5",
   "display_name": "Python 3.6.5 64-bit ('pytorch_p36': conda)"
  }
 },
 "nbformat": 4,
 "nbformat_minor": 2
}