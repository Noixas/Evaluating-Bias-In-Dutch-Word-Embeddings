{
 "cells": [
  {
   "cell_type": "markdown",
   "metadata": {},
   "source": [
    "# Debias BERTJe"
   ]
  },
  {
   "cell_type": "code",
   "execution_count": 21,
   "metadata": {
    "tags": []
   },
   "outputs": [],
   "source": [
    "# import torch\n",
    "%load_ext autoreload\n",
    "# assert(1==2) #dont use\n",
    "#dont use\n",
    "%autoreload 2\n",
    "from transformers import *\n",
    "import numpy as np\n",
    "import pandas as pd\n",
    "import os\n",
    "import SEAT\n",
    "import Utils_R as utils_r\n",
    "import Debias_Sentences as sen_debias"
   ]
  },
  {
   "cell_type": "markdown",
   "metadata": {},
   "source": [
    "# Main process steps "
   ]
  },
  {
   "cell_type": "markdown",
   "metadata": {},
   "source": [
    "# Debias BERT Steps\n",
    "\n",
    "1. Initialize BERT\n",
    "2. Get Gender Direction\n",
    "    1. Get lists of pair sentences. (e.g. HE is smart, SHE is smart).\n",
    "    2. Get embeddings on pair list.\n",
    "    3. Normalize embeddings.\n",
    "    4. Get component 0 of PCA(pairs_list).\n",
    "    5. return that component 0.\n",
    "3. Debias some sentences\n",
    "    1. Get sentence embeddings\n",
    "    2. Normalize embeddings\n",
    "    3. Use drop method with gender Direction\n",
    "    4. Normalize again\n",
    "4. Perform SEAT (same as step 3 but sentences are from seat)"
   ]
  },
  {
   "cell_type": "code",
   "execution_count": 2,
   "metadata": {},
   "outputs": [],
   "source": [
    "tokenizer_nl = RobertaTokenizer.from_pretrained(\"pdelobelle/robBERT-base\")\n",
    "model_nl = RobertaModel.from_pretrained(\"pdelobelle/robBERT-base\")\n",
    "dir_results = '../Rodrigo-data/Results/'"
   ]
  },
  {
   "cell_type": "markdown",
   "metadata": {},
   "source": [
    "# Biased"
   ]
  },
  {
   "cell_type": "code",
   "execution_count": 3,
   "metadata": {
    "tags": []
   },
   "outputs": [
    {
     "output_type": "stream",
     "name": "stderr",
     "text": "0%|          | 1/350 [00:00<00:43,  7.96it/s]Current test: ../Rodrigo-data/SEAT/csv-translated/sent-weat_01_en_nl.csv\n100%|██████████| 350/350 [00:20<00:00, 17.13it/s]\n100%|██████████| 350/350 [00:14<00:00, 24.69it/s]\n100%|██████████| 215/215 [00:08<00:00, 24.90it/s]\n100%|██████████| 250/250 [00:10<00:00, 24.69it/s]\n  1%|          | 2/330 [00:00<00:20, 15.63it/s]Current test: ../Rodrigo-data/SEAT/csv-translated/sent-weat_02_en_nl.csv\n100%|██████████| 330/330 [00:14<00:00, 22.81it/s]\n100%|██████████| 330/330 [00:13<00:00, 25.11it/s]\n100%|██████████| 215/215 [00:08<00:00, 24.95it/s]\n100%|██████████| 250/250 [00:10<00:00, 24.73it/s]\n  2%|▏         | 4/256 [00:00<00:07, 32.34it/s]Current test: ../Rodrigo-data/SEAT/csv-translated/sent-weat_03_en_nl.csv\n100%|██████████| 256/256 [00:08<00:00, 29.68it/s]\n100%|██████████| 256/256 [00:09<00:00, 27.24it/s]\n100%|██████████| 215/215 [00:08<00:00, 24.89it/s]\n100%|██████████| 249/249 [00:09<00:00, 24.99it/s]\n  2%|▏         | 3/195 [00:00<00:09, 21.17it/s]Current test: ../Rodrigo-data/SEAT/csv-translated/sent-weat_03b_en_nl.csv\n100%|██████████| 195/195 [00:09<00:00, 21.02it/s]\n100%|██████████| 195/195 [00:09<00:00, 20.57it/s]\n100%|██████████| 215/215 [00:08<00:00, 25.04it/s]\n100%|██████████| 249/249 [00:09<00:00, 25.10it/s]\n  3%|▎         | 4/128 [00:00<00:03, 32.76it/s]Current test: ../Rodrigo-data/SEAT/csv-translated/sent-weat_04_en_nl.csv\n100%|██████████| 128/128 [00:04<00:00, 29.49it/s]\n100%|██████████| 128/128 [00:04<00:00, 26.98it/s]\n100%|██████████| 215/215 [00:08<00:00, 24.86it/s]\n100%|██████████| 249/249 [00:10<00:00, 24.89it/s]\n  3%|▎         | 4/128 [00:00<00:03, 32.13it/s]Current test: ../Rodrigo-data/SEAT/csv-translated/sent-weat_05_en_nl.csv\n100%|██████████| 128/128 [00:04<00:00, 29.51it/s]\n100%|██████████| 128/128 [00:04<00:00, 27.16it/s]\n100%|██████████| 40/40 [00:01<00:00, 26.76it/s]\n100%|██████████| 47/47 [00:01<00:00, 24.77it/s]\n  2%|▏         | 3/195 [00:00<00:09, 20.96it/s]Current test: ../Rodrigo-data/SEAT/csv-translated/sent-weat_05b_en_nl.csv\n100%|██████████| 195/195 [00:09<00:00, 20.93it/s]\n100%|██████████| 195/195 [00:09<00:00, 20.41it/s]\n100%|██████████| 40/40 [00:01<00:00, 26.17it/s]\n100%|██████████| 47/47 [00:01<00:00, 24.64it/s]\n  6%|▋         | 4/64 [00:00<00:01, 32.46it/s]Current test: ../Rodrigo-data/SEAT/csv-translated/sent-weat_06_en_nl.csv\n100%|██████████| 64/64 [00:02<00:00, 30.02it/s]\n100%|██████████| 64/64 [00:02<00:00, 29.48it/s]\n100%|██████████| 101/101 [00:04<00:00, 24.34it/s]\n100%|██████████| 112/112 [00:04<00:00, 24.67it/s]\n  4%|▍         | 3/80 [00:00<00:03, 25.26it/s]Current test: ../Rodrigo-data/SEAT/csv-translated/sent-weat_06b_en_nl.csv\n100%|██████████| 80/80 [00:03<00:00, 26.52it/s]\n100%|██████████| 80/80 [00:03<00:00, 25.13it/s]\n100%|██████████| 101/101 [00:04<00:00, 24.33it/s]\n100%|██████████| 112/112 [00:04<00:00, 24.84it/s]\n  4%|▍         | 3/72 [00:00<00:02, 26.29it/s]Current test: ../Rodrigo-data/SEAT/csv-translated/sent-weat_07_en_nl.csv\n100%|██████████| 72/72 [00:03<00:00, 23.97it/s]\n100%|██████████| 72/72 [00:02<00:00, 25.63it/s]\n100%|██████████| 80/80 [00:03<00:00, 26.19it/s]\n100%|██████████| 80/80 [00:03<00:00, 25.06it/s]\n  4%|▍         | 3/72 [00:00<00:02, 26.81it/s]Current test: ../Rodrigo-data/SEAT/csv-translated/sent-weat_07b_en_nl.csv\n100%|██████████| 72/72 [00:02<00:00, 24.49it/s]\n100%|██████████| 72/72 [00:02<00:00, 25.72it/s]\n100%|██████████| 64/64 [00:02<00:00, 30.42it/s]\n100%|██████████| 64/64 [00:02<00:00, 29.52it/s]\n  5%|▌         | 3/56 [00:00<00:02, 26.09it/s]Current test: ../Rodrigo-data/SEAT/csv-translated/sent-weat_08_en_nl.csv\n100%|██████████| 56/56 [00:02<00:00, 26.40it/s]\n100%|██████████| 56/56 [00:02<00:00, 25.82it/s]\n100%|██████████| 80/80 [00:03<00:00, 26.36it/s]\n100%|██████████| 80/80 [00:03<00:00, 26.02it/s]\n  5%|▌         | 3/56 [00:00<00:01, 26.67it/s]Current test: ../Rodrigo-data/SEAT/csv-translated/sent-weat_08b_en_nl.csv\n100%|██████████| 56/56 [00:02<00:00, 26.54it/s]\n100%|██████████| 56/56 [00:02<00:00, 26.19it/s]\n100%|██████████| 64/64 [00:02<00:00, 30.20it/s]\n100%|██████████| 64/64 [00:02<00:00, 29.53it/s]\n 17%|█▋        | 3/18 [00:00<00:00, 26.48it/s]Current test: ../Rodrigo-data/SEAT/csv-translated/sent-weat_09_en_nl.csv\n100%|██████████| 18/18 [00:00<00:00, 27.49it/s]\n100%|██████████| 18/18 [00:00<00:00, 25.21it/s]\n100%|██████████| 21/21 [00:00<00:00, 25.51it/s]\n100%|██████████| 23/23 [00:00<00:00, 27.10it/s]\n  6%|▋         | 4/64 [00:00<00:01, 32.79it/s]Current test: ../Rodrigo-data/SEAT/csv-translated/sent-weat_10_en_nl.csv\n100%|██████████| 64/64 [00:02<00:00, 29.13it/s]\n100%|██████████| 64/64 [00:02<00:00, 27.66it/s]\n100%|██████████| 40/40 [00:01<00:00, 26.64it/s]\n100%|██████████| 47/47 [00:01<00:00, 24.34it/s]\n"
    }
   ],
   "source": [
    "df_biased = SEAT.Compute_SEAT(model_nl, tokenizer_nl, model_name = 'ROBBERT_BIAS',output_results='dutch_biased_robbert.csv',from_cache=False,from_cache_XYAB_=False)"
   ]
  },
  {
   "cell_type": "markdown",
   "metadata": {},
   "source": [
    "# Debiased"
   ]
  },
  {
   "cell_type": "code",
   "execution_count": 4,
   "metadata": {
    "tags": []
   },
   "outputs": [
    {
     "output_type": "stream",
     "name": "stderr",
     "text": "1%|          | 3/350 [00:00<00:12, 28.10it/s]Current test: ../Rodrigo-data/SEAT/csv-translated/sent-weat_01_en_nl.csv\n100%|██████████| 350/350 [00:14<00:00, 24.23it/s]\n100%|██████████| 350/350 [00:14<00:00, 24.68it/s]\n100%|██████████| 215/215 [00:08<00:00, 24.74it/s]\n100%|██████████| 250/250 [00:10<00:00, 24.65it/s]\n  1%|          | 3/330 [00:00<00:15, 21.66it/s]Current test: ../Rodrigo-data/SEAT/csv-translated/sent-weat_02_en_nl.csv\n100%|██████████| 330/330 [00:13<00:00, 24.88it/s]\n100%|██████████| 330/330 [00:13<00:00, 25.08it/s]\n100%|██████████| 215/215 [00:08<00:00, 24.86it/s]\n100%|██████████| 250/250 [00:10<00:00, 24.66it/s]\n  2%|▏         | 4/256 [00:00<00:07, 32.61it/s]Current test: ../Rodrigo-data/SEAT/csv-translated/sent-weat_03_en_nl.csv\n100%|██████████| 256/256 [00:08<00:00, 29.75it/s]\n100%|██████████| 256/256 [00:09<00:00, 27.25it/s]\n100%|██████████| 215/215 [00:08<00:00, 24.86it/s]\n100%|██████████| 249/249 [00:09<00:00, 25.06it/s]\n  2%|▏         | 3/195 [00:00<00:09, 21.15it/s]Current test: ../Rodrigo-data/SEAT/csv-translated/sent-weat_03b_en_nl.csv\n100%|██████████| 195/195 [00:09<00:00, 21.03it/s]\n100%|██████████| 195/195 [00:09<00:00, 20.56it/s]\n100%|██████████| 215/215 [00:08<00:00, 24.96it/s]\n100%|██████████| 249/249 [00:09<00:00, 24.97it/s]\n  3%|▎         | 4/128 [00:00<00:03, 32.72it/s]Current test: ../Rodrigo-data/SEAT/csv-translated/sent-weat_04_en_nl.csv\n100%|██████████| 128/128 [00:04<00:00, 29.33it/s]\n100%|██████████| 128/128 [00:04<00:00, 26.84it/s]\n100%|██████████| 215/215 [00:08<00:00, 24.94it/s]\n100%|██████████| 249/249 [00:10<00:00, 24.86it/s]\n  3%|▎         | 4/128 [00:00<00:03, 31.74it/s]Current test: ../Rodrigo-data/SEAT/csv-translated/sent-weat_05_en_nl.csv\n100%|██████████| 128/128 [00:04<00:00, 29.33it/s]\n100%|██████████| 128/128 [00:04<00:00, 26.95it/s]\n100%|██████████| 40/40 [00:01<00:00, 26.54it/s]\n100%|██████████| 47/47 [00:01<00:00, 24.49it/s]\n  2%|▏         | 3/195 [00:00<00:09, 20.92it/s]Current test: ../Rodrigo-data/SEAT/csv-translated/sent-weat_05b_en_nl.csv\n100%|██████████| 195/195 [00:09<00:00, 20.87it/s]\n100%|██████████| 195/195 [00:09<00:00, 20.50it/s]\n100%|██████████| 40/40 [00:01<00:00, 26.28it/s]\n100%|██████████| 47/47 [00:01<00:00, 24.77it/s]\n  6%|▋         | 4/64 [00:00<00:01, 32.77it/s]Current test: ../Rodrigo-data/SEAT/csv-translated/sent-weat_06_en_nl.csv\n100%|██████████| 64/64 [00:02<00:00, 30.41it/s]\n100%|██████████| 64/64 [00:02<00:00, 29.79it/s]\n100%|██████████| 101/101 [00:04<00:00, 24.24it/s]\n100%|██████████| 112/112 [00:04<00:00, 24.62it/s]\n  4%|▍         | 3/80 [00:00<00:03, 25.02it/s]Current test: ../Rodrigo-data/SEAT/csv-translated/sent-weat_06b_en_nl.csv\n100%|██████████| 80/80 [00:03<00:00, 26.20it/s]\n100%|██████████| 80/80 [00:03<00:00, 25.04it/s]\n100%|██████████| 101/101 [00:04<00:00, 24.27it/s]\n100%|██████████| 112/112 [00:04<00:00, 24.68it/s]\n  4%|▍         | 3/72 [00:00<00:02, 26.09it/s]Current test: ../Rodrigo-data/SEAT/csv-translated/sent-weat_07_en_nl.csv\n100%|██████████| 72/72 [00:02<00:00, 24.29it/s]\n100%|██████████| 72/72 [00:02<00:00, 25.62it/s]\n100%|██████████| 80/80 [00:03<00:00, 26.10it/s]\n100%|██████████| 80/80 [00:03<00:00, 25.00it/s]\n  4%|▍         | 3/72 [00:00<00:02, 26.55it/s]Current test: ../Rodrigo-data/SEAT/csv-translated/sent-weat_07b_en_nl.csv\n100%|██████████| 72/72 [00:02<00:00, 24.29it/s]\n100%|██████████| 72/72 [00:02<00:00, 25.53it/s]\n100%|██████████| 64/64 [00:02<00:00, 30.20it/s]\n100%|██████████| 64/64 [00:02<00:00, 29.11it/s]\n  5%|▌         | 3/56 [00:00<00:01, 26.63it/s]Current test: ../Rodrigo-data/SEAT/csv-translated/sent-weat_08_en_nl.csv\n100%|██████████| 56/56 [00:02<00:00, 26.14it/s]\n100%|██████████| 56/56 [00:02<00:00, 25.80it/s]\n100%|██████████| 80/80 [00:03<00:00, 26.34it/s]\n100%|██████████| 80/80 [00:03<00:00, 26.06it/s]\n  5%|▌         | 3/56 [00:00<00:02, 26.33it/s]Current test: ../Rodrigo-data/SEAT/csv-translated/sent-weat_08b_en_nl.csv\n100%|██████████| 56/56 [00:02<00:00, 26.42it/s]\n100%|██████████| 56/56 [00:02<00:00, 26.22it/s]\n100%|██████████| 64/64 [00:02<00:00, 30.29it/s]\n100%|██████████| 64/64 [00:02<00:00, 29.77it/s]\n 17%|█▋        | 3/18 [00:00<00:00, 26.47it/s]Current test: ../Rodrigo-data/SEAT/csv-translated/sent-weat_09_en_nl.csv\n100%|██████████| 18/18 [00:00<00:00, 27.49it/s]\n100%|██████████| 18/18 [00:00<00:00, 24.38it/s]\n100%|██████████| 21/21 [00:00<00:00, 25.55it/s]\n100%|██████████| 23/23 [00:00<00:00, 27.01it/s]\n  6%|▋         | 4/64 [00:00<00:01, 32.54it/s]Current test: ../Rodrigo-data/SEAT/csv-translated/sent-weat_10_en_nl.csv\n100%|██████████| 64/64 [00:02<00:00, 28.77it/s]\n100%|██████████| 64/64 [00:02<00:00, 27.64it/s]\n100%|██████████| 40/40 [00:01<00:00, 26.38it/s]\n100%|██████████| 47/47 [00:01<00:00, 24.85it/s]\n"
    }
   ],
   "source": [
    "k_dim_file = 50\n",
    "pairs_aumount = 30000\n",
    "#Get bias subspace\n",
    "file_bias_subspace = \"../Rodrigo-data/bias_subspace/Robbert_ForFinetune-bias_subspace_k50_nl_large30000k\"\n",
    "bias_dir = sen_debias.get_bias_direction(model_nl,tokenizer_nl,from_cache = True,filename_cache= file_bias_subspace)\n",
    "# SEAT test with debaised direction\n",
    "k_dim = 1    #from how many dim we want to debias\n",
    "out_results = 'Results_debiased/RobBert_new_debiased_results_k'+str(k_dim)+'_from_'+str(pairs_aumount)+'_pairs_nl.csv' \n",
    "df_debiased = SEAT.Compute_SEAT(model_nl, tokenizer_nl, bias_dir = bias_dir, k_dimensions = k_dim,\n",
    "                                model_name = 'ROBBERT_DEBIAS', output_results=out_results,\n",
    "                                cache_file=out_results, from_cache=False,from_cache_XYAB_=False)"
   ]
  },
  {
   "cell_type": "markdown",
   "metadata": {},
   "source": [
    "### Mean Effect Size"
   ]
  },
  {
   "cell_type": "code",
   "execution_count": 5,
   "metadata": {
    "tags": []
   },
   "outputs": [
    {
     "output_type": "stream",
     "name": "stdout",
     "text": "Mean effect size with 1 k-dim\n0.3025721887747447\n0.5066666666666666\n"
    }
   ],
   "source": [
    " mean_effect_size, mean_p_val = SEAT.get_means_results(df_debiased)\n",
    " print('Mean effect size with '+str(k_dim)+' k-dim')\n",
    " print(mean_effect_size)\n",
    " print(mean_p_val) "
   ]
  },
  {
   "cell_type": "markdown",
   "metadata": {},
   "source": [
    "### LaTeX Results"
   ]
  },
  {
   "cell_type": "code",
   "execution_count": 23,
   "metadata": {
    "tags": []
   },
   "outputs": [
    {
     "output_type": "stream",
     "name": "stdout",
     "text": "\\begin{table}[htb!]\n    \\begin{center}\n\n    \\begin{tabular}{|c|c|c|}\n    \\hline\n        SEAT list &  Effect size d &  Significance p \\\\\n       \\hline\n    SEAT-01 & $-0.2045  \\rightarrow \\textbf{-0.2114}$ & $0.0 \\rightarrow 0.0000 $ \\\\\n \\hline\n SEAT-02 & $0.1307  \\rightarrow 0.1343$ & $0.04 \\rightarrow 0.0400 $ \\\\\n \\hline\n SEAT-03 & $0.1193  \\rightarrow \\textbf{0.0932}$ & $0.09 \\rightarrow \\textbf{0.2000} $ \\\\\n \\hline\n SEAT-03b & $0.0254  \\rightarrow 0.032$ & $0.41 \\rightarrow 0.2600 $ \\\\\n \\hline\n SEAT-04 & $0.0714  \\rightarrow \\textbf{0.0673}$ & $0.32 \\rightarrow 0.2200 $ \\\\\n \\hline\n SEAT-05 & $0.6794  \\rightarrow \\textbf{0.6756}$ & $0.01 \\rightarrow 0.0100 $ \\\\\n \\hline\n SEAT-05b & $0.0978  \\rightarrow 0.1014$ & $0.14 \\rightarrow 0.1000 $ \\\\\n \\hline\n SEAT-06 & $-0.1914  \\rightarrow -0.1904$ & $0.12 \\rightarrow \\textbf{0.1800} $ \\\\\n \\hline\n SEAT-06b & $-0.5519  \\rightarrow \\textbf{-0.5846}$ & $0.0 \\rightarrow 0.0000 $ \\\\\n \\hline\n SEAT-07 & $-0.3308  \\rightarrow -0.2518$ & $0.03 \\rightarrow \\textbf{0.0800} $ \\\\\n \\hline\n SEAT-07b & $-0.6829  \\rightarrow -0.6689$ & $0.0 \\rightarrow 0.0000 $ \\\\\n \\hline\n SEAT-08 & $0.0796  \\rightarrow 0.1045$ & $0.33 \\rightarrow 0.3100 $ \\\\\n \\hline\n SEAT-08b & $-0.1571  \\rightarrow -0.1485$ & $0.26 \\rightarrow 0.2600 $ \\\\\n \\hline\n SEAT-09 & $-0.634  \\rightarrow \\textbf{-0.6381}$ & $0.04 \\rightarrow 0.0300 $ \\\\\n \\hline\n SEAT-10 & $0.6422  \\rightarrow \\textbf{0.6365}$ & $0.01 \\rightarrow 0.0100 $ \\\\\n \\hline\n  \\end{tabular}\n     \\caption{BERTJe SEAT results, arrow indicates before to after mitigating bias}\n\n\\label{tab2}\n\\end{center}\n\\end{table} \n"
    }
   ],
   "source": [
    "latex_bert = utils_r.create_latex_table(df_biased,df_debiased)\n",
    "print(latex_bert)"
   ]
  },
  {
   "cell_type": "code",
   "execution_count": 24,
   "metadata": {},
   "outputs": [],
   "source": [
    "import Utils_R_DELETEIFYOUSEETHIS_TEMPFILE as ut_3"
   ]
  },
  {
   "cell_type": "code",
   "execution_count": 25,
   "metadata": {
    "tags": []
   },
   "outputs": [
    {
     "output_type": "stream",
     "name": "stdout",
     "text": "\\begin{table}[htb!]\n    \\begin{center}\n\n    \\begin{tabular}{|c|c|c|}\n    \\hline\n        SEAT list &  Effect size d &  Significance p \\\\\n       \\hline\n    SEAT-01 & $0.2045  \\rightarrow 0.2114$ & $0.0 \\rightarrow 0.0000 $ \\\\\n \\hline\n SEAT-02 & $0.1307  \\rightarrow 0.1343$ & $0.04 \\rightarrow 0.0400 $ \\\\\n \\hline\n SEAT-03 & $0.1193  \\rightarrow \\textbf{0.0932}$ & $0.09 \\rightarrow \\textbf{0.2000} $ \\\\\n \\hline\n SEAT-03b & $0.0254  \\rightarrow 0.032$ & $0.41 \\rightarrow 0.2600 $ \\\\\n \\hline\n SEAT-04 & $0.0714  \\rightarrow \\textbf{0.0673}$ & $0.32 \\rightarrow 0.2200 $ \\\\\n \\hline\n SEAT-05 & $0.6794  \\rightarrow \\textbf{0.6756}$ & $0.01 \\rightarrow 0.0100 $ \\\\\n \\hline\n SEAT-05b & $0.0978  \\rightarrow 0.1014$ & $0.14 \\rightarrow 0.1000 $ \\\\\n \\hline\n SEAT-06 & $0.1914  \\rightarrow \\textbf{0.1904}$ & $0.12 \\rightarrow \\textbf{0.1800} $ \\\\\n \\hline\n SEAT-06b & $0.5519  \\rightarrow 0.5846$ & $0.0 \\rightarrow 0.0000 $ \\\\\n \\hline\n SEAT-07 & $0.3308  \\rightarrow \\textbf{0.2518}$ & $0.03 \\rightarrow \\textbf{0.0800} $ \\\\\n \\hline\n SEAT-07b & $0.6829  \\rightarrow \\textbf{0.6689}$ & $0.0 \\rightarrow 0.0000 $ \\\\\n \\hline\n SEAT-08 & $0.0796  \\rightarrow 0.1045$ & $0.33 \\rightarrow 0.3100 $ \\\\\n \\hline\n SEAT-08b & $0.1571  \\rightarrow \\textbf{0.1485}$ & $0.26 \\rightarrow 0.2600 $ \\\\\n \\hline\n SEAT-09 & $0.634  \\rightarrow 0.6381$ & $0.04 \\rightarrow 0.0300 $ \\\\\n \\hline\n SEAT-10 & $0.6422  \\rightarrow \\textbf{0.6365}$ & $0.01 \\rightarrow 0.0100 $ \\\\\n \\hline\n  \\end{tabular}\n     \\caption{BERTJe SEAT results, arrow indicates before to after mitigating bias}\n\n\\label{tab2}\n\\end{center}\n\\end{table} \n"
    }
   ],
   "source": [
    "latex_bert = ut_3.create_latex_table(df_biased,df_debiased)\n",
    "print(latex_bert)"
   ]
  }
 ],
 "metadata": {
  "language_info": {
   "codemirror_mode": {
    "name": "ipython",
    "version": 3
   },
   "file_extension": ".py",
   "mimetype": "text/x-python",
   "name": "python",
   "nbconvert_exporter": "python",
   "pygments_lexer": "ipython3",
   "version": "3.6.5-final"
  },
  "orig_nbformat": 2,
  "kernelspec": {
   "name": "python36564bitpytorchp36conda14e9f2ec2c1644a58673c19beabaa9b5",
   "display_name": "Python 3.6.5 64-bit ('pytorch_p36': conda)"
  }
 },
 "nbformat": 4,
 "nbformat_minor": 2
}